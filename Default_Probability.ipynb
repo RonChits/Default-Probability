{
  "nbformat": 4,
  "nbformat_minor": 0,
  "metadata": {
    "colab": {
      "provenance": [],
      "toc_visible": true,
      "authorship_tag": "ABX9TyNoyPzX8SHUudnbIJ4+x1TH",
      "include_colab_link": true
    },
    "kernelspec": {
      "name": "python3",
      "display_name": "Python 3"
    },
    "language_info": {
      "name": "python"
    }
  },
  "cells": [
    {
      "cell_type": "markdown",
      "metadata": {
        "id": "view-in-github",
        "colab_type": "text"
      },
      "source": [
        "<a href=\"https://colab.research.google.com/github/RonChits/Default-Probability/blob/main/Default_Probability.ipynb\" target=\"_parent\"><img src=\"https://colab.research.google.com/assets/colab-badge.svg\" alt=\"Open In Colab\"/></a>"
      ]
    },
    {
      "cell_type": "markdown",
      "source": [
        "# Data importing."
      ],
      "metadata": {
        "id": "KJi0c-8eF7Nd"
      }
    },
    {
      "cell_type": "markdown",
      "source": [
        ">Modules to be used."
      ],
      "metadata": {
        "id": "AWkydQpwGFS_"
      }
    },
    {
      "cell_type": "code",
      "source": [
        "import pandas as pd\n",
        "import numpy as np\n",
        "import re\n",
        "import nest_asyncio\n",
        "import xgboost\n",
        "# import uvicorn\n",
        "# import category_encoders as ce\n",
        "# import seaborn as sns\n",
        "# import nominatim\n",
        "import geopy\n",
        "import string\n",
        "import pickle\n",
        "import requests\n",
        "import matplotlib.pyplot as plt\n",
        "import seaborn as sns\n",
        "\n",
        "import imblearn\n",
        "# sampling techniques.\n",
        "from imblearn.under_sampling import RandomUnderSampler\n",
        "from imblearn.over_sampling import RandomOverSampler, SMOTE\n",
        "\n",
        "# classifiers.\n",
        "from xgboost import XGBClassifier\n",
        "from sklearn.linear_model import LogisticRegression\n",
        "from sklearn.neighbors import KNeighborsClassifier\n",
        "from sklearn.svm import SVC\n",
        "from sklearn.tree import DecisionTreeClassifier\n",
        "from sklearn.ensemble import RandomForestClassifier\n",
        "\n",
        "# transformers.\n",
        "from sklearn.preprocessing import StandardScaler,  OneHotEncoder, LabelEncoder, FunctionTransformer\n",
        "\n",
        "# metrics\n",
        "from sklearn.model_selection import train_test_split, GridSearchCV, cross_val_score\n",
        "from sklearn.metrics import roc_auc_score, accuracy_score, ConfusionMatrixDisplay,precision_score, f1_score, roc_curve , auc, confusion_matrix\n",
        "from sklearn.pipeline import Pipeline, make_pipeline\n",
        "\n",
        "#http communications.\n",
        "# from fastapi import FastAPI , Body, HTTPException, Request, status\n",
        "# from fastapi.encoders import jsonable_encoder\n",
        "# from fastapi.exceptions import RequestValidationError\n",
        "# from fastapi.responses import JSONResponse\n",
        "\n",
        "# extras.\n",
        "import plotly.express as px\n",
        "from geopy.geocoders import Nominatim\n",
        "from geopy.extra.rate_limiter import RateLimiter\n",
        "from pydantic import BaseModel\n",
        "from tabulate import tabulate\n",
        "import dill\n",
        "import tensorflow as tf\n",
        "from tensorflow import keras\n",
        "from tensorflow.keras import layers\n",
        "from sklearn.utils.class_weight import compute_class_weight\n",
        "from tensorflow.keras.models import Sequential\n",
        "from tensorflow.keras.layers import Dense\n",
        "from tensorflow.keras.optimizers import Adam\n",
        "from sklearn.model_selection import StratifiedKFold, cross_val_score\n",
        "import numpy as np\n",
        "from tensorflow.keras.callbacks import EarlyStopping\n",
        "from tensorflow.keras.layers import Dropout, BatchNormalization"
      ],
      "metadata": {
        "id": "SgxhiOKGF9zz"
      },
      "execution_count": 4,
      "outputs": []
    },
    {
      "cell_type": "markdown",
      "source": [
        "### Assigning to dataframe csv to df.\n",
        "\n",
        "---"
      ],
      "metadata": {
        "id": "592jyrmAGYBr"
      }
    },
    {
      "cell_type": "code",
      "source": [
        "df = pd.read_csv(\"data_science_competition_2024.csv\", index_col=0)"
      ],
      "metadata": {
        "id": "3k82Jml_HBZE"
      },
      "execution_count": 5,
      "outputs": []
    },
    {
      "cell_type": "markdown",
      "source": [
        "---\n",
        ">Gaining a basic understanding of the structure and content of our dataframe, which is essential for further data exploration and analysis."
      ],
      "metadata": {
        "id": "MRMIeV-KHODF"
      }
    },
    {
      "cell_type": "code",
      "source": [
        "df.info()\n",
        "df.shape"
      ],
      "metadata": {
        "colab": {
          "base_uri": "https://localhost:8080/"
        },
        "id": "UUfc6rQMHPR7",
        "outputId": "9c7b8dc6-4366-4561-952f-07364b982cf6"
      },
      "execution_count": 6,
      "outputs": [
        {
          "output_type": "stream",
          "name": "stdout",
          "text": [
            "<class 'pandas.core.frame.DataFrame'>\n",
            "Index: 100000 entries, 0 to 99999\n",
            "Data columns (total 20 columns):\n",
            " #   Column                Non-Null Count   Dtype  \n",
            "---  ------                --------------   -----  \n",
            " 0   loan_id               100000 non-null  object \n",
            " 1   gender                100000 non-null  object \n",
            " 2   disbursemet_date      100000 non-null  object \n",
            " 3   currency              100000 non-null  object \n",
            " 4   country               99900 non-null   object \n",
            " 5   sex                   100000 non-null  object \n",
            " 6   is_employed           100000 non-null  bool   \n",
            " 7   job                   95864 non-null   object \n",
            " 8   location              99405 non-null   object \n",
            " 9   loan_amount           100000 non-null  float64\n",
            " 10  number_of_defaults    100000 non-null  int64  \n",
            " 11  outstanding_balance   100000 non-null  float64\n",
            " 12  interest_rate         100000 non-null  float64\n",
            " 13  age                   100000 non-null  int64  \n",
            " 14  number_of_defaults.1  100000 non-null  int64  \n",
            " 15  remaining term        100000 non-null  object \n",
            " 16  salary                100000 non-null  float64\n",
            " 17  marital_status        100000 non-null  object \n",
            " 18  age.1                 100000 non-null  int64  \n",
            " 19  Loan Status           100000 non-null  object \n",
            "dtypes: bool(1), float64(4), int64(4), object(11)\n",
            "memory usage: 15.4+ MB\n"
          ]
        },
        {
          "output_type": "execute_result",
          "data": {
            "text/plain": [
              "(100000, 20)"
            ]
          },
          "metadata": {},
          "execution_count": 6
        }
      ]
    },
    {
      "cell_type": "markdown",
      "source": [
        ">"
      ],
      "metadata": {
        "id": "VFto5V09HYlY"
      }
    },
    {
      "cell_type": "markdown",
      "source": [
        "---\n",
        ">Gaining a basic understanding of the structure and content of our dataframe, which is essential for further data exploration and analysis."
      ],
      "metadata": {
        "id": "VunjAVtkHdyt"
      }
    },
    {
      "cell_type": "code",
      "source": [
        "df.head(5)"
      ],
      "metadata": {
        "colab": {
          "base_uri": "https://localhost:8080/",
          "height": 487
        },
        "id": "l1Zia6JJHTOT",
        "outputId": "b090d094-6036-456b-8ecd-283dc9447283"
      },
      "execution_count": 7,
      "outputs": [
        {
          "output_type": "execute_result",
          "data": {
            "text/plain": [
              "                                loan_id  gender disbursemet_date currency  \\\n",
              "0  8d05de78-ff32-46b1-aeb5-b3190f9c158a  female       2022 10 29      USD   \n",
              "1  368bf756-fcf2-4822-9612-f445d90b485b   other       2020 06 06      USD   \n",
              "2  6e3be39e-49b5-45b5-aab6-c6556de53c6f   other       2023 09 29      USD   \n",
              "3  191c62f8-2211-49fe-ba91-43556b307871  female       2022 06 22      USD   \n",
              "4  477cd8a1-3b01-4623-9318-8cd6122a8346    male       2023 02 08      USD   \n",
              "\n",
              "    country     sex  is_employed      job    location  loan_amount  \\\n",
              "0  Zimbabwe  female         True  Teacher  Beitbridge      39000.0   \n",
              "1  Zimbabwe   other         True  Teacher      Harare      27000.0   \n",
              "2  Zimbabwe   other         True    Nurse       Gweru      35000.0   \n",
              "3  Zimbabwe  female         True   Doctor      Rusape      24000.0   \n",
              "4  Zimbabwe    male         True    Nurse    Chipinge      19000.0   \n",
              "\n",
              "   number_of_defaults  outstanding_balance  interest_rate  age  \\\n",
              "0                   0         48653.011473           0.22   37   \n",
              "1                   2         28752.062237           0.20   43   \n",
              "2                   1         44797.554126           0.22   43   \n",
              "3                   0         35681.496413           0.23   47   \n",
              "4                   0         34156.055882           0.20   42   \n",
              "\n",
              "   number_of_defaults.1 remaining term       salary marital_status  age.1  \\\n",
              "0                     0             47  3230.038869        married     37   \n",
              "1                     2             62  3194.139103         single     43   \n",
              "2                     1             57  3330.826656        married     43   \n",
              "3                     0             42  2246.797020       divorced     47   \n",
              "4                     0             45  2310.858441        married     42   \n",
              "\n",
              "       Loan Status  \n",
              "0  Did not default  \n",
              "1  Did not default  \n",
              "2  Did not default  \n",
              "3  Did not default  \n",
              "4  Did not default  "
            ],
            "text/html": [
              "\n",
              "  <div id=\"df-5a0a082d-b235-488e-aed2-b8a7d21e4817\" class=\"colab-df-container\">\n",
              "    <div>\n",
              "<style scoped>\n",
              "    .dataframe tbody tr th:only-of-type {\n",
              "        vertical-align: middle;\n",
              "    }\n",
              "\n",
              "    .dataframe tbody tr th {\n",
              "        vertical-align: top;\n",
              "    }\n",
              "\n",
              "    .dataframe thead th {\n",
              "        text-align: right;\n",
              "    }\n",
              "</style>\n",
              "<table border=\"1\" class=\"dataframe\">\n",
              "  <thead>\n",
              "    <tr style=\"text-align: right;\">\n",
              "      <th></th>\n",
              "      <th>loan_id</th>\n",
              "      <th>gender</th>\n",
              "      <th>disbursemet_date</th>\n",
              "      <th>currency</th>\n",
              "      <th>country</th>\n",
              "      <th>sex</th>\n",
              "      <th>is_employed</th>\n",
              "      <th>job</th>\n",
              "      <th>location</th>\n",
              "      <th>loan_amount</th>\n",
              "      <th>number_of_defaults</th>\n",
              "      <th>outstanding_balance</th>\n",
              "      <th>interest_rate</th>\n",
              "      <th>age</th>\n",
              "      <th>number_of_defaults.1</th>\n",
              "      <th>remaining term</th>\n",
              "      <th>salary</th>\n",
              "      <th>marital_status</th>\n",
              "      <th>age.1</th>\n",
              "      <th>Loan Status</th>\n",
              "    </tr>\n",
              "  </thead>\n",
              "  <tbody>\n",
              "    <tr>\n",
              "      <th>0</th>\n",
              "      <td>8d05de78-ff32-46b1-aeb5-b3190f9c158a</td>\n",
              "      <td>female</td>\n",
              "      <td>2022 10 29</td>\n",
              "      <td>USD</td>\n",
              "      <td>Zimbabwe</td>\n",
              "      <td>female</td>\n",
              "      <td>True</td>\n",
              "      <td>Teacher</td>\n",
              "      <td>Beitbridge</td>\n",
              "      <td>39000.0</td>\n",
              "      <td>0</td>\n",
              "      <td>48653.011473</td>\n",
              "      <td>0.22</td>\n",
              "      <td>37</td>\n",
              "      <td>0</td>\n",
              "      <td>47</td>\n",
              "      <td>3230.038869</td>\n",
              "      <td>married</td>\n",
              "      <td>37</td>\n",
              "      <td>Did not default</td>\n",
              "    </tr>\n",
              "    <tr>\n",
              "      <th>1</th>\n",
              "      <td>368bf756-fcf2-4822-9612-f445d90b485b</td>\n",
              "      <td>other</td>\n",
              "      <td>2020 06 06</td>\n",
              "      <td>USD</td>\n",
              "      <td>Zimbabwe</td>\n",
              "      <td>other</td>\n",
              "      <td>True</td>\n",
              "      <td>Teacher</td>\n",
              "      <td>Harare</td>\n",
              "      <td>27000.0</td>\n",
              "      <td>2</td>\n",
              "      <td>28752.062237</td>\n",
              "      <td>0.20</td>\n",
              "      <td>43</td>\n",
              "      <td>2</td>\n",
              "      <td>62</td>\n",
              "      <td>3194.139103</td>\n",
              "      <td>single</td>\n",
              "      <td>43</td>\n",
              "      <td>Did not default</td>\n",
              "    </tr>\n",
              "    <tr>\n",
              "      <th>2</th>\n",
              "      <td>6e3be39e-49b5-45b5-aab6-c6556de53c6f</td>\n",
              "      <td>other</td>\n",
              "      <td>2023 09 29</td>\n",
              "      <td>USD</td>\n",
              "      <td>Zimbabwe</td>\n",
              "      <td>other</td>\n",
              "      <td>True</td>\n",
              "      <td>Nurse</td>\n",
              "      <td>Gweru</td>\n",
              "      <td>35000.0</td>\n",
              "      <td>1</td>\n",
              "      <td>44797.554126</td>\n",
              "      <td>0.22</td>\n",
              "      <td>43</td>\n",
              "      <td>1</td>\n",
              "      <td>57</td>\n",
              "      <td>3330.826656</td>\n",
              "      <td>married</td>\n",
              "      <td>43</td>\n",
              "      <td>Did not default</td>\n",
              "    </tr>\n",
              "    <tr>\n",
              "      <th>3</th>\n",
              "      <td>191c62f8-2211-49fe-ba91-43556b307871</td>\n",
              "      <td>female</td>\n",
              "      <td>2022 06 22</td>\n",
              "      <td>USD</td>\n",
              "      <td>Zimbabwe</td>\n",
              "      <td>female</td>\n",
              "      <td>True</td>\n",
              "      <td>Doctor</td>\n",
              "      <td>Rusape</td>\n",
              "      <td>24000.0</td>\n",
              "      <td>0</td>\n",
              "      <td>35681.496413</td>\n",
              "      <td>0.23</td>\n",
              "      <td>47</td>\n",
              "      <td>0</td>\n",
              "      <td>42</td>\n",
              "      <td>2246.797020</td>\n",
              "      <td>divorced</td>\n",
              "      <td>47</td>\n",
              "      <td>Did not default</td>\n",
              "    </tr>\n",
              "    <tr>\n",
              "      <th>4</th>\n",
              "      <td>477cd8a1-3b01-4623-9318-8cd6122a8346</td>\n",
              "      <td>male</td>\n",
              "      <td>2023 02 08</td>\n",
              "      <td>USD</td>\n",
              "      <td>Zimbabwe</td>\n",
              "      <td>male</td>\n",
              "      <td>True</td>\n",
              "      <td>Nurse</td>\n",
              "      <td>Chipinge</td>\n",
              "      <td>19000.0</td>\n",
              "      <td>0</td>\n",
              "      <td>34156.055882</td>\n",
              "      <td>0.20</td>\n",
              "      <td>42</td>\n",
              "      <td>0</td>\n",
              "      <td>45</td>\n",
              "      <td>2310.858441</td>\n",
              "      <td>married</td>\n",
              "      <td>42</td>\n",
              "      <td>Did not default</td>\n",
              "    </tr>\n",
              "  </tbody>\n",
              "</table>\n",
              "</div>\n",
              "    <div class=\"colab-df-buttons\">\n",
              "\n",
              "  <div class=\"colab-df-container\">\n",
              "    <button class=\"colab-df-convert\" onclick=\"convertToInteractive('df-5a0a082d-b235-488e-aed2-b8a7d21e4817')\"\n",
              "            title=\"Convert this dataframe to an interactive table.\"\n",
              "            style=\"display:none;\">\n",
              "\n",
              "  <svg xmlns=\"http://www.w3.org/2000/svg\" height=\"24px\" viewBox=\"0 -960 960 960\">\n",
              "    <path d=\"M120-120v-720h720v720H120Zm60-500h600v-160H180v160Zm220 220h160v-160H400v160Zm0 220h160v-160H400v160ZM180-400h160v-160H180v160Zm440 0h160v-160H620v160ZM180-180h160v-160H180v160Zm440 0h160v-160H620v160Z\"/>\n",
              "  </svg>\n",
              "    </button>\n",
              "\n",
              "  <style>\n",
              "    .colab-df-container {\n",
              "      display:flex;\n",
              "      gap: 12px;\n",
              "    }\n",
              "\n",
              "    .colab-df-convert {\n",
              "      background-color: #E8F0FE;\n",
              "      border: none;\n",
              "      border-radius: 50%;\n",
              "      cursor: pointer;\n",
              "      display: none;\n",
              "      fill: #1967D2;\n",
              "      height: 32px;\n",
              "      padding: 0 0 0 0;\n",
              "      width: 32px;\n",
              "    }\n",
              "\n",
              "    .colab-df-convert:hover {\n",
              "      background-color: #E2EBFA;\n",
              "      box-shadow: 0px 1px 2px rgba(60, 64, 67, 0.3), 0px 1px 3px 1px rgba(60, 64, 67, 0.15);\n",
              "      fill: #174EA6;\n",
              "    }\n",
              "\n",
              "    .colab-df-buttons div {\n",
              "      margin-bottom: 4px;\n",
              "    }\n",
              "\n",
              "    [theme=dark] .colab-df-convert {\n",
              "      background-color: #3B4455;\n",
              "      fill: #D2E3FC;\n",
              "    }\n",
              "\n",
              "    [theme=dark] .colab-df-convert:hover {\n",
              "      background-color: #434B5C;\n",
              "      box-shadow: 0px 1px 3px 1px rgba(0, 0, 0, 0.15);\n",
              "      filter: drop-shadow(0px 1px 2px rgba(0, 0, 0, 0.3));\n",
              "      fill: #FFFFFF;\n",
              "    }\n",
              "  </style>\n",
              "\n",
              "    <script>\n",
              "      const buttonEl =\n",
              "        document.querySelector('#df-5a0a082d-b235-488e-aed2-b8a7d21e4817 button.colab-df-convert');\n",
              "      buttonEl.style.display =\n",
              "        google.colab.kernel.accessAllowed ? 'block' : 'none';\n",
              "\n",
              "      async function convertToInteractive(key) {\n",
              "        const element = document.querySelector('#df-5a0a082d-b235-488e-aed2-b8a7d21e4817');\n",
              "        const dataTable =\n",
              "          await google.colab.kernel.invokeFunction('convertToInteractive',\n",
              "                                                    [key], {});\n",
              "        if (!dataTable) return;\n",
              "\n",
              "        const docLinkHtml = 'Like what you see? Visit the ' +\n",
              "          '<a target=\"_blank\" href=https://colab.research.google.com/notebooks/data_table.ipynb>data table notebook</a>'\n",
              "          + ' to learn more about interactive tables.';\n",
              "        element.innerHTML = '';\n",
              "        dataTable['output_type'] = 'display_data';\n",
              "        await google.colab.output.renderOutput(dataTable, element);\n",
              "        const docLink = document.createElement('div');\n",
              "        docLink.innerHTML = docLinkHtml;\n",
              "        element.appendChild(docLink);\n",
              "      }\n",
              "    </script>\n",
              "  </div>\n",
              "\n",
              "\n",
              "<div id=\"df-ae71257f-fb66-488c-8e9a-2887014c696f\">\n",
              "  <button class=\"colab-df-quickchart\" onclick=\"quickchart('df-ae71257f-fb66-488c-8e9a-2887014c696f')\"\n",
              "            title=\"Suggest charts\"\n",
              "            style=\"display:none;\">\n",
              "\n",
              "<svg xmlns=\"http://www.w3.org/2000/svg\" height=\"24px\"viewBox=\"0 0 24 24\"\n",
              "     width=\"24px\">\n",
              "    <g>\n",
              "        <path d=\"M19 3H5c-1.1 0-2 .9-2 2v14c0 1.1.9 2 2 2h14c1.1 0 2-.9 2-2V5c0-1.1-.9-2-2-2zM9 17H7v-7h2v7zm4 0h-2V7h2v10zm4 0h-2v-4h2v4z\"/>\n",
              "    </g>\n",
              "</svg>\n",
              "  </button>\n",
              "\n",
              "<style>\n",
              "  .colab-df-quickchart {\n",
              "      --bg-color: #E8F0FE;\n",
              "      --fill-color: #1967D2;\n",
              "      --hover-bg-color: #E2EBFA;\n",
              "      --hover-fill-color: #174EA6;\n",
              "      --disabled-fill-color: #AAA;\n",
              "      --disabled-bg-color: #DDD;\n",
              "  }\n",
              "\n",
              "  [theme=dark] .colab-df-quickchart {\n",
              "      --bg-color: #3B4455;\n",
              "      --fill-color: #D2E3FC;\n",
              "      --hover-bg-color: #434B5C;\n",
              "      --hover-fill-color: #FFFFFF;\n",
              "      --disabled-bg-color: #3B4455;\n",
              "      --disabled-fill-color: #666;\n",
              "  }\n",
              "\n",
              "  .colab-df-quickchart {\n",
              "    background-color: var(--bg-color);\n",
              "    border: none;\n",
              "    border-radius: 50%;\n",
              "    cursor: pointer;\n",
              "    display: none;\n",
              "    fill: var(--fill-color);\n",
              "    height: 32px;\n",
              "    padding: 0;\n",
              "    width: 32px;\n",
              "  }\n",
              "\n",
              "  .colab-df-quickchart:hover {\n",
              "    background-color: var(--hover-bg-color);\n",
              "    box-shadow: 0 1px 2px rgba(60, 64, 67, 0.3), 0 1px 3px 1px rgba(60, 64, 67, 0.15);\n",
              "    fill: var(--button-hover-fill-color);\n",
              "  }\n",
              "\n",
              "  .colab-df-quickchart-complete:disabled,\n",
              "  .colab-df-quickchart-complete:disabled:hover {\n",
              "    background-color: var(--disabled-bg-color);\n",
              "    fill: var(--disabled-fill-color);\n",
              "    box-shadow: none;\n",
              "  }\n",
              "\n",
              "  .colab-df-spinner {\n",
              "    border: 2px solid var(--fill-color);\n",
              "    border-color: transparent;\n",
              "    border-bottom-color: var(--fill-color);\n",
              "    animation:\n",
              "      spin 1s steps(1) infinite;\n",
              "  }\n",
              "\n",
              "  @keyframes spin {\n",
              "    0% {\n",
              "      border-color: transparent;\n",
              "      border-bottom-color: var(--fill-color);\n",
              "      border-left-color: var(--fill-color);\n",
              "    }\n",
              "    20% {\n",
              "      border-color: transparent;\n",
              "      border-left-color: var(--fill-color);\n",
              "      border-top-color: var(--fill-color);\n",
              "    }\n",
              "    30% {\n",
              "      border-color: transparent;\n",
              "      border-left-color: var(--fill-color);\n",
              "      border-top-color: var(--fill-color);\n",
              "      border-right-color: var(--fill-color);\n",
              "    }\n",
              "    40% {\n",
              "      border-color: transparent;\n",
              "      border-right-color: var(--fill-color);\n",
              "      border-top-color: var(--fill-color);\n",
              "    }\n",
              "    60% {\n",
              "      border-color: transparent;\n",
              "      border-right-color: var(--fill-color);\n",
              "    }\n",
              "    80% {\n",
              "      border-color: transparent;\n",
              "      border-right-color: var(--fill-color);\n",
              "      border-bottom-color: var(--fill-color);\n",
              "    }\n",
              "    90% {\n",
              "      border-color: transparent;\n",
              "      border-bottom-color: var(--fill-color);\n",
              "    }\n",
              "  }\n",
              "</style>\n",
              "\n",
              "  <script>\n",
              "    async function quickchart(key) {\n",
              "      const quickchartButtonEl =\n",
              "        document.querySelector('#' + key + ' button');\n",
              "      quickchartButtonEl.disabled = true;  // To prevent multiple clicks.\n",
              "      quickchartButtonEl.classList.add('colab-df-spinner');\n",
              "      try {\n",
              "        const charts = await google.colab.kernel.invokeFunction(\n",
              "            'suggestCharts', [key], {});\n",
              "      } catch (error) {\n",
              "        console.error('Error during call to suggestCharts:', error);\n",
              "      }\n",
              "      quickchartButtonEl.classList.remove('colab-df-spinner');\n",
              "      quickchartButtonEl.classList.add('colab-df-quickchart-complete');\n",
              "    }\n",
              "    (() => {\n",
              "      let quickchartButtonEl =\n",
              "        document.querySelector('#df-ae71257f-fb66-488c-8e9a-2887014c696f button');\n",
              "      quickchartButtonEl.style.display =\n",
              "        google.colab.kernel.accessAllowed ? 'block' : 'none';\n",
              "    })();\n",
              "  </script>\n",
              "</div>\n",
              "\n",
              "    </div>\n",
              "  </div>\n"
            ],
            "application/vnd.google.colaboratory.intrinsic+json": {
              "type": "dataframe",
              "variable_name": "df",
              "summary": "{\n  \"name\": \"df\",\n  \"rows\": 100000,\n  \"fields\": [\n    {\n      \"column\": \"loan_id\",\n      \"properties\": {\n        \"dtype\": \"string\",\n        \"num_unique_values\": 100000,\n        \"samples\": [\n          \"149b1f4a-2a8f-4ba4-a9bc-9dbd3da16279\",\n          \"ddbd1484-d337-460f-a77c-60aa6242073e\",\n          \"fd799449-1a99-4801-a35b-d27ddb931e23\"\n        ],\n        \"semantic_type\": \"\",\n        \"description\": \"\"\n      }\n    },\n    {\n      \"column\": \"gender\",\n      \"properties\": {\n        \"dtype\": \"category\",\n        \"num_unique_values\": 3,\n        \"samples\": [\n          \"female\",\n          \"other\",\n          \"male\"\n        ],\n        \"semantic_type\": \"\",\n        \"description\": \"\"\n      }\n    },\n    {\n      \"column\": \"disbursemet_date\",\n      \"properties\": {\n        \"dtype\": \"object\",\n        \"num_unique_values\": 1461,\n        \"samples\": [\n          \"2020 10 14\",\n          \"2022 03 08\",\n          \"2022 07 20\"\n        ],\n        \"semantic_type\": \"\",\n        \"description\": \"\"\n      }\n    },\n    {\n      \"column\": \"currency\",\n      \"properties\": {\n        \"dtype\": \"category\",\n        \"num_unique_values\": 2,\n        \"samples\": [\n          \"$USD\",\n          \"USD\"\n        ],\n        \"semantic_type\": \"\",\n        \"description\": \"\"\n      }\n    },\n    {\n      \"column\": \"country\",\n      \"properties\": {\n        \"dtype\": \"category\",\n        \"num_unique_values\": 3,\n        \"samples\": [\n          \"Zimbabwe\",\n          \"zimbabwe\"\n        ],\n        \"semantic_type\": \"\",\n        \"description\": \"\"\n      }\n    },\n    {\n      \"column\": \"sex\",\n      \"properties\": {\n        \"dtype\": \"category\",\n        \"num_unique_values\": 3,\n        \"samples\": [\n          \"female\",\n          \"other\"\n        ],\n        \"semantic_type\": \"\",\n        \"description\": \"\"\n      }\n    },\n    {\n      \"column\": \"is_employed\",\n      \"properties\": {\n        \"dtype\": \"boolean\",\n        \"num_unique_values\": 2,\n        \"samples\": [\n          false,\n          true\n        ],\n        \"semantic_type\": \"\",\n        \"description\": \"\"\n      }\n    },\n    {\n      \"column\": \"job\",\n      \"properties\": {\n        \"dtype\": \"category\",\n        \"num_unique_values\": 11,\n        \"samples\": [\n          \"Accountant\",\n          \"Teacher\"\n        ],\n        \"semantic_type\": \"\",\n        \"description\": \"\"\n      }\n    },\n    {\n      \"column\": \"location\",\n      \"properties\": {\n        \"dtype\": \"category\",\n        \"num_unique_values\": 157,\n        \"samples\": [\n          \" Redcliff \",\n          \" Beitbridge \"\n        ],\n        \"semantic_type\": \"\",\n        \"description\": \"\"\n      }\n    },\n    {\n      \"column\": \"loan_amount\",\n      \"properties\": {\n        \"dtype\": \"number\",\n        \"std\": 15895.09363105532,\n        \"min\": 1000.0,\n        \"max\": 273000.0,\n        \"num_unique_values\": 149,\n        \"samples\": [\n          114000.0,\n          33000.0\n        ],\n        \"semantic_type\": \"\",\n        \"description\": \"\"\n      }\n    },\n    {\n      \"column\": \"number_of_defaults\",\n      \"properties\": {\n        \"dtype\": \"number\",\n        \"std\": 0,\n        \"min\": 0,\n        \"max\": 2,\n        \"num_unique_values\": 3,\n        \"samples\": [\n          0,\n          2\n        ],\n        \"semantic_type\": \"\",\n        \"description\": \"\"\n      }\n    },\n    {\n      \"column\": \"outstanding_balance\",\n      \"properties\": {\n        \"dtype\": \"number\",\n        \"std\": 10014.758477252752,\n        \"min\": 0.0,\n        \"max\": 150960.0,\n        \"num_unique_values\": 100000,\n        \"samples\": [\n          26104.30666312214,\n          33784.97060967834\n        ],\n        \"semantic_type\": \"\",\n        \"description\": \"\"\n      }\n    },\n    {\n      \"column\": \"interest_rate\",\n      \"properties\": {\n        \"dtype\": \"number\",\n        \"std\": 0.01872495482182349,\n        \"min\": 0.1,\n        \"max\": 0.3,\n        \"num_unique_values\": 21,\n        \"samples\": [\n          0.22,\n          0.29\n        ],\n        \"semantic_type\": \"\",\n        \"description\": \"\"\n      }\n    },\n    {\n      \"column\": \"age\",\n      \"properties\": {\n        \"dtype\": \"number\",\n        \"std\": 4,\n        \"min\": 21,\n        \"max\": 65,\n        \"num_unique_values\": 45,\n        \"samples\": [\n          25,\n          32\n        ],\n        \"semantic_type\": \"\",\n        \"description\": \"\"\n      }\n    },\n    {\n      \"column\": \"number_of_defaults.1\",\n      \"properties\": {\n        \"dtype\": \"number\",\n        \"std\": 0,\n        \"min\": 0,\n        \"max\": 2,\n        \"num_unique_values\": 3,\n        \"samples\": [\n          0,\n          2\n        ],\n        \"semantic_type\": \"\",\n        \"description\": \"\"\n      }\n    },\n    {\n      \"column\": \"remaining term\",\n      \"properties\": {\n        \"dtype\": \"category\",\n        \"num_unique_values\": 262,\n        \"samples\": [\n          \"17_\",\n          \"75   \"\n        ],\n        \"semantic_type\": \"\",\n        \"description\": \"\"\n      }\n    },\n    {\n      \"column\": \"salary\",\n      \"properties\": {\n        \"dtype\": \"number\",\n        \"std\": 696.4500551031236,\n        \"min\": 250.0,\n        \"max\": 10000.0,\n        \"num_unique_values\": 100000,\n        \"samples\": [\n          2308.0904599731853,\n          4780.969562366804\n        ],\n        \"semantic_type\": \"\",\n        \"description\": \"\"\n      }\n    },\n    {\n      \"column\": \"marital_status\",\n      \"properties\": {\n        \"dtype\": \"category\",\n        \"num_unique_values\": 4,\n        \"samples\": [\n          \"single\",\n          \" \"\n        ],\n        \"semantic_type\": \"\",\n        \"description\": \"\"\n      }\n    },\n    {\n      \"column\": \"age.1\",\n      \"properties\": {\n        \"dtype\": \"number\",\n        \"std\": 4,\n        \"min\": 21,\n        \"max\": 65,\n        \"num_unique_values\": 45,\n        \"samples\": [\n          25,\n          32\n        ],\n        \"semantic_type\": \"\",\n        \"description\": \"\"\n      }\n    },\n    {\n      \"column\": \"Loan Status\",\n      \"properties\": {\n        \"dtype\": \"category\",\n        \"num_unique_values\": 2,\n        \"samples\": [\n          \"Defaulted\",\n          \"Did not default\"\n        ],\n        \"semantic_type\": \"\",\n        \"description\": \"\"\n      }\n    }\n  ]\n}"
            }
          },
          "metadata": {},
          "execution_count": 7
        }
      ]
    },
    {
      "cell_type": "markdown",
      "source": [
        "#### Cleaning of the data with aspects observed(a comprehensive/shorter way)."
      ],
      "metadata": {
        "id": "ULTiO7ofHrU9"
      }
    },
    {
      "cell_type": "markdown",
      "source": [
        "\n",
        "\n",
        "> Summarry of data Cleaning of dataframe of loans"
      ],
      "metadata": {
        "id": "Y5hohOjfHxK_"
      }
    },
    {
      "cell_type": "code",
      "source": [
        "# Summarry of data Cleaning of dataframe of loans\n",
        "def wrangle(df):\n",
        "    def clean_currency(value):\n",
        "        return re.sub(r'\\$', '', value)\n",
        "    def empty_strings(series):\n",
        "        return series.replace(r'^\\s*$', 'other', regex = True)\n",
        "\n",
        "    df['currency'] = df['currency'].astype(str)\n",
        "    df['marital_status'] = df['marital_status'].astype(str)\n",
        "        #cleaning dollar sign on currency\n",
        "    df['currency'] = df['currency'].apply(clean_currency)\n",
        "\n",
        "        #cleaning empty strings on marital status\n",
        "    df['marital_status'] = empty_strings(df['marital_status'])\n",
        "        # Droping the duplicates rowwise\n",
        "    df=df.drop_duplicates()\n",
        "\n",
        "        #Droping null values\n",
        "    df=df.dropna(how='any')\n",
        "\n",
        "\n",
        "    df= df.rename(columns={\"remaining term\" : \"remaining_term\"})\n",
        "    df= df.rename(columns={\"Loan Status\" : \"Loan_Status\"})\n",
        "\n",
        "        # Using Pandas to change their datatypes\n",
        "    df['disbursemet_date'] = pd.to_datetime(df['disbursemet_date'],\n",
        "                                              format ='%Y %m %d')\n",
        "    df['remaining_term']= pd.to_numeric(df['remaining_term'], errors= 'coerce')\n",
        "\n",
        "        #removing outliers\n",
        "        # remaining term\n",
        "    df = df[df[\"remaining_term\"]<80]\n",
        "\n",
        "\n",
        "        # outlier ...interest rate--\n",
        "    i1, i9 = df[\"interest_rate\"].quantile([0.01, 0.99])\n",
        "    mask = df[\"interest_rate\"].between(i1, i9)\n",
        "    df = df[mask]\n",
        "\n",
        "        # outlier ...loan amount--\n",
        "        #l1, l9 = df[\"loan_amount\"].quantile([0.05, 0.95])\n",
        "        #mask2 = df[\"loan_amount\"].between(l1, l9)\n",
        "        #df = df[mask2]\n",
        "\n",
        "        # outlier ...outstanding balance--\n",
        "        #o1, o9 = df[\"outstanding_balance\"].quantile([0.05, 0.95])\n",
        "        #mask3 = df[\"outstanding_balance\"].between(o1, o9)\n",
        "        #df = df[mask3]\n",
        "\n",
        "        # outlier ...age--\n",
        "        #a1, a9 = df[\"age\"].quantile([0.05, 0.95])\n",
        "        #mask4 = df[\"age\"].between(a1, a9)\n",
        "        #df = df[mask4]\n",
        "\n",
        "        #lets drop the columns that are duplicated\n",
        "        #Droping sex , number_of_defaults.1 and age.1\n",
        "    columns_to_drop =['sex', 'number_of_defaults.1', 'age.1']\n",
        "    df =df.drop(columns_to_drop, axis=1)\n",
        "\n",
        "    return df"
      ],
      "metadata": {
        "id": "qmYPj8i3HjkU"
      },
      "execution_count": null,
      "outputs": []
    },
    {
      "cell_type": "markdown",
      "source": [
        "With wrangle function im cleaning the df at once with observed issues on data exploration."
      ],
      "metadata": {
        "id": "6sWWjSF1H9iA"
      }
    },
    {
      "cell_type": "code",
      "source": [
        "df = wrangle(df)"
      ],
      "metadata": {
        "id": "uJ3TU86FIBiV"
      },
      "execution_count": null,
      "outputs": []
    },
    {
      "cell_type": "markdown",
      "source": [
        "# EDA"
      ],
      "metadata": {
        "id": "zYOb7rpRH9BE"
      }
    },
    {
      "cell_type": "markdown",
      "source": [
        "> More information about df."
      ],
      "metadata": {
        "id": "ehKBQkGiIS61"
      }
    },
    {
      "cell_type": "code",
      "source": [
        "df.info()\n",
        "df.shape"
      ],
      "metadata": {
        "colab": {
          "base_uri": "https://localhost:8080/"
        },
        "id": "hLFmzMROIJ66",
        "outputId": "44fa0e18-9853-4024-9176-0324463a64ea"
      },
      "execution_count": 8,
      "outputs": [
        {
          "output_type": "stream",
          "name": "stdout",
          "text": [
            "<class 'pandas.core.frame.DataFrame'>\n",
            "Index: 100000 entries, 0 to 99999\n",
            "Data columns (total 20 columns):\n",
            " #   Column                Non-Null Count   Dtype  \n",
            "---  ------                --------------   -----  \n",
            " 0   loan_id               100000 non-null  object \n",
            " 1   gender                100000 non-null  object \n",
            " 2   disbursemet_date      100000 non-null  object \n",
            " 3   currency              100000 non-null  object \n",
            " 4   country               99900 non-null   object \n",
            " 5   sex                   100000 non-null  object \n",
            " 6   is_employed           100000 non-null  bool   \n",
            " 7   job                   95864 non-null   object \n",
            " 8   location              99405 non-null   object \n",
            " 9   loan_amount           100000 non-null  float64\n",
            " 10  number_of_defaults    100000 non-null  int64  \n",
            " 11  outstanding_balance   100000 non-null  float64\n",
            " 12  interest_rate         100000 non-null  float64\n",
            " 13  age                   100000 non-null  int64  \n",
            " 14  number_of_defaults.1  100000 non-null  int64  \n",
            " 15  remaining term        100000 non-null  object \n",
            " 16  salary                100000 non-null  float64\n",
            " 17  marital_status        100000 non-null  object \n",
            " 18  age.1                 100000 non-null  int64  \n",
            " 19  Loan Status           100000 non-null  object \n",
            "dtypes: bool(1), float64(4), int64(4), object(11)\n",
            "memory usage: 17.4+ MB\n"
          ]
        },
        {
          "output_type": "execute_result",
          "data": {
            "text/plain": [
              "(100000, 20)"
            ]
          },
          "metadata": {},
          "execution_count": 8
        }
      ]
    },
    {
      "cell_type": "code",
      "source": [],
      "metadata": {
        "id": "7MvHo3YIIXDz"
      },
      "execution_count": null,
      "outputs": []
    }
  ]
}