{
  "nbformat": 4,
  "nbformat_minor": 0,
  "metadata": {
    "colab": {
      "provenance": [],
      "toc_visible": true,
      "authorship_tag": "ABX9TyMZXIW9D8RUSqx1kV1Ls+rf",
      "include_colab_link": true
    },
    "kernelspec": {
      "name": "python3",
      "display_name": "Python 3"
    },
    "language_info": {
      "name": "python"
    }
  },
  "cells": [
    {
      "cell_type": "markdown",
      "metadata": {
        "id": "view-in-github",
        "colab_type": "text"
      },
      "source": [
        "<a href=\"https://colab.research.google.com/github/RonChits/Default-Probability/blob/main/Default_Probability.ipynb\" target=\"_parent\"><img src=\"https://colab.research.google.com/assets/colab-badge.svg\" alt=\"Open In Colab\"/></a>"
      ]
    },
    {
      "cell_type": "markdown",
      "source": [
        "# Data importing."
      ],
      "metadata": {
        "id": "KJi0c-8eF7Nd"
      }
    },
    {
      "cell_type": "markdown",
      "source": [
        ">Modules to be used."
      ],
      "metadata": {
        "id": "AWkydQpwGFS_"
      }
    },
    {
      "cell_type": "code",
      "source": [
        "import pandas as pd\n",
        "import numpy as np\n",
        "import re\n",
        "import nest_asyncio\n",
        "import xgboost\n",
        "# import uvicorn\n",
        "# import category_encoders as ce\n",
        "# import seaborn as sns\n",
        "# import nominatim\n",
        "import geopy\n",
        "import string\n",
        "import pickle\n",
        "import requests\n",
        "import matplotlib.pyplot as plt\n",
        "import seaborn as sns\n",
        "\n",
        "import imblearn\n",
        "# sampling techniques.\n",
        "from imblearn.under_sampling import RandomUnderSampler\n",
        "from imblearn.over_sampling import RandomOverSampler, SMOTE\n",
        "\n",
        "# classifiers.\n",
        "from xgboost import XGBClassifier\n",
        "from sklearn.linear_model import LogisticRegression\n",
        "from sklearn.neighbors import KNeighborsClassifier\n",
        "from sklearn.svm import SVC\n",
        "from sklearn.tree import DecisionTreeClassifier\n",
        "from sklearn.ensemble import RandomForestClassifier\n",
        "\n",
        "# transformers.\n",
        "from sklearn.preprocessing import StandardScaler,  OneHotEncoder, LabelEncoder, FunctionTransformer\n",
        "\n",
        "# metrics\n",
        "from sklearn.model_selection import train_test_split, GridSearchCV, cross_val_score\n",
        "from sklearn.metrics import roc_auc_score, accuracy_score, ConfusionMatrixDisplay,precision_score, f1_score, roc_curve , auc, confusion_matrix\n",
        "from sklearn.pipeline import Pipeline, make_pipeline\n",
        "\n",
        "#http communications.\n",
        "# from fastapi import FastAPI , Body, HTTPException, Request, status\n",
        "# from fastapi.encoders import jsonable_encoder\n",
        "# from fastapi.exceptions import RequestValidationError\n",
        "# from fastapi.responses import JSONResponse\n",
        "\n",
        "# extras.\n",
        "import plotly.express as px\n",
        "from geopy.geocoders import Nominatim\n",
        "from geopy.extra.rate_limiter import RateLimiter\n",
        "from pydantic import BaseModel\n",
        "from tabulate import tabulate\n",
        "import dill\n",
        "import tensorflow as tf\n",
        "from tensorflow import keras\n",
        "from tensorflow.keras import layers\n",
        "from sklearn.utils.class_weight import compute_class_weight\n",
        "from tensorflow.keras.models import Sequential\n",
        "from tensorflow.keras.layers import Dense\n",
        "from tensorflow.keras.optimizers import Adam\n",
        "from sklearn.model_selection import StratifiedKFold, cross_val_score\n",
        "import numpy as np\n",
        "from tensorflow.keras.callbacks import EarlyStopping\n",
        "from tensorflow.keras.layers import Dropout, BatchNormalization"
      ],
      "metadata": {
        "id": "SgxhiOKGF9zz"
      },
      "execution_count": 4,
      "outputs": []
    },
    {
      "cell_type": "markdown",
      "source": [
        "### Assigning to dataframe csv to df.\n",
        "\n",
        "---"
      ],
      "metadata": {
        "id": "592jyrmAGYBr"
      }
    },
    {
      "cell_type": "code",
      "source": [
        "df = pd.read_csv(\"data_science_competition_2024.csv\", index_col=0)"
      ],
      "metadata": {
        "id": "3k82Jml_HBZE"
      },
      "execution_count": 5,
      "outputs": []
    },
    {
      "cell_type": "markdown",
      "source": [
        "---\n",
        ">Gaining a basic understanding of the structure and content of our dataframe, which is essential for further data exploration and analysis."
      ],
      "metadata": {
        "id": "MRMIeV-KHODF"
      }
    },
    {
      "cell_type": "code",
      "source": [
        "df.info()\n",
        "df.shape"
      ],
      "metadata": {
        "colab": {
          "base_uri": "https://localhost:8080/"
        },
        "id": "UUfc6rQMHPR7",
        "outputId": "9c7b8dc6-4366-4561-952f-07364b982cf6"
      },
      "execution_count": 6,
      "outputs": [
        {
          "output_type": "stream",
          "name": "stdout",
          "text": [
            "<class 'pandas.core.frame.DataFrame'>\n",
            "Index: 100000 entries, 0 to 99999\n",
            "Data columns (total 20 columns):\n",
            " #   Column                Non-Null Count   Dtype  \n",
            "---  ------                --------------   -----  \n",
            " 0   loan_id               100000 non-null  object \n",
            " 1   gender                100000 non-null  object \n",
            " 2   disbursemet_date      100000 non-null  object \n",
            " 3   currency              100000 non-null  object \n",
            " 4   country               99900 non-null   object \n",
            " 5   sex                   100000 non-null  object \n",
            " 6   is_employed           100000 non-null  bool   \n",
            " 7   job                   95864 non-null   object \n",
            " 8   location              99405 non-null   object \n",
            " 9   loan_amount           100000 non-null  float64\n",
            " 10  number_of_defaults    100000 non-null  int64  \n",
            " 11  outstanding_balance   100000 non-null  float64\n",
            " 12  interest_rate         100000 non-null  float64\n",
            " 13  age                   100000 non-null  int64  \n",
            " 14  number_of_defaults.1  100000 non-null  int64  \n",
            " 15  remaining term        100000 non-null  object \n",
            " 16  salary                100000 non-null  float64\n",
            " 17  marital_status        100000 non-null  object \n",
            " 18  age.1                 100000 non-null  int64  \n",
            " 19  Loan Status           100000 non-null  object \n",
            "dtypes: bool(1), float64(4), int64(4), object(11)\n",
            "memory usage: 15.4+ MB\n"
          ]
        },
        {
          "output_type": "execute_result",
          "data": {
            "text/plain": [
              "(100000, 20)"
            ]
          },
          "metadata": {},
          "execution_count": 6
        }
      ]
    },
    {
      "cell_type": "markdown",
      "source": [
        ">"
      ],
      "metadata": {
        "id": "VFto5V09HYlY"
      }
    },
    {
      "cell_type": "markdown",
      "source": [
        "---\n",
        ">Gaining a basic understanding of the structure and content of our dataframe, which is essential for further data exploration and analysis."
      ],
      "metadata": {
        "id": "VunjAVtkHdyt"
      }
    },
    {
      "cell_type": "code",
      "source": [
        "df.head(5)"
      ],
      "metadata": {
        "colab": {
          "base_uri": "https://localhost:8080/",
          "height": 487
        },
        "id": "l1Zia6JJHTOT",
        "outputId": "b090d094-6036-456b-8ecd-283dc9447283"
      },
      "execution_count": 7,
      "outputs": [
        {
          "output_type": "execute_result",
          "data": {
            "text/plain": [
              "                                loan_id  gender disbursemet_date currency  \\\n",
              "0  8d05de78-ff32-46b1-aeb5-b3190f9c158a  female       2022 10 29      USD   \n",
              "1  368bf756-fcf2-4822-9612-f445d90b485b   other       2020 06 06      USD   \n",
              "2  6e3be39e-49b5-45b5-aab6-c6556de53c6f   other       2023 09 29      USD   \n",
              "3  191c62f8-2211-49fe-ba91-43556b307871  female       2022 06 22      USD   \n",
              "4  477cd8a1-3b01-4623-9318-8cd6122a8346    male       2023 02 08      USD   \n",
              "\n",
              "    country     sex  is_employed      job    location  loan_amount  \\\n",
              "0  Zimbabwe  female         True  Teacher  Beitbridge      39000.0   \n",
              "1  Zimbabwe   other         True  Teacher      Harare      27000.0   \n",
              "2  Zimbabwe   other         True    Nurse       Gweru      35000.0   \n",
              "3  Zimbabwe  female         True   Doctor      Rusape      24000.0   \n",
              "4  Zimbabwe    male         True    Nurse    Chipinge      19000.0   \n",
              "\n",
              "   number_of_defaults  outstanding_balance  interest_rate  age  \\\n",
              "0                   0         48653.011473           0.22   37   \n",
              "1                   2         28752.062237           0.20   43   \n",
              "2                   1         44797.554126           0.22   43   \n",
              "3                   0         35681.496413           0.23   47   \n",
              "4                   0         34156.055882           0.20   42   \n",
              "\n",
              "   number_of_defaults.1 remaining term       salary marital_status  age.1  \\\n",
              "0                     0             47  3230.038869        married     37   \n",
              "1                     2             62  3194.139103         single     43   \n",
              "2                     1             57  3330.826656        married     43   \n",
              "3                     0             42  2246.797020       divorced     47   \n",
              "4                     0             45  2310.858441        married     42   \n",
              "\n",
              "       Loan Status  \n",
              "0  Did not default  \n",
              "1  Did not default  \n",
              "2  Did not default  \n",
              "3  Did not default  \n",
              "4  Did not default  "
            ],
            "text/html": [
              "\n",
              "  <div id=\"df-5a0a082d-b235-488e-aed2-b8a7d21e4817\" class=\"colab-df-container\">\n",
              "    <div>\n",
              "<style scoped>\n",
              "    .dataframe tbody tr th:only-of-type {\n",
              "        vertical-align: middle;\n",
              "    }\n",
              "\n",
              "    .dataframe tbody tr th {\n",
              "        vertical-align: top;\n",
              "    }\n",
              "\n",
              "    .dataframe thead th {\n",
              "        text-align: right;\n",
              "    }\n",
              "</style>\n",
              "<table border=\"1\" class=\"dataframe\">\n",
              "  <thead>\n",
              "    <tr style=\"text-align: right;\">\n",
              "      <th></th>\n",
              "      <th>loan_id</th>\n",
              "      <th>gender</th>\n",
              "      <th>disbursemet_date</th>\n",
              "      <th>currency</th>\n",
              "      <th>country</th>\n",
              "      <th>sex</th>\n",
              "      <th>is_employed</th>\n",
              "      <th>job</th>\n",
              "      <th>location</th>\n",
              "      <th>loan_amount</th>\n",
              "      <th>number_of_defaults</th>\n",
              "      <th>outstanding_balance</th>\n",
              "      <th>interest_rate</th>\n",
              "      <th>age</th>\n",
              "      <th>number_of_defaults.1</th>\n",
              "      <th>remaining term</th>\n",
              "      <th>salary</th>\n",
              "      <th>marital_status</th>\n",
              "      <th>age.1</th>\n",
              "      <th>Loan Status</th>\n",
              "    </tr>\n",
              "  </thead>\n",
              "  <tbody>\n",
              "    <tr>\n",
              "      <th>0</th>\n",
              "      <td>8d05de78-ff32-46b1-aeb5-b3190f9c158a</td>\n",
              "      <td>female</td>\n",
              "      <td>2022 10 29</td>\n",
              "      <td>USD</td>\n",
              "      <td>Zimbabwe</td>\n",
              "      <td>female</td>\n",
              "      <td>True</td>\n",
              "      <td>Teacher</td>\n",
              "      <td>Beitbridge</td>\n",
              "      <td>39000.0</td>\n",
              "      <td>0</td>\n",
              "      <td>48653.011473</td>\n",
              "      <td>0.22</td>\n",
              "      <td>37</td>\n",
              "      <td>0</td>\n",
              "      <td>47</td>\n",
              "      <td>3230.038869</td>\n",
              "      <td>married</td>\n",
              "      <td>37</td>\n",
              "      <td>Did not default</td>\n",
              "    </tr>\n",
              "    <tr>\n",
              "      <th>1</th>\n",
              "      <td>368bf756-fcf2-4822-9612-f445d90b485b</td>\n",
              "      <td>other</td>\n",
              "      <td>2020 06 06</td>\n",
              "      <td>USD</td>\n",
              "      <td>Zimbabwe</td>\n",
              "      <td>other</td>\n",
              "      <td>True</td>\n",
              "      <td>Teacher</td>\n",
              "      <td>Harare</td>\n",
              "      <td>27000.0</td>\n",
              "      <td>2</td>\n",
              "      <td>28752.062237</td>\n",
              "      <td>0.20</td>\n",
              "      <td>43</td>\n",
              "      <td>2</td>\n",
              "      <td>62</td>\n",
              "      <td>3194.139103</td>\n",
              "      <td>single</td>\n",
              "      <td>43</td>\n",
              "      <td>Did not default</td>\n",
              "    </tr>\n",
              "    <tr>\n",
              "      <th>2</th>\n",
              "      <td>6e3be39e-49b5-45b5-aab6-c6556de53c6f</td>\n",
              "      <td>other</td>\n",
              "      <td>2023 09 29</td>\n",
              "      <td>USD</td>\n",
              "      <td>Zimbabwe</td>\n",
              "      <td>other</td>\n",
              "      <td>True</td>\n",
              "      <td>Nurse</td>\n",
              "      <td>Gweru</td>\n",
              "      <td>35000.0</td>\n",
              "      <td>1</td>\n",
              "      <td>44797.554126</td>\n",
              "      <td>0.22</td>\n",
              "      <td>43</td>\n",
              "      <td>1</td>\n",
              "      <td>57</td>\n",
              "      <td>3330.826656</td>\n",
              "      <td>married</td>\n",
              "      <td>43</td>\n",
              "      <td>Did not default</td>\n",
              "    </tr>\n",
              "    <tr>\n",
              "      <th>3</th>\n",
              "      <td>191c62f8-2211-49fe-ba91-43556b307871</td>\n",
              "      <td>female</td>\n",
              "      <td>2022 06 22</td>\n",
              "      <td>USD</td>\n",
              "      <td>Zimbabwe</td>\n",
              "      <td>female</td>\n",
              "      <td>True</td>\n",
              "      <td>Doctor</td>\n",
              "      <td>Rusape</td>\n",
              "      <td>24000.0</td>\n",
              "      <td>0</td>\n",
              "      <td>35681.496413</td>\n",
              "      <td>0.23</td>\n",
              "      <td>47</td>\n",
              "      <td>0</td>\n",
              "      <td>42</td>\n",
              "      <td>2246.797020</td>\n",
              "      <td>divorced</td>\n",
              "      <td>47</td>\n",
              "      <td>Did not default</td>\n",
              "    </tr>\n",
              "    <tr>\n",
              "      <th>4</th>\n",
              "      <td>477cd8a1-3b01-4623-9318-8cd6122a8346</td>\n",
              "      <td>male</td>\n",
              "      <td>2023 02 08</td>\n",
              "      <td>USD</td>\n",
              "      <td>Zimbabwe</td>\n",
              "      <td>male</td>\n",
              "      <td>True</td>\n",
              "      <td>Nurse</td>\n",
              "      <td>Chipinge</td>\n",
              "      <td>19000.0</td>\n",
              "      <td>0</td>\n",
              "      <td>34156.055882</td>\n",
              "      <td>0.20</td>\n",
              "      <td>42</td>\n",
              "      <td>0</td>\n",
              "      <td>45</td>\n",
              "      <td>2310.858441</td>\n",
              "      <td>married</td>\n",
              "      <td>42</td>\n",
              "      <td>Did not default</td>\n",
              "    </tr>\n",
              "  </tbody>\n",
              "</table>\n",
              "</div>\n",
              "    <div class=\"colab-df-buttons\">\n",
              "\n",
              "  <div class=\"colab-df-container\">\n",
              "    <button class=\"colab-df-convert\" onclick=\"convertToInteractive('df-5a0a082d-b235-488e-aed2-b8a7d21e4817')\"\n",
              "            title=\"Convert this dataframe to an interactive table.\"\n",
              "            style=\"display:none;\">\n",
              "\n",
              "  <svg xmlns=\"http://www.w3.org/2000/svg\" height=\"24px\" viewBox=\"0 -960 960 960\">\n",
              "    <path d=\"M120-120v-720h720v720H120Zm60-500h600v-160H180v160Zm220 220h160v-160H400v160Zm0 220h160v-160H400v160ZM180-400h160v-160H180v160Zm440 0h160v-160H620v160ZM180-180h160v-160H180v160Zm440 0h160v-160H620v160Z\"/>\n",
              "  </svg>\n",
              "    </button>\n",
              "\n",
              "  <style>\n",
              "    .colab-df-container {\n",
              "      display:flex;\n",
              "      gap: 12px;\n",
              "    }\n",
              "\n",
              "    .colab-df-convert {\n",
              "      background-color: #E8F0FE;\n",
              "      border: none;\n",
              "      border-radius: 50%;\n",
              "      cursor: pointer;\n",
              "      display: none;\n",
              "      fill: #1967D2;\n",
              "      height: 32px;\n",
              "      padding: 0 0 0 0;\n",
              "      width: 32px;\n",
              "    }\n",
              "\n",
              "    .colab-df-convert:hover {\n",
              "      background-color: #E2EBFA;\n",
              "      box-shadow: 0px 1px 2px rgba(60, 64, 67, 0.3), 0px 1px 3px 1px rgba(60, 64, 67, 0.15);\n",
              "      fill: #174EA6;\n",
              "    }\n",
              "\n",
              "    .colab-df-buttons div {\n",
              "      margin-bottom: 4px;\n",
              "    }\n",
              "\n",
              "    [theme=dark] .colab-df-convert {\n",
              "      background-color: #3B4455;\n",
              "      fill: #D2E3FC;\n",
              "    }\n",
              "\n",
              "    [theme=dark] .colab-df-convert:hover {\n",
              "      background-color: #434B5C;\n",
              "      box-shadow: 0px 1px 3px 1px rgba(0, 0, 0, 0.15);\n",
              "      filter: drop-shadow(0px 1px 2px rgba(0, 0, 0, 0.3));\n",
              "      fill: #FFFFFF;\n",
              "    }\n",
              "  </style>\n",
              "\n",
              "    <script>\n",
              "      const buttonEl =\n",
              "        document.querySelector('#df-5a0a082d-b235-488e-aed2-b8a7d21e4817 button.colab-df-convert');\n",
              "      buttonEl.style.display =\n",
              "        google.colab.kernel.accessAllowed ? 'block' : 'none';\n",
              "\n",
              "      async function convertToInteractive(key) {\n",
              "        const element = document.querySelector('#df-5a0a082d-b235-488e-aed2-b8a7d21e4817');\n",
              "        const dataTable =\n",
              "          await google.colab.kernel.invokeFunction('convertToInteractive',\n",
              "                                                    [key], {});\n",
              "        if (!dataTable) return;\n",
              "\n",
              "        const docLinkHtml = 'Like what you see? Visit the ' +\n",
              "          '<a target=\"_blank\" href=https://colab.research.google.com/notebooks/data_table.ipynb>data table notebook</a>'\n",
              "          + ' to learn more about interactive tables.';\n",
              "        element.innerHTML = '';\n",
              "        dataTable['output_type'] = 'display_data';\n",
              "        await google.colab.output.renderOutput(dataTable, element);\n",
              "        const docLink = document.createElement('div');\n",
              "        docLink.innerHTML = docLinkHtml;\n",
              "        element.appendChild(docLink);\n",
              "      }\n",
              "    </script>\n",
              "  </div>\n",
              "\n",
              "\n",
              "<div id=\"df-ae71257f-fb66-488c-8e9a-2887014c696f\">\n",
              "  <button class=\"colab-df-quickchart\" onclick=\"quickchart('df-ae71257f-fb66-488c-8e9a-2887014c696f')\"\n",
              "            title=\"Suggest charts\"\n",
              "            style=\"display:none;\">\n",
              "\n",
              "<svg xmlns=\"http://www.w3.org/2000/svg\" height=\"24px\"viewBox=\"0 0 24 24\"\n",
              "     width=\"24px\">\n",
              "    <g>\n",
              "        <path d=\"M19 3H5c-1.1 0-2 .9-2 2v14c0 1.1.9 2 2 2h14c1.1 0 2-.9 2-2V5c0-1.1-.9-2-2-2zM9 17H7v-7h2v7zm4 0h-2V7h2v10zm4 0h-2v-4h2v4z\"/>\n",
              "    </g>\n",
              "</svg>\n",
              "  </button>\n",
              "\n",
              "<style>\n",
              "  .colab-df-quickchart {\n",
              "      --bg-color: #E8F0FE;\n",
              "      --fill-color: #1967D2;\n",
              "      --hover-bg-color: #E2EBFA;\n",
              "      --hover-fill-color: #174EA6;\n",
              "      --disabled-fill-color: #AAA;\n",
              "      --disabled-bg-color: #DDD;\n",
              "  }\n",
              "\n",
              "  [theme=dark] .colab-df-quickchart {\n",
              "      --bg-color: #3B4455;\n",
              "      --fill-color: #D2E3FC;\n",
              "      --hover-bg-color: #434B5C;\n",
              "      --hover-fill-color: #FFFFFF;\n",
              "      --disabled-bg-color: #3B4455;\n",
              "      --disabled-fill-color: #666;\n",
              "  }\n",
              "\n",
              "  .colab-df-quickchart {\n",
              "    background-color: var(--bg-color);\n",
              "    border: none;\n",
              "    border-radius: 50%;\n",
              "    cursor: pointer;\n",
              "    display: none;\n",
              "    fill: var(--fill-color);\n",
              "    height: 32px;\n",
              "    padding: 0;\n",
              "    width: 32px;\n",
              "  }\n",
              "\n",
              "  .colab-df-quickchart:hover {\n",
              "    background-color: var(--hover-bg-color);\n",
              "    box-shadow: 0 1px 2px rgba(60, 64, 67, 0.3), 0 1px 3px 1px rgba(60, 64, 67, 0.15);\n",
              "    fill: var(--button-hover-fill-color);\n",
              "  }\n",
              "\n",
              "  .colab-df-quickchart-complete:disabled,\n",
              "  .colab-df-quickchart-complete:disabled:hover {\n",
              "    background-color: var(--disabled-bg-color);\n",
              "    fill: var(--disabled-fill-color);\n",
              "    box-shadow: none;\n",
              "  }\n",
              "\n",
              "  .colab-df-spinner {\n",
              "    border: 2px solid var(--fill-color);\n",
              "    border-color: transparent;\n",
              "    border-bottom-color: var(--fill-color);\n",
              "    animation:\n",
              "      spin 1s steps(1) infinite;\n",
              "  }\n",
              "\n",
              "  @keyframes spin {\n",
              "    0% {\n",
              "      border-color: transparent;\n",
              "      border-bottom-color: var(--fill-color);\n",
              "      border-left-color: var(--fill-color);\n",
              "    }\n",
              "    20% {\n",
              "      border-color: transparent;\n",
              "      border-left-color: var(--fill-color);\n",
              "      border-top-color: var(--fill-color);\n",
              "    }\n",
              "    30% {\n",
              "      border-color: transparent;\n",
              "      border-left-color: var(--fill-color);\n",
              "      border-top-color: var(--fill-color);\n",
              "      border-right-color: var(--fill-color);\n",
              "    }\n",
              "    40% {\n",
              "      border-color: transparent;\n",
              "      border-right-color: var(--fill-color);\n",
              "      border-top-color: var(--fill-color);\n",
              "    }\n",
              "    60% {\n",
              "      border-color: transparent;\n",
              "      border-right-color: var(--fill-color);\n",
              "    }\n",
              "    80% {\n",
              "      border-color: transparent;\n",
              "      border-right-color: var(--fill-color);\n",
              "      border-bottom-color: var(--fill-color);\n",
              "    }\n",
              "    90% {\n",
              "      border-color: transparent;\n",
              "      border-bottom-color: var(--fill-color);\n",
              "    }\n",
              "  }\n",
              "</style>\n",
              "\n",
              "  <script>\n",
              "    async function quickchart(key) {\n",
              "      const quickchartButtonEl =\n",
              "        document.querySelector('#' + key + ' button');\n",
              "      quickchartButtonEl.disabled = true;  // To prevent multiple clicks.\n",
              "      quickchartButtonEl.classList.add('colab-df-spinner');\n",
              "      try {\n",
              "        const charts = await google.colab.kernel.invokeFunction(\n",
              "            'suggestCharts', [key], {});\n",
              "      } catch (error) {\n",
              "        console.error('Error during call to suggestCharts:', error);\n",
              "      }\n",
              "      quickchartButtonEl.classList.remove('colab-df-spinner');\n",
              "      quickchartButtonEl.classList.add('colab-df-quickchart-complete');\n",
              "    }\n",
              "    (() => {\n",
              "      let quickchartButtonEl =\n",
              "        document.querySelector('#df-ae71257f-fb66-488c-8e9a-2887014c696f button');\n",
              "      quickchartButtonEl.style.display =\n",
              "        google.colab.kernel.accessAllowed ? 'block' : 'none';\n",
              "    })();\n",
              "  </script>\n",
              "</div>\n",
              "\n",
              "    </div>\n",
              "  </div>\n"
            ],
            "application/vnd.google.colaboratory.intrinsic+json": {
              "type": "dataframe",
              "variable_name": "df",
              "summary": "{\n  \"name\": \"df\",\n  \"rows\": 100000,\n  \"fields\": [\n    {\n      \"column\": \"loan_id\",\n      \"properties\": {\n        \"dtype\": \"string\",\n        \"num_unique_values\": 100000,\n        \"samples\": [\n          \"149b1f4a-2a8f-4ba4-a9bc-9dbd3da16279\",\n          \"ddbd1484-d337-460f-a77c-60aa6242073e\",\n          \"fd799449-1a99-4801-a35b-d27ddb931e23\"\n        ],\n        \"semantic_type\": \"\",\n        \"description\": \"\"\n      }\n    },\n    {\n      \"column\": \"gender\",\n      \"properties\": {\n        \"dtype\": \"category\",\n        \"num_unique_values\": 3,\n        \"samples\": [\n          \"female\",\n          \"other\",\n          \"male\"\n        ],\n        \"semantic_type\": \"\",\n        \"description\": \"\"\n      }\n    },\n    {\n      \"column\": \"disbursemet_date\",\n      \"properties\": {\n        \"dtype\": \"object\",\n        \"num_unique_values\": 1461,\n        \"samples\": [\n          \"2020 10 14\",\n          \"2022 03 08\",\n          \"2022 07 20\"\n        ],\n        \"semantic_type\": \"\",\n        \"description\": \"\"\n      }\n    },\n    {\n      \"column\": \"currency\",\n      \"properties\": {\n        \"dtype\": \"category\",\n        \"num_unique_values\": 2,\n        \"samples\": [\n          \"$USD\",\n          \"USD\"\n        ],\n        \"semantic_type\": \"\",\n        \"description\": \"\"\n      }\n    },\n    {\n      \"column\": \"country\",\n      \"properties\": {\n        \"dtype\": \"category\",\n        \"num_unique_values\": 3,\n        \"samples\": [\n          \"Zimbabwe\",\n          \"zimbabwe\"\n        ],\n        \"semantic_type\": \"\",\n        \"description\": \"\"\n      }\n    },\n    {\n      \"column\": \"sex\",\n      \"properties\": {\n        \"dtype\": \"category\",\n        \"num_unique_values\": 3,\n        \"samples\": [\n          \"female\",\n          \"other\"\n        ],\n        \"semantic_type\": \"\",\n        \"description\": \"\"\n      }\n    },\n    {\n      \"column\": \"is_employed\",\n      \"properties\": {\n        \"dtype\": \"boolean\",\n        \"num_unique_values\": 2,\n        \"samples\": [\n          false,\n          true\n        ],\n        \"semantic_type\": \"\",\n        \"description\": \"\"\n      }\n    },\n    {\n      \"column\": \"job\",\n      \"properties\": {\n        \"dtype\": \"category\",\n        \"num_unique_values\": 11,\n        \"samples\": [\n          \"Accountant\",\n          \"Teacher\"\n        ],\n        \"semantic_type\": \"\",\n        \"description\": \"\"\n      }\n    },\n    {\n      \"column\": \"location\",\n      \"properties\": {\n        \"dtype\": \"category\",\n        \"num_unique_values\": 157,\n        \"samples\": [\n          \" Redcliff \",\n          \" Beitbridge \"\n        ],\n        \"semantic_type\": \"\",\n        \"description\": \"\"\n      }\n    },\n    {\n      \"column\": \"loan_amount\",\n      \"properties\": {\n        \"dtype\": \"number\",\n        \"std\": 15895.09363105532,\n        \"min\": 1000.0,\n        \"max\": 273000.0,\n        \"num_unique_values\": 149,\n        \"samples\": [\n          114000.0,\n          33000.0\n        ],\n        \"semantic_type\": \"\",\n        \"description\": \"\"\n      }\n    },\n    {\n      \"column\": \"number_of_defaults\",\n      \"properties\": {\n        \"dtype\": \"number\",\n        \"std\": 0,\n        \"min\": 0,\n        \"max\": 2,\n        \"num_unique_values\": 3,\n        \"samples\": [\n          0,\n          2\n        ],\n        \"semantic_type\": \"\",\n        \"description\": \"\"\n      }\n    },\n    {\n      \"column\": \"outstanding_balance\",\n      \"properties\": {\n        \"dtype\": \"number\",\n        \"std\": 10014.758477252752,\n        \"min\": 0.0,\n        \"max\": 150960.0,\n        \"num_unique_values\": 100000,\n        \"samples\": [\n          26104.30666312214,\n          33784.97060967834\n        ],\n        \"semantic_type\": \"\",\n        \"description\": \"\"\n      }\n    },\n    {\n      \"column\": \"interest_rate\",\n      \"properties\": {\n        \"dtype\": \"number\",\n        \"std\": 0.01872495482182349,\n        \"min\": 0.1,\n        \"max\": 0.3,\n        \"num_unique_values\": 21,\n        \"samples\": [\n          0.22,\n          0.29\n        ],\n        \"semantic_type\": \"\",\n        \"description\": \"\"\n      }\n    },\n    {\n      \"column\": \"age\",\n      \"properties\": {\n        \"dtype\": \"number\",\n        \"std\": 4,\n        \"min\": 21,\n        \"max\": 65,\n        \"num_unique_values\": 45,\n        \"samples\": [\n          25,\n          32\n        ],\n        \"semantic_type\": \"\",\n        \"description\": \"\"\n      }\n    },\n    {\n      \"column\": \"number_of_defaults.1\",\n      \"properties\": {\n        \"dtype\": \"number\",\n        \"std\": 0,\n        \"min\": 0,\n        \"max\": 2,\n        \"num_unique_values\": 3,\n        \"samples\": [\n          0,\n          2\n        ],\n        \"semantic_type\": \"\",\n        \"description\": \"\"\n      }\n    },\n    {\n      \"column\": \"remaining term\",\n      \"properties\": {\n        \"dtype\": \"category\",\n        \"num_unique_values\": 262,\n        \"samples\": [\n          \"17_\",\n          \"75   \"\n        ],\n        \"semantic_type\": \"\",\n        \"description\": \"\"\n      }\n    },\n    {\n      \"column\": \"salary\",\n      \"properties\": {\n        \"dtype\": \"number\",\n        \"std\": 696.4500551031236,\n        \"min\": 250.0,\n        \"max\": 10000.0,\n        \"num_unique_values\": 100000,\n        \"samples\": [\n          2308.0904599731853,\n          4780.969562366804\n        ],\n        \"semantic_type\": \"\",\n        \"description\": \"\"\n      }\n    },\n    {\n      \"column\": \"marital_status\",\n      \"properties\": {\n        \"dtype\": \"category\",\n        \"num_unique_values\": 4,\n        \"samples\": [\n          \"single\",\n          \" \"\n        ],\n        \"semantic_type\": \"\",\n        \"description\": \"\"\n      }\n    },\n    {\n      \"column\": \"age.1\",\n      \"properties\": {\n        \"dtype\": \"number\",\n        \"std\": 4,\n        \"min\": 21,\n        \"max\": 65,\n        \"num_unique_values\": 45,\n        \"samples\": [\n          25,\n          32\n        ],\n        \"semantic_type\": \"\",\n        \"description\": \"\"\n      }\n    },\n    {\n      \"column\": \"Loan Status\",\n      \"properties\": {\n        \"dtype\": \"category\",\n        \"num_unique_values\": 2,\n        \"samples\": [\n          \"Defaulted\",\n          \"Did not default\"\n        ],\n        \"semantic_type\": \"\",\n        \"description\": \"\"\n      }\n    }\n  ]\n}"
            }
          },
          "metadata": {},
          "execution_count": 7
        }
      ]
    },
    {
      "cell_type": "markdown",
      "source": [
        "#### Cleaning of the data with aspects observed(a comprehensive/shorter way)."
      ],
      "metadata": {
        "id": "ULTiO7ofHrU9"
      }
    },
    {
      "cell_type": "markdown",
      "source": [
        "\n",
        "\n",
        "> Summarry of data Cleaning of dataframe of loans"
      ],
      "metadata": {
        "id": "Y5hohOjfHxK_"
      }
    },
    {
      "cell_type": "code",
      "source": [
        "# Summarry of data Cleaning of dataframe of loans\n",
        "def wrangle(df):\n",
        "    def clean_currency(value):\n",
        "        return re.sub(r'\\$', '', value)\n",
        "    def empty_strings(series):\n",
        "        return series.replace(r'^\\s*$', 'other', regex = True)\n",
        "\n",
        "    df['currency'] = df['currency'].astype(str)\n",
        "    df['marital_status'] = df['marital_status'].astype(str)\n",
        "        #cleaning dollar sign on currency\n",
        "    df['currency'] = df['currency'].apply(clean_currency)\n",
        "\n",
        "        #cleaning empty strings on marital status\n",
        "    df['marital_status'] = empty_strings(df['marital_status'])\n",
        "        # Droping the duplicates rowwise\n",
        "    df=df.drop_duplicates()\n",
        "\n",
        "        #Droping null values\n",
        "    df=df.dropna(how='any')\n",
        "\n",
        "\n",
        "    df= df.rename(columns={\"remaining term\" : \"remaining_term\"})\n",
        "    df= df.rename(columns={\"Loan Status\" : \"Loan_Status\"})\n",
        "\n",
        "        # Using Pandas to change their datatypes\n",
        "    df['disbursemet_date'] = pd.to_datetime(df['disbursemet_date'],\n",
        "                                              format ='%Y %m %d')\n",
        "    df['remaining_term']= pd.to_numeric(df['remaining_term'], errors= 'coerce')\n",
        "\n",
        "        #removing outliers\n",
        "        # remaining term\n",
        "    df = df[df[\"remaining_term\"]<80]\n",
        "\n",
        "\n",
        "        # outlier ...interest rate--\n",
        "    i1, i9 = df[\"interest_rate\"].quantile([0.01, 0.99])\n",
        "    mask = df[\"interest_rate\"].between(i1, i9)\n",
        "    df = df[mask]\n",
        "\n",
        "        # outlier ...loan amount--\n",
        "        #l1, l9 = df[\"loan_amount\"].quantile([0.05, 0.95])\n",
        "        #mask2 = df[\"loan_amount\"].between(l1, l9)\n",
        "        #df = df[mask2]\n",
        "\n",
        "        # outlier ...outstanding balance--\n",
        "        #o1, o9 = df[\"outstanding_balance\"].quantile([0.05, 0.95])\n",
        "        #mask3 = df[\"outstanding_balance\"].between(o1, o9)\n",
        "        #df = df[mask3]\n",
        "\n",
        "        # outlier ...age--\n",
        "        #a1, a9 = df[\"age\"].quantile([0.05, 0.95])\n",
        "        #mask4 = df[\"age\"].between(a1, a9)\n",
        "        #df = df[mask4]\n",
        "\n",
        "        #lets drop the columns that are duplicated\n",
        "        #Droping sex , number_of_defaults.1 and age.1\n",
        "    columns_to_drop =['sex', 'number_of_defaults.1', 'age.1']\n",
        "    df =df.drop(columns_to_drop, axis=1)\n",
        "\n",
        "    return df"
      ],
      "metadata": {
        "id": "qmYPj8i3HjkU"
      },
      "execution_count": null,
      "outputs": []
    },
    {
      "cell_type": "markdown",
      "source": [
        "With wrangle function im cleaning the df at once with observed issues on data exploration."
      ],
      "metadata": {
        "id": "6sWWjSF1H9iA"
      }
    },
    {
      "cell_type": "code",
      "source": [
        "df = wrangle(df)"
      ],
      "metadata": {
        "id": "uJ3TU86FIBiV"
      },
      "execution_count": null,
      "outputs": []
    },
    {
      "cell_type": "markdown",
      "source": [
        "# EDA"
      ],
      "metadata": {
        "id": "zYOb7rpRH9BE"
      }
    },
    {
      "cell_type": "markdown",
      "source": [
        "> More information about df."
      ],
      "metadata": {
        "id": "ehKBQkGiIS61"
      }
    },
    {
      "cell_type": "code",
      "source": [
        "df.info()\n",
        "df.shape"
      ],
      "metadata": {
        "colab": {
          "base_uri": "https://localhost:8080/"
        },
        "id": "hLFmzMROIJ66",
        "outputId": "44fa0e18-9853-4024-9176-0324463a64ea"
      },
      "execution_count": 8,
      "outputs": [
        {
          "output_type": "stream",
          "name": "stdout",
          "text": [
            "<class 'pandas.core.frame.DataFrame'>\n",
            "Index: 100000 entries, 0 to 99999\n",
            "Data columns (total 20 columns):\n",
            " #   Column                Non-Null Count   Dtype  \n",
            "---  ------                --------------   -----  \n",
            " 0   loan_id               100000 non-null  object \n",
            " 1   gender                100000 non-null  object \n",
            " 2   disbursemet_date      100000 non-null  object \n",
            " 3   currency              100000 non-null  object \n",
            " 4   country               99900 non-null   object \n",
            " 5   sex                   100000 non-null  object \n",
            " 6   is_employed           100000 non-null  bool   \n",
            " 7   job                   95864 non-null   object \n",
            " 8   location              99405 non-null   object \n",
            " 9   loan_amount           100000 non-null  float64\n",
            " 10  number_of_defaults    100000 non-null  int64  \n",
            " 11  outstanding_balance   100000 non-null  float64\n",
            " 12  interest_rate         100000 non-null  float64\n",
            " 13  age                   100000 non-null  int64  \n",
            " 14  number_of_defaults.1  100000 non-null  int64  \n",
            " 15  remaining term        100000 non-null  object \n",
            " 16  salary                100000 non-null  float64\n",
            " 17  marital_status        100000 non-null  object \n",
            " 18  age.1                 100000 non-null  int64  \n",
            " 19  Loan Status           100000 non-null  object \n",
            "dtypes: bool(1), float64(4), int64(4), object(11)\n",
            "memory usage: 17.4+ MB\n"
          ]
        },
        {
          "output_type": "execute_result",
          "data": {
            "text/plain": [
              "(100000, 20)"
            ]
          },
          "metadata": {},
          "execution_count": 8
        }
      ]
    },
    {
      "cell_type": "code",
      "source": [
        "df.describe()"
      ],
      "metadata": {
        "colab": {
          "base_uri": "https://localhost:8080/",
          "height": 321
        },
        "id": "7MvHo3YIIXDz",
        "outputId": "3159ea17-fe07-456b-cd09-93e8976705df"
      },
      "execution_count": 9,
      "outputs": [
        {
          "output_type": "execute_result",
          "data": {
            "text/plain": [
              "         loan_amount  number_of_defaults  outstanding_balance  interest_rate  \\\n",
              "count  100000.000000       100000.000000        100000.000000  100000.000000   \n",
              "mean    31120.000000            0.441970         36964.909763       0.210435   \n",
              "std     15895.093631            0.688286         10014.758477       0.018725   \n",
              "min      1000.000000            0.000000             0.000000       0.100000   \n",
              "25%     21000.000000            0.000000         29625.227472       0.200000   \n",
              "50%     31000.000000            0.000000         35063.852394       0.210000   \n",
              "75%     40000.000000            1.000000         42133.388817       0.220000   \n",
              "max    273000.000000            2.000000        150960.000000       0.300000   \n",
              "\n",
              "                age  number_of_defaults.1         salary         age.1  \n",
              "count  100000.00000         100000.000000  100000.000000  100000.00000  \n",
              "mean       43.57069              0.441970    2781.804324      43.57069  \n",
              "std         4.86376              0.688286     696.450055       4.86376  \n",
              "min        21.00000              0.000000     250.000000      21.00000  \n",
              "25%        40.00000              0.000000    2273.929349      40.00000  \n",
              "50%        44.00000              0.000000    2665.441567      44.00000  \n",
              "75%        47.00000              1.000000    3146.577655      47.00000  \n",
              "max        65.00000              2.000000   10000.000000      65.00000  "
            ],
            "text/html": [
              "\n",
              "  <div id=\"df-05e8d35b-8bee-4727-8389-970942fa16b5\" class=\"colab-df-container\">\n",
              "    <div>\n",
              "<style scoped>\n",
              "    .dataframe tbody tr th:only-of-type {\n",
              "        vertical-align: middle;\n",
              "    }\n",
              "\n",
              "    .dataframe tbody tr th {\n",
              "        vertical-align: top;\n",
              "    }\n",
              "\n",
              "    .dataframe thead th {\n",
              "        text-align: right;\n",
              "    }\n",
              "</style>\n",
              "<table border=\"1\" class=\"dataframe\">\n",
              "  <thead>\n",
              "    <tr style=\"text-align: right;\">\n",
              "      <th></th>\n",
              "      <th>loan_amount</th>\n",
              "      <th>number_of_defaults</th>\n",
              "      <th>outstanding_balance</th>\n",
              "      <th>interest_rate</th>\n",
              "      <th>age</th>\n",
              "      <th>number_of_defaults.1</th>\n",
              "      <th>salary</th>\n",
              "      <th>age.1</th>\n",
              "    </tr>\n",
              "  </thead>\n",
              "  <tbody>\n",
              "    <tr>\n",
              "      <th>count</th>\n",
              "      <td>100000.000000</td>\n",
              "      <td>100000.000000</td>\n",
              "      <td>100000.000000</td>\n",
              "      <td>100000.000000</td>\n",
              "      <td>100000.00000</td>\n",
              "      <td>100000.000000</td>\n",
              "      <td>100000.000000</td>\n",
              "      <td>100000.00000</td>\n",
              "    </tr>\n",
              "    <tr>\n",
              "      <th>mean</th>\n",
              "      <td>31120.000000</td>\n",
              "      <td>0.441970</td>\n",
              "      <td>36964.909763</td>\n",
              "      <td>0.210435</td>\n",
              "      <td>43.57069</td>\n",
              "      <td>0.441970</td>\n",
              "      <td>2781.804324</td>\n",
              "      <td>43.57069</td>\n",
              "    </tr>\n",
              "    <tr>\n",
              "      <th>std</th>\n",
              "      <td>15895.093631</td>\n",
              "      <td>0.688286</td>\n",
              "      <td>10014.758477</td>\n",
              "      <td>0.018725</td>\n",
              "      <td>4.86376</td>\n",
              "      <td>0.688286</td>\n",
              "      <td>696.450055</td>\n",
              "      <td>4.86376</td>\n",
              "    </tr>\n",
              "    <tr>\n",
              "      <th>min</th>\n",
              "      <td>1000.000000</td>\n",
              "      <td>0.000000</td>\n",
              "      <td>0.000000</td>\n",
              "      <td>0.100000</td>\n",
              "      <td>21.00000</td>\n",
              "      <td>0.000000</td>\n",
              "      <td>250.000000</td>\n",
              "      <td>21.00000</td>\n",
              "    </tr>\n",
              "    <tr>\n",
              "      <th>25%</th>\n",
              "      <td>21000.000000</td>\n",
              "      <td>0.000000</td>\n",
              "      <td>29625.227472</td>\n",
              "      <td>0.200000</td>\n",
              "      <td>40.00000</td>\n",
              "      <td>0.000000</td>\n",
              "      <td>2273.929349</td>\n",
              "      <td>40.00000</td>\n",
              "    </tr>\n",
              "    <tr>\n",
              "      <th>50%</th>\n",
              "      <td>31000.000000</td>\n",
              "      <td>0.000000</td>\n",
              "      <td>35063.852394</td>\n",
              "      <td>0.210000</td>\n",
              "      <td>44.00000</td>\n",
              "      <td>0.000000</td>\n",
              "      <td>2665.441567</td>\n",
              "      <td>44.00000</td>\n",
              "    </tr>\n",
              "    <tr>\n",
              "      <th>75%</th>\n",
              "      <td>40000.000000</td>\n",
              "      <td>1.000000</td>\n",
              "      <td>42133.388817</td>\n",
              "      <td>0.220000</td>\n",
              "      <td>47.00000</td>\n",
              "      <td>1.000000</td>\n",
              "      <td>3146.577655</td>\n",
              "      <td>47.00000</td>\n",
              "    </tr>\n",
              "    <tr>\n",
              "      <th>max</th>\n",
              "      <td>273000.000000</td>\n",
              "      <td>2.000000</td>\n",
              "      <td>150960.000000</td>\n",
              "      <td>0.300000</td>\n",
              "      <td>65.00000</td>\n",
              "      <td>2.000000</td>\n",
              "      <td>10000.000000</td>\n",
              "      <td>65.00000</td>\n",
              "    </tr>\n",
              "  </tbody>\n",
              "</table>\n",
              "</div>\n",
              "    <div class=\"colab-df-buttons\">\n",
              "\n",
              "  <div class=\"colab-df-container\">\n",
              "    <button class=\"colab-df-convert\" onclick=\"convertToInteractive('df-05e8d35b-8bee-4727-8389-970942fa16b5')\"\n",
              "            title=\"Convert this dataframe to an interactive table.\"\n",
              "            style=\"display:none;\">\n",
              "\n",
              "  <svg xmlns=\"http://www.w3.org/2000/svg\" height=\"24px\" viewBox=\"0 -960 960 960\">\n",
              "    <path d=\"M120-120v-720h720v720H120Zm60-500h600v-160H180v160Zm220 220h160v-160H400v160Zm0 220h160v-160H400v160ZM180-400h160v-160H180v160Zm440 0h160v-160H620v160ZM180-180h160v-160H180v160Zm440 0h160v-160H620v160Z\"/>\n",
              "  </svg>\n",
              "    </button>\n",
              "\n",
              "  <style>\n",
              "    .colab-df-container {\n",
              "      display:flex;\n",
              "      gap: 12px;\n",
              "    }\n",
              "\n",
              "    .colab-df-convert {\n",
              "      background-color: #E8F0FE;\n",
              "      border: none;\n",
              "      border-radius: 50%;\n",
              "      cursor: pointer;\n",
              "      display: none;\n",
              "      fill: #1967D2;\n",
              "      height: 32px;\n",
              "      padding: 0 0 0 0;\n",
              "      width: 32px;\n",
              "    }\n",
              "\n",
              "    .colab-df-convert:hover {\n",
              "      background-color: #E2EBFA;\n",
              "      box-shadow: 0px 1px 2px rgba(60, 64, 67, 0.3), 0px 1px 3px 1px rgba(60, 64, 67, 0.15);\n",
              "      fill: #174EA6;\n",
              "    }\n",
              "\n",
              "    .colab-df-buttons div {\n",
              "      margin-bottom: 4px;\n",
              "    }\n",
              "\n",
              "    [theme=dark] .colab-df-convert {\n",
              "      background-color: #3B4455;\n",
              "      fill: #D2E3FC;\n",
              "    }\n",
              "\n",
              "    [theme=dark] .colab-df-convert:hover {\n",
              "      background-color: #434B5C;\n",
              "      box-shadow: 0px 1px 3px 1px rgba(0, 0, 0, 0.15);\n",
              "      filter: drop-shadow(0px 1px 2px rgba(0, 0, 0, 0.3));\n",
              "      fill: #FFFFFF;\n",
              "    }\n",
              "  </style>\n",
              "\n",
              "    <script>\n",
              "      const buttonEl =\n",
              "        document.querySelector('#df-05e8d35b-8bee-4727-8389-970942fa16b5 button.colab-df-convert');\n",
              "      buttonEl.style.display =\n",
              "        google.colab.kernel.accessAllowed ? 'block' : 'none';\n",
              "\n",
              "      async function convertToInteractive(key) {\n",
              "        const element = document.querySelector('#df-05e8d35b-8bee-4727-8389-970942fa16b5');\n",
              "        const dataTable =\n",
              "          await google.colab.kernel.invokeFunction('convertToInteractive',\n",
              "                                                    [key], {});\n",
              "        if (!dataTable) return;\n",
              "\n",
              "        const docLinkHtml = 'Like what you see? Visit the ' +\n",
              "          '<a target=\"_blank\" href=https://colab.research.google.com/notebooks/data_table.ipynb>data table notebook</a>'\n",
              "          + ' to learn more about interactive tables.';\n",
              "        element.innerHTML = '';\n",
              "        dataTable['output_type'] = 'display_data';\n",
              "        await google.colab.output.renderOutput(dataTable, element);\n",
              "        const docLink = document.createElement('div');\n",
              "        docLink.innerHTML = docLinkHtml;\n",
              "        element.appendChild(docLink);\n",
              "      }\n",
              "    </script>\n",
              "  </div>\n",
              "\n",
              "\n",
              "<div id=\"df-d3496cf3-c8fb-4f59-bb59-e9aad9bd4705\">\n",
              "  <button class=\"colab-df-quickchart\" onclick=\"quickchart('df-d3496cf3-c8fb-4f59-bb59-e9aad9bd4705')\"\n",
              "            title=\"Suggest charts\"\n",
              "            style=\"display:none;\">\n",
              "\n",
              "<svg xmlns=\"http://www.w3.org/2000/svg\" height=\"24px\"viewBox=\"0 0 24 24\"\n",
              "     width=\"24px\">\n",
              "    <g>\n",
              "        <path d=\"M19 3H5c-1.1 0-2 .9-2 2v14c0 1.1.9 2 2 2h14c1.1 0 2-.9 2-2V5c0-1.1-.9-2-2-2zM9 17H7v-7h2v7zm4 0h-2V7h2v10zm4 0h-2v-4h2v4z\"/>\n",
              "    </g>\n",
              "</svg>\n",
              "  </button>\n",
              "\n",
              "<style>\n",
              "  .colab-df-quickchart {\n",
              "      --bg-color: #E8F0FE;\n",
              "      --fill-color: #1967D2;\n",
              "      --hover-bg-color: #E2EBFA;\n",
              "      --hover-fill-color: #174EA6;\n",
              "      --disabled-fill-color: #AAA;\n",
              "      --disabled-bg-color: #DDD;\n",
              "  }\n",
              "\n",
              "  [theme=dark] .colab-df-quickchart {\n",
              "      --bg-color: #3B4455;\n",
              "      --fill-color: #D2E3FC;\n",
              "      --hover-bg-color: #434B5C;\n",
              "      --hover-fill-color: #FFFFFF;\n",
              "      --disabled-bg-color: #3B4455;\n",
              "      --disabled-fill-color: #666;\n",
              "  }\n",
              "\n",
              "  .colab-df-quickchart {\n",
              "    background-color: var(--bg-color);\n",
              "    border: none;\n",
              "    border-radius: 50%;\n",
              "    cursor: pointer;\n",
              "    display: none;\n",
              "    fill: var(--fill-color);\n",
              "    height: 32px;\n",
              "    padding: 0;\n",
              "    width: 32px;\n",
              "  }\n",
              "\n",
              "  .colab-df-quickchart:hover {\n",
              "    background-color: var(--hover-bg-color);\n",
              "    box-shadow: 0 1px 2px rgba(60, 64, 67, 0.3), 0 1px 3px 1px rgba(60, 64, 67, 0.15);\n",
              "    fill: var(--button-hover-fill-color);\n",
              "  }\n",
              "\n",
              "  .colab-df-quickchart-complete:disabled,\n",
              "  .colab-df-quickchart-complete:disabled:hover {\n",
              "    background-color: var(--disabled-bg-color);\n",
              "    fill: var(--disabled-fill-color);\n",
              "    box-shadow: none;\n",
              "  }\n",
              "\n",
              "  .colab-df-spinner {\n",
              "    border: 2px solid var(--fill-color);\n",
              "    border-color: transparent;\n",
              "    border-bottom-color: var(--fill-color);\n",
              "    animation:\n",
              "      spin 1s steps(1) infinite;\n",
              "  }\n",
              "\n",
              "  @keyframes spin {\n",
              "    0% {\n",
              "      border-color: transparent;\n",
              "      border-bottom-color: var(--fill-color);\n",
              "      border-left-color: var(--fill-color);\n",
              "    }\n",
              "    20% {\n",
              "      border-color: transparent;\n",
              "      border-left-color: var(--fill-color);\n",
              "      border-top-color: var(--fill-color);\n",
              "    }\n",
              "    30% {\n",
              "      border-color: transparent;\n",
              "      border-left-color: var(--fill-color);\n",
              "      border-top-color: var(--fill-color);\n",
              "      border-right-color: var(--fill-color);\n",
              "    }\n",
              "    40% {\n",
              "      border-color: transparent;\n",
              "      border-right-color: var(--fill-color);\n",
              "      border-top-color: var(--fill-color);\n",
              "    }\n",
              "    60% {\n",
              "      border-color: transparent;\n",
              "      border-right-color: var(--fill-color);\n",
              "    }\n",
              "    80% {\n",
              "      border-color: transparent;\n",
              "      border-right-color: var(--fill-color);\n",
              "      border-bottom-color: var(--fill-color);\n",
              "    }\n",
              "    90% {\n",
              "      border-color: transparent;\n",
              "      border-bottom-color: var(--fill-color);\n",
              "    }\n",
              "  }\n",
              "</style>\n",
              "\n",
              "  <script>\n",
              "    async function quickchart(key) {\n",
              "      const quickchartButtonEl =\n",
              "        document.querySelector('#' + key + ' button');\n",
              "      quickchartButtonEl.disabled = true;  // To prevent multiple clicks.\n",
              "      quickchartButtonEl.classList.add('colab-df-spinner');\n",
              "      try {\n",
              "        const charts = await google.colab.kernel.invokeFunction(\n",
              "            'suggestCharts', [key], {});\n",
              "      } catch (error) {\n",
              "        console.error('Error during call to suggestCharts:', error);\n",
              "      }\n",
              "      quickchartButtonEl.classList.remove('colab-df-spinner');\n",
              "      quickchartButtonEl.classList.add('colab-df-quickchart-complete');\n",
              "    }\n",
              "    (() => {\n",
              "      let quickchartButtonEl =\n",
              "        document.querySelector('#df-d3496cf3-c8fb-4f59-bb59-e9aad9bd4705 button');\n",
              "      quickchartButtonEl.style.display =\n",
              "        google.colab.kernel.accessAllowed ? 'block' : 'none';\n",
              "    })();\n",
              "  </script>\n",
              "</div>\n",
              "\n",
              "    </div>\n",
              "  </div>\n"
            ],
            "application/vnd.google.colaboratory.intrinsic+json": {
              "type": "dataframe",
              "summary": "{\n  \"name\": \"df\",\n  \"rows\": 8,\n  \"fields\": [\n    {\n      \"column\": \"loan_amount\",\n      \"properties\": {\n        \"dtype\": \"number\",\n        \"std\": 89326.88574226364,\n        \"min\": 1000.0,\n        \"max\": 273000.0,\n        \"num_unique_values\": 8,\n        \"samples\": [\n          31120.0,\n          31000.0,\n          100000.0\n        ],\n        \"semantic_type\": \"\",\n        \"description\": \"\"\n      }\n    },\n    {\n      \"column\": \"number_of_defaults\",\n      \"properties\": {\n        \"dtype\": \"number\",\n        \"std\": 35355.13045644004,\n        \"min\": 0.0,\n        \"max\": 100000.0,\n        \"num_unique_values\": 6,\n        \"samples\": [\n          100000.0,\n          0.44197,\n          2.0\n        ],\n        \"semantic_type\": \"\",\n        \"description\": \"\"\n      }\n    },\n    {\n      \"column\": \"outstanding_balance\",\n      \"properties\": {\n        \"dtype\": \"number\",\n        \"std\": 50226.52032254806,\n        \"min\": 0.0,\n        \"max\": 150960.0,\n        \"num_unique_values\": 8,\n        \"samples\": [\n          36964.909763344076,\n          35063.85239422934,\n          100000.0\n        ],\n        \"semantic_type\": \"\",\n        \"description\": \"\"\n      }\n    },\n    {\n      \"column\": \"interest_rate\",\n      \"properties\": {\n        \"dtype\": \"number\",\n        \"std\": 35355.27546222785,\n        \"min\": 0.01872495482182349,\n        \"max\": 100000.0,\n        \"num_unique_values\": 8,\n        \"samples\": [\n          0.21043540000000002,\n          0.21,\n          100000.0\n        ],\n        \"semantic_type\": \"\",\n        \"description\": \"\"\n      }\n    },\n    {\n      \"column\": \"age\",\n      \"properties\": {\n        \"dtype\": \"number\",\n        \"std\": 35341.93717886737,\n        \"min\": 4.863759809601504,\n        \"max\": 100000.0,\n        \"num_unique_values\": 8,\n        \"samples\": [\n          43.57069,\n          44.0,\n          100000.0\n        ],\n        \"semantic_type\": \"\",\n        \"description\": \"\"\n      }\n    },\n    {\n      \"column\": \"number_of_defaults.1\",\n      \"properties\": {\n        \"dtype\": \"number\",\n        \"std\": 35355.13045644004,\n        \"min\": 0.0,\n        \"max\": 100000.0,\n        \"num_unique_values\": 6,\n        \"samples\": [\n          100000.0,\n          0.44197,\n          2.0\n        ],\n        \"semantic_type\": \"\",\n        \"description\": \"\"\n      }\n    },\n    {\n      \"column\": \"salary\",\n      \"properties\": {\n        \"dtype\": \"number\",\n        \"std\": 34383.60231544585,\n        \"min\": 250.0,\n        \"max\": 100000.0,\n        \"num_unique_values\": 8,\n        \"samples\": [\n          2781.804323976965,\n          2665.441567348158,\n          100000.0\n        ],\n        \"semantic_type\": \"\",\n        \"description\": \"\"\n      }\n    },\n    {\n      \"column\": \"age.1\",\n      \"properties\": {\n        \"dtype\": \"number\",\n        \"std\": 35341.93717886737,\n        \"min\": 4.863759809601504,\n        \"max\": 100000.0,\n        \"num_unique_values\": 8,\n        \"samples\": [\n          43.57069,\n          44.0,\n          100000.0\n        ],\n        \"semantic_type\": \"\",\n        \"description\": \"\"\n      }\n    }\n  ]\n}"
            }
          },
          "metadata": {},
          "execution_count": 9
        }
      ]
    },
    {
      "cell_type": "markdown",
      "source": [
        "\n",
        "\n",
        "> Quick overview of the central tendency (mean, median), spread (standard deviation), and range (min, max) of our numerical data.\n",
        "\n",
        "\n",
        "> understanding the distribution of our data, whether it's skewed, normally distributed.\n",
        "\n",
        " >Understanding the characteristics of our numerical features.\n",
        "\n"
      ],
      "metadata": {
        "id": "VRkabiCUIxq8"
      }
    },
    {
      "cell_type": "code",
      "source": [
        "df.hist(figsize=(22,20))\n",
        "plt.show()"
      ],
      "metadata": {
        "colab": {
          "base_uri": "https://localhost:8080/",
          "height": 782
        },
        "id": "laQmwDNUIsg6",
        "outputId": "8a092aad-911a-44e6-e300-6dad1aa30f75"
      },
      "execution_count": 10,
      "outputs": [
        {
          "output_type": "display_data",
          "data": {
            "text/plain": [
              "<Figure size 2200x2000 with 9 Axes>"
            ],
            "image/png": "[encoded data removed]"
          },
          "metadata": {}
        }
      ]
    },
    {
      "cell_type": "markdown",
      "source": [
        "\n",
        "> Checking for missing values in our dataframe.\n",
        "\n"
      ],
      "metadata": {
        "id": "zq_rWs1-JEYq"
      }
    },
    {
      "cell_type": "code",
      "source": [
        "df.isnull().sum()"
      ],
      "metadata": {
        "colab": {
          "base_uri": "https://localhost:8080/"
        },
        "id": "PgYNjs7BI-gy",
        "outputId": "acf1a277-0bd8-4283-a15c-273f011c938a"
      },
      "execution_count": 12,
      "outputs": [
        {
          "output_type": "execute_result",
          "data": {
            "text/plain": [
              "loan_id                    0\n",
              "gender                     0\n",
              "disbursemet_date           0\n",
              "currency                   0\n",
              "country                  100\n",
              "sex                        0\n",
              "is_employed                0\n",
              "job                     4136\n",
              "location                 595\n",
              "loan_amount                0\n",
              "number_of_defaults         0\n",
              "outstanding_balance        0\n",
              "interest_rate              0\n",
              "age                        0\n",
              "number_of_defaults.1       0\n",
              "remaining term             0\n",
              "salary                     0\n",
              "marital_status             0\n",
              "age.1                      0\n",
              "Loan Status                0\n",
              "dtype: int64"
            ]
          },
          "metadata": {},
          "execution_count": 12
        }
      ]
    },
    {
      "cell_type": "code",
      "source": [
        "#Target feature\n",
        "df['Loan Status'].value_counts()"
      ],
      "metadata": {
        "colab": {
          "base_uri": "https://localhost:8080/"
        },
        "id": "u-r2PK5OJI46",
        "outputId": "913c16aa-600b-4a79-e214-d998f1644196"
      },
      "execution_count": 14,
      "outputs": [
        {
          "output_type": "execute_result",
          "data": {
            "text/plain": [
              "Loan Status\n",
              "Did not default    85134\n",
              "Defaulted          14866\n",
              "Name: count, dtype: int64"
            ]
          },
          "metadata": {},
          "execution_count": 14
        }
      ]
    },
    {
      "cell_type": "markdown",
      "source": [
        "> Checking the balance on Loan status."
      ],
      "metadata": {
        "id": "ubgdA_EOKKjt"
      }
    },
    {
      "cell_type": "markdown",
      "source": [
        ">The imbalance is observed here , as the defaults and non-default are proportionaly have big difference which leads to model predicting better on non defaults but missing a lot on defaults(minority bias)."
      ],
      "metadata": {
        "id": "g51zF2NUJmAf"
      }
    },
    {
      "cell_type": "markdown",
      "source": [
        ">First 5 entries."
      ],
      "metadata": {
        "id": "Mbjny514KBtE"
      }
    },
    {
      "cell_type": "code",
      "source": [
        "df.head(5)"
      ],
      "metadata": {
        "colab": {
          "base_uri": "https://localhost:8080/",
          "height": 487
        },
        "id": "Pm6EyJueJc7i",
        "outputId": "36ef1cd4-d8a0-46c2-e8f2-2c5eec4ede4d"
      },
      "execution_count": 15,
      "outputs": [
        {
          "output_type": "execute_result",
          "data": {
            "text/plain": [
              "                                loan_id  gender disbursemet_date currency  \\\n",
              "0  8d05de78-ff32-46b1-aeb5-b3190f9c158a  female       2022 10 29      USD   \n",
              "1  368bf756-fcf2-4822-9612-f445d90b485b   other       2020 06 06      USD   \n",
              "2  6e3be39e-49b5-45b5-aab6-c6556de53c6f   other       2023 09 29      USD   \n",
              "3  191c62f8-2211-49fe-ba91-43556b307871  female       2022 06 22      USD   \n",
              "4  477cd8a1-3b01-4623-9318-8cd6122a8346    male       2023 02 08      USD   \n",
              "\n",
              "    country     sex  is_employed      job    location  loan_amount  \\\n",
              "0  Zimbabwe  female         True  Teacher  Beitbridge      39000.0   \n",
              "1  Zimbabwe   other         True  Teacher      Harare      27000.0   \n",
              "2  Zimbabwe   other         True    Nurse       Gweru      35000.0   \n",
              "3  Zimbabwe  female         True   Doctor      Rusape      24000.0   \n",
              "4  Zimbabwe    male         True    Nurse    Chipinge      19000.0   \n",
              "\n",
              "   number_of_defaults  outstanding_balance  interest_rate  age  \\\n",
              "0                   0         48653.011473           0.22   37   \n",
              "1                   2         28752.062237           0.20   43   \n",
              "2                   1         44797.554126           0.22   43   \n",
              "3                   0         35681.496413           0.23   47   \n",
              "4                   0         34156.055882           0.20   42   \n",
              "\n",
              "   number_of_defaults.1 remaining term       salary marital_status  age.1  \\\n",
              "0                     0             47  3230.038869        married     37   \n",
              "1                     2             62  3194.139103         single     43   \n",
              "2                     1             57  3330.826656        married     43   \n",
              "3                     0             42  2246.797020       divorced     47   \n",
              "4                     0             45  2310.858441        married     42   \n",
              "\n",
              "       Loan Status  \n",
              "0  Did not default  \n",
              "1  Did not default  \n",
              "2  Did not default  \n",
              "3  Did not default  \n",
              "4  Did not default  "
            ],
            "text/html": [
              "\n",
              "  <div id=\"df-31fb8b4e-b8c8-452e-b8ea-b79ec4e06c19\" class=\"colab-df-container\">\n",
              "    <div>\n",
              "<style scoped>\n",
              "    .dataframe tbody tr th:only-of-type {\n",
              "        vertical-align: middle;\n",
              "    }\n",
              "\n",
              "    .dataframe tbody tr th {\n",
              "        vertical-align: top;\n",
              "    }\n",
              "\n",
              "    .dataframe thead th {\n",
              "        text-align: right;\n",
              "    }\n",
              "</style>\n",
              "<table border=\"1\" class=\"dataframe\">\n",
              "  <thead>\n",
              "    <tr style=\"text-align: right;\">\n",
              "      <th></th>\n",
              "      <th>loan_id</th>\n",
              "      <th>gender</th>\n",
              "      <th>disbursemet_date</th>\n",
              "      <th>currency</th>\n",
              "      <th>country</th>\n",
              "      <th>sex</th>\n",
              "      <th>is_employed</th>\n",
              "      <th>job</th>\n",
              "      <th>location</th>\n",
              "      <th>loan_amount</th>\n",
              "      <th>number_of_defaults</th>\n",
              "      <th>outstanding_balance</th>\n",
              "      <th>interest_rate</th>\n",
              "      <th>age</th>\n",
              "      <th>number_of_defaults.1</th>\n",
              "      <th>remaining term</th>\n",
              "      <th>salary</th>\n",
              "      <th>marital_status</th>\n",
              "      <th>age.1</th>\n",
              "      <th>Loan Status</th>\n",
              "    </tr>\n",
              "  </thead>\n",
              "  <tbody>\n",
              "    <tr>\n",
              "      <th>0</th>\n",
              "      <td>8d05de78-ff32-46b1-aeb5-b3190f9c158a</td>\n",
              "      <td>female</td>\n",
              "      <td>2022 10 29</td>\n",
              "      <td>USD</td>\n",
              "      <td>Zimbabwe</td>\n",
              "      <td>female</td>\n",
              "      <td>True</td>\n",
              "      <td>Teacher</td>\n",
              "      <td>Beitbridge</td>\n",
              "      <td>39000.0</td>\n",
              "      <td>0</td>\n",
              "      <td>48653.011473</td>\n",
              "      <td>0.22</td>\n",
              "      <td>37</td>\n",
              "      <td>0</td>\n",
              "      <td>47</td>\n",
              "      <td>3230.038869</td>\n",
              "      <td>married</td>\n",
              "      <td>37</td>\n",
              "      <td>Did not default</td>\n",
              "    </tr>\n",
              "    <tr>\n",
              "      <th>1</th>\n",
              "      <td>368bf756-fcf2-4822-9612-f445d90b485b</td>\n",
              "      <td>other</td>\n",
              "      <td>2020 06 06</td>\n",
              "      <td>USD</td>\n",
              "      <td>Zimbabwe</td>\n",
              "      <td>other</td>\n",
              "      <td>True</td>\n",
              "      <td>Teacher</td>\n",
              "      <td>Harare</td>\n",
              "      <td>27000.0</td>\n",
              "      <td>2</td>\n",
              "      <td>28752.062237</td>\n",
              "      <td>0.20</td>\n",
              "      <td>43</td>\n",
              "      <td>2</td>\n",
              "      <td>62</td>\n",
              "      <td>3194.139103</td>\n",
              "      <td>single</td>\n",
              "      <td>43</td>\n",
              "      <td>Did not default</td>\n",
              "    </tr>\n",
              "    <tr>\n",
              "      <th>2</th>\n",
              "      <td>6e3be39e-49b5-45b5-aab6-c6556de53c6f</td>\n",
              "      <td>other</td>\n",
              "      <td>2023 09 29</td>\n",
              "      <td>USD</td>\n",
              "      <td>Zimbabwe</td>\n",
              "      <td>other</td>\n",
              "      <td>True</td>\n",
              "      <td>Nurse</td>\n",
              "      <td>Gweru</td>\n",
              "      <td>35000.0</td>\n",
              "      <td>1</td>\n",
              "      <td>44797.554126</td>\n",
              "      <td>0.22</td>\n",
              "      <td>43</td>\n",
              "      <td>1</td>\n",
              "      <td>57</td>\n",
              "      <td>3330.826656</td>\n",
              "      <td>married</td>\n",
              "      <td>43</td>\n",
              "      <td>Did not default</td>\n",
              "    </tr>\n",
              "    <tr>\n",
              "      <th>3</th>\n",
              "      <td>191c62f8-2211-49fe-ba91-43556b307871</td>\n",
              "      <td>female</td>\n",
              "      <td>2022 06 22</td>\n",
              "      <td>USD</td>\n",
              "      <td>Zimbabwe</td>\n",
              "      <td>female</td>\n",
              "      <td>True</td>\n",
              "      <td>Doctor</td>\n",
              "      <td>Rusape</td>\n",
              "      <td>24000.0</td>\n",
              "      <td>0</td>\n",
              "      <td>35681.496413</td>\n",
              "      <td>0.23</td>\n",
              "      <td>47</td>\n",
              "      <td>0</td>\n",
              "      <td>42</td>\n",
              "      <td>2246.797020</td>\n",
              "      <td>divorced</td>\n",
              "      <td>47</td>\n",
              "      <td>Did not default</td>\n",
              "    </tr>\n",
              "    <tr>\n",
              "      <th>4</th>\n",
              "      <td>477cd8a1-3b01-4623-9318-8cd6122a8346</td>\n",
              "      <td>male</td>\n",
              "      <td>2023 02 08</td>\n",
              "      <td>USD</td>\n",
              "      <td>Zimbabwe</td>\n",
              "      <td>male</td>\n",
              "      <td>True</td>\n",
              "      <td>Nurse</td>\n",
              "      <td>Chipinge</td>\n",
              "      <td>19000.0</td>\n",
              "      <td>0</td>\n",
              "      <td>34156.055882</td>\n",
              "      <td>0.20</td>\n",
              "      <td>42</td>\n",
              "      <td>0</td>\n",
              "      <td>45</td>\n",
              "      <td>2310.858441</td>\n",
              "      <td>married</td>\n",
              "      <td>42</td>\n",
              "      <td>Did not default</td>\n",
              "    </tr>\n",
              "  </tbody>\n",
              "</table>\n",
              "</div>\n",
              "    <div class=\"colab-df-buttons\">\n",
              "\n",
              "  <div class=\"colab-df-container\">\n",
              "    <button class=\"colab-df-convert\" onclick=\"convertToInteractive('df-31fb8b4e-b8c8-452e-b8ea-b79ec4e06c19')\"\n",
              "            title=\"Convert this dataframe to an interactive table.\"\n",
              "            style=\"display:none;\">\n",
              "\n",
              "  <svg xmlns=\"http://www.w3.org/2000/svg\" height=\"24px\" viewBox=\"0 -960 960 960\">\n",
              "    <path d=\"M120-120v-720h720v720H120Zm60-500h600v-160H180v160Zm220 220h160v-160H400v160Zm0 220h160v-160H400v160ZM180-400h160v-160H180v160Zm440 0h160v-160H620v160ZM180-180h160v-160H180v160Zm440 0h160v-160H620v160Z\"/>\n",
              "  </svg>\n",
              "    </button>\n",
              "\n",
              "  <style>\n",
              "    .colab-df-container {\n",
              "      display:flex;\n",
              "      gap: 12px;\n",
              "    }\n",
              "\n",
              "    .colab-df-convert {\n",
              "      background-color: #E8F0FE;\n",
              "      border: none;\n",
              "      border-radius: 50%;\n",
              "      cursor: pointer;\n",
              "      display: none;\n",
              "      fill: #1967D2;\n",
              "      height: 32px;\n",
              "      padding: 0 0 0 0;\n",
              "      width: 32px;\n",
              "    }\n",
              "\n",
              "    .colab-df-convert:hover {\n",
              "      background-color: #E2EBFA;\n",
              "      box-shadow: 0px 1px 2px rgba(60, 64, 67, 0.3), 0px 1px 3px 1px rgba(60, 64, 67, 0.15);\n",
              "      fill: #174EA6;\n",
              "    }\n",
              "\n",
              "    .colab-df-buttons div {\n",
              "      margin-bottom: 4px;\n",
              "    }\n",
              "\n",
              "    [theme=dark] .colab-df-convert {\n",
              "      background-color: #3B4455;\n",
              "      fill: #D2E3FC;\n",
              "    }\n",
              "\n",
              "    [theme=dark] .colab-df-convert:hover {\n",
              "      background-color: #434B5C;\n",
              "      box-shadow: 0px 1px 3px 1px rgba(0, 0, 0, 0.15);\n",
              "      filter: drop-shadow(0px 1px 2px rgba(0, 0, 0, 0.3));\n",
              "      fill: #FFFFFF;\n",
              "    }\n",
              "  </style>\n",
              "\n",
              "    <script>\n",
              "      const buttonEl =\n",
              "        document.querySelector('#df-31fb8b4e-b8c8-452e-b8ea-b79ec4e06c19 button.colab-df-convert');\n",
              "      buttonEl.style.display =\n",
              "        google.colab.kernel.accessAllowed ? 'block' : 'none';\n",
              "\n",
              "      async function convertToInteractive(key) {\n",
              "        const element = document.querySelector('#df-31fb8b4e-b8c8-452e-b8ea-b79ec4e06c19');\n",
              "        const dataTable =\n",
              "          await google.colab.kernel.invokeFunction('convertToInteractive',\n",
              "                                                    [key], {});\n",
              "        if (!dataTable) return;\n",
              "\n",
              "        const docLinkHtml = 'Like what you see? Visit the ' +\n",
              "          '<a target=\"_blank\" href=https://colab.research.google.com/notebooks/data_table.ipynb>data table notebook</a>'\n",
              "          + ' to learn more about interactive tables.';\n",
              "        element.innerHTML = '';\n",
              "        dataTable['output_type'] = 'display_data';\n",
              "        await google.colab.output.renderOutput(dataTable, element);\n",
              "        const docLink = document.createElement('div');\n",
              "        docLink.innerHTML = docLinkHtml;\n",
              "        element.appendChild(docLink);\n",
              "      }\n",
              "    </script>\n",
              "  </div>\n",
              "\n",
              "\n",
              "<div id=\"df-0ecea846-53d3-498d-85e1-b534b0bb2377\">\n",
              "  <button class=\"colab-df-quickchart\" onclick=\"quickchart('df-0ecea846-53d3-498d-85e1-b534b0bb2377')\"\n",
              "            title=\"Suggest charts\"\n",
              "            style=\"display:none;\">\n",
              "\n",
              "<svg xmlns=\"http://www.w3.org/2000/svg\" height=\"24px\"viewBox=\"0 0 24 24\"\n",
              "     width=\"24px\">\n",
              "    <g>\n",
              "        <path d=\"M19 3H5c-1.1 0-2 .9-2 2v14c0 1.1.9 2 2 2h14c1.1 0 2-.9 2-2V5c0-1.1-.9-2-2-2zM9 17H7v-7h2v7zm4 0h-2V7h2v10zm4 0h-2v-4h2v4z\"/>\n",
              "    </g>\n",
              "</svg>\n",
              "  </button>\n",
              "\n",
              "<style>\n",
              "  .colab-df-quickchart {\n",
              "      --bg-color: #E8F0FE;\n",
              "      --fill-color: #1967D2;\n",
              "      --hover-bg-color: #E2EBFA;\n",
              "      --hover-fill-color: #174EA6;\n",
              "      --disabled-fill-color: #AAA;\n",
              "      --disabled-bg-color: #DDD;\n",
              "  }\n",
              "\n",
              "  [theme=dark] .colab-df-quickchart {\n",
              "      --bg-color: #3B4455;\n",
              "      --fill-color: #D2E3FC;\n",
              "      --hover-bg-color: #434B5C;\n",
              "      --hover-fill-color: #FFFFFF;\n",
              "      --disabled-bg-color: #3B4455;\n",
              "      --disabled-fill-color: #666;\n",
              "  }\n",
              "\n",
              "  .colab-df-quickchart {\n",
              "    background-color: var(--bg-color);\n",
              "    border: none;\n",
              "    border-radius: 50%;\n",
              "    cursor: pointer;\n",
              "    display: none;\n",
              "    fill: var(--fill-color);\n",
              "    height: 32px;\n",
              "    padding: 0;\n",
              "    width: 32px;\n",
              "  }\n",
              "\n",
              "  .colab-df-quickchart:hover {\n",
              "    background-color: var(--hover-bg-color);\n",
              "    box-shadow: 0 1px 2px rgba(60, 64, 67, 0.3), 0 1px 3px 1px rgba(60, 64, 67, 0.15);\n",
              "    fill: var(--button-hover-fill-color);\n",
              "  }\n",
              "\n",
              "  .colab-df-quickchart-complete:disabled,\n",
              "  .colab-df-quickchart-complete:disabled:hover {\n",
              "    background-color: var(--disabled-bg-color);\n",
              "    fill: var(--disabled-fill-color);\n",
              "    box-shadow: none;\n",
              "  }\n",
              "\n",
              "  .colab-df-spinner {\n",
              "    border: 2px solid var(--fill-color);\n",
              "    border-color: transparent;\n",
              "    border-bottom-color: var(--fill-color);\n",
              "    animation:\n",
              "      spin 1s steps(1) infinite;\n",
              "  }\n",
              "\n",
              "  @keyframes spin {\n",
              "    0% {\n",
              "      border-color: transparent;\n",
              "      border-bottom-color: var(--fill-color);\n",
              "      border-left-color: var(--fill-color);\n",
              "    }\n",
              "    20% {\n",
              "      border-color: transparent;\n",
              "      border-left-color: var(--fill-color);\n",
              "      border-top-color: var(--fill-color);\n",
              "    }\n",
              "    30% {\n",
              "      border-color: transparent;\n",
              "      border-left-color: var(--fill-color);\n",
              "      border-top-color: var(--fill-color);\n",
              "      border-right-color: var(--fill-color);\n",
              "    }\n",
              "    40% {\n",
              "      border-color: transparent;\n",
              "      border-right-color: var(--fill-color);\n",
              "      border-top-color: var(--fill-color);\n",
              "    }\n",
              "    60% {\n",
              "      border-color: transparent;\n",
              "      border-right-color: var(--fill-color);\n",
              "    }\n",
              "    80% {\n",
              "      border-color: transparent;\n",
              "      border-right-color: var(--fill-color);\n",
              "      border-bottom-color: var(--fill-color);\n",
              "    }\n",
              "    90% {\n",
              "      border-color: transparent;\n",
              "      border-bottom-color: var(--fill-color);\n",
              "    }\n",
              "  }\n",
              "</style>\n",
              "\n",
              "  <script>\n",
              "    async function quickchart(key) {\n",
              "      const quickchartButtonEl =\n",
              "        document.querySelector('#' + key + ' button');\n",
              "      quickchartButtonEl.disabled = true;  // To prevent multiple clicks.\n",
              "      quickchartButtonEl.classList.add('colab-df-spinner');\n",
              "      try {\n",
              "        const charts = await google.colab.kernel.invokeFunction(\n",
              "            'suggestCharts', [key], {});\n",
              "      } catch (error) {\n",
              "        console.error('Error during call to suggestCharts:', error);\n",
              "      }\n",
              "      quickchartButtonEl.classList.remove('colab-df-spinner');\n",
              "      quickchartButtonEl.classList.add('colab-df-quickchart-complete');\n",
              "    }\n",
              "    (() => {\n",
              "      let quickchartButtonEl =\n",
              "        document.querySelector('#df-0ecea846-53d3-498d-85e1-b534b0bb2377 button');\n",
              "      quickchartButtonEl.style.display =\n",
              "        google.colab.kernel.accessAllowed ? 'block' : 'none';\n",
              "    })();\n",
              "  </script>\n",
              "</div>\n",
              "\n",
              "    </div>\n",
              "  </div>\n"
            ],
            "application/vnd.google.colaboratory.intrinsic+json": {
              "type": "dataframe",
              "variable_name": "df",
              "summary": "{\n  \"name\": \"df\",\n  \"rows\": 100000,\n  \"fields\": [\n    {\n      \"column\": \"loan_id\",\n      \"properties\": {\n        \"dtype\": \"string\",\n        \"num_unique_values\": 100000,\n        \"samples\": [\n          \"149b1f4a-2a8f-4ba4-a9bc-9dbd3da16279\",\n          \"ddbd1484-d337-460f-a77c-60aa6242073e\",\n          \"fd799449-1a99-4801-a35b-d27ddb931e23\"\n        ],\n        \"semantic_type\": \"\",\n        \"description\": \"\"\n      }\n    },\n    {\n      \"column\": \"gender\",\n      \"properties\": {\n        \"dtype\": \"category\",\n        \"num_unique_values\": 3,\n        \"samples\": [\n          \"female\",\n          \"other\",\n          \"male\"\n        ],\n        \"semantic_type\": \"\",\n        \"description\": \"\"\n      }\n    },\n    {\n      \"column\": \"disbursemet_date\",\n      \"properties\": {\n        \"dtype\": \"object\",\n        \"num_unique_values\": 1461,\n        \"samples\": [\n          \"2020 10 14\",\n          \"2022 03 08\",\n          \"2022 07 20\"\n        ],\n        \"semantic_type\": \"\",\n        \"description\": \"\"\n      }\n    },\n    {\n      \"column\": \"currency\",\n      \"properties\": {\n        \"dtype\": \"category\",\n        \"num_unique_values\": 2,\n        \"samples\": [\n          \"$USD\",\n          \"USD\"\n        ],\n        \"semantic_type\": \"\",\n        \"description\": \"\"\n      }\n    },\n    {\n      \"column\": \"country\",\n      \"properties\": {\n        \"dtype\": \"category\",\n        \"num_unique_values\": 3,\n        \"samples\": [\n          \"Zimbabwe\",\n          \"zimbabwe\"\n        ],\n        \"semantic_type\": \"\",\n        \"description\": \"\"\n      }\n    },\n    {\n      \"column\": \"sex\",\n      \"properties\": {\n        \"dtype\": \"category\",\n        \"num_unique_values\": 3,\n        \"samples\": [\n          \"female\",\n          \"other\"\n        ],\n        \"semantic_type\": \"\",\n        \"description\": \"\"\n      }\n    },\n    {\n      \"column\": \"is_employed\",\n      \"properties\": {\n        \"dtype\": \"boolean\",\n        \"num_unique_values\": 2,\n        \"samples\": [\n          false,\n          true\n        ],\n        \"semantic_type\": \"\",\n        \"description\": \"\"\n      }\n    },\n    {\n      \"column\": \"job\",\n      \"properties\": {\n        \"dtype\": \"category\",\n        \"num_unique_values\": 11,\n        \"samples\": [\n          \"Accountant\",\n          \"Teacher\"\n        ],\n        \"semantic_type\": \"\",\n        \"description\": \"\"\n      }\n    },\n    {\n      \"column\": \"location\",\n      \"properties\": {\n        \"dtype\": \"category\",\n        \"num_unique_values\": 157,\n        \"samples\": [\n          \" Redcliff \",\n          \" Beitbridge \"\n        ],\n        \"semantic_type\": \"\",\n        \"description\": \"\"\n      }\n    },\n    {\n      \"column\": \"loan_amount\",\n      \"properties\": {\n        \"dtype\": \"number\",\n        \"std\": 15895.09363105532,\n        \"min\": 1000.0,\n        \"max\": 273000.0,\n        \"num_unique_values\": 149,\n        \"samples\": [\n          114000.0,\n          33000.0\n        ],\n        \"semantic_type\": \"\",\n        \"description\": \"\"\n      }\n    },\n    {\n      \"column\": \"number_of_defaults\",\n      \"properties\": {\n        \"dtype\": \"number\",\n        \"std\": 0,\n        \"min\": 0,\n        \"max\": 2,\n        \"num_unique_values\": 3,\n        \"samples\": [\n          0,\n          2\n        ],\n        \"semantic_type\": \"\",\n        \"description\": \"\"\n      }\n    },\n    {\n      \"column\": \"outstanding_balance\",\n      \"properties\": {\n        \"dtype\": \"number\",\n        \"std\": 10014.758477252752,\n        \"min\": 0.0,\n        \"max\": 150960.0,\n        \"num_unique_values\": 100000,\n        \"samples\": [\n          26104.30666312214,\n          33784.97060967834\n        ],\n        \"semantic_type\": \"\",\n        \"description\": \"\"\n      }\n    },\n    {\n      \"column\": \"interest_rate\",\n      \"properties\": {\n        \"dtype\": \"number\",\n        \"std\": 0.01872495482182349,\n        \"min\": 0.1,\n        \"max\": 0.3,\n        \"num_unique_values\": 21,\n        \"samples\": [\n          0.22,\n          0.29\n        ],\n        \"semantic_type\": \"\",\n        \"description\": \"\"\n      }\n    },\n    {\n      \"column\": \"age\",\n      \"properties\": {\n        \"dtype\": \"number\",\n        \"std\": 4,\n        \"min\": 21,\n        \"max\": 65,\n        \"num_unique_values\": 45,\n        \"samples\": [\n          25,\n          32\n        ],\n        \"semantic_type\": \"\",\n        \"description\": \"\"\n      }\n    },\n    {\n      \"column\": \"number_of_defaults.1\",\n      \"properties\": {\n        \"dtype\": \"number\",\n        \"std\": 0,\n        \"min\": 0,\n        \"max\": 2,\n        \"num_unique_values\": 3,\n        \"samples\": [\n          0,\n          2\n        ],\n        \"semantic_type\": \"\",\n        \"description\": \"\"\n      }\n    },\n    {\n      \"column\": \"remaining term\",\n      \"properties\": {\n        \"dtype\": \"category\",\n        \"num_unique_values\": 262,\n        \"samples\": [\n          \"17_\",\n          \"75   \"\n        ],\n        \"semantic_type\": \"\",\n        \"description\": \"\"\n      }\n    },\n    {\n      \"column\": \"salary\",\n      \"properties\": {\n        \"dtype\": \"number\",\n        \"std\": 696.4500551031236,\n        \"min\": 250.0,\n        \"max\": 10000.0,\n        \"num_unique_values\": 100000,\n        \"samples\": [\n          2308.0904599731853,\n          4780.969562366804\n        ],\n        \"semantic_type\": \"\",\n        \"description\": \"\"\n      }\n    },\n    {\n      \"column\": \"marital_status\",\n      \"properties\": {\n        \"dtype\": \"category\",\n        \"num_unique_values\": 4,\n        \"samples\": [\n          \"single\",\n          \" \"\n        ],\n        \"semantic_type\": \"\",\n        \"description\": \"\"\n      }\n    },\n    {\n      \"column\": \"age.1\",\n      \"properties\": {\n        \"dtype\": \"number\",\n        \"std\": 4,\n        \"min\": 21,\n        \"max\": 65,\n        \"num_unique_values\": 45,\n        \"samples\": [\n          25,\n          32\n        ],\n        \"semantic_type\": \"\",\n        \"description\": \"\"\n      }\n    },\n    {\n      \"column\": \"Loan Status\",\n      \"properties\": {\n        \"dtype\": \"category\",\n        \"num_unique_values\": 2,\n        \"samples\": [\n          \"Defaulted\",\n          \"Did not default\"\n        ],\n        \"semantic_type\": \"\",\n        \"description\": \"\"\n      }\n    }\n  ]\n}"
            }
          },
          "metadata": {},
          "execution_count": 15
        }
      ]
    },
    {
      "cell_type": "markdown",
      "source": [
        "> Checking if we are dealing with same currency?"
      ],
      "metadata": {
        "id": "ZftsqzvaKuKc"
      }
    },
    {
      "cell_type": "code",
      "source": [
        "count_currency = df['currency']\n",
        "print(count_currency.nunique())"
      ],
      "metadata": {
        "colab": {
          "base_uri": "https://localhost:8080/"
        },
        "id": "mzQuUC0qKTqB",
        "outputId": "aa442074-d302-4df6-8737-49c12372cf45"
      },
      "execution_count": 16,
      "outputs": [
        {
          "output_type": "stream",
          "name": "stdout",
          "text": [
            "2\n"
          ]
        }
      ]
    },
    {
      "cell_type": "markdown",
      "source": [
        ">As they are two non unique values then lets see what is the other currency."
      ],
      "metadata": {
        "id": "8dNb3S5IK6ds"
      }
    },
    {
      "cell_type": "code",
      "source": [
        "df_with_other_mask= df['currency']!='USD'\n",
        "df_with_other_currency= df[df_with_other_mask]\n",
        "df_with_other_currency.shape\n",
        "df_with_other_currency.head()"
      ],
      "metadata": {
        "colab": {
          "base_uri": "https://localhost:8080/",
          "height": 504
        },
        "id": "qMy2zSe9KzVC",
        "outputId": "1ab58405-49f7-4b40-e3ef-80ef4be701c4"
      },
      "execution_count": 17,
      "outputs": [
        {
          "output_type": "execute_result",
          "data": {
            "text/plain": [
              "                                    loan_id gender disbursemet_date currency  \\\n",
              "1836   60c3b33d-6229-4501-a9b6-c5e92f25b8af  other       2023 09 07     $USD   \n",
              "11227  6c5a5162-c21a-4bf2-8289-3926cc97a837   male       2020 01 01     $USD   \n",
              "12878  b99cffad-9ab3-4ddc-8fd3-0cbe5d658ea1   male       2020 07 05     $USD   \n",
              "22301  a43b2f77-2232-4c06-921a-f542fecaff9a   male       2020 05 30     $USD   \n",
              "23224  dfa97ba9-7113-4392-a714-7ec18292ed78  other       2023 10 02     $USD   \n",
              "\n",
              "        country    sex  is_employed                 job   location  \\\n",
              "1836   Zimbabwe  other         True              Doctor     Kadoma   \n",
              "11227  Zimbabwe   male         True          Accountant  Marondera   \n",
              "12878  Zimbabwe   male         True              Doctor   Redcliff   \n",
              "22301  Zimbabwe   male         True              Doctor   Masvingo   \n",
              "23224  Zimbabwe  other         True  Software Developer     Rusape   \n",
              "\n",
              "       loan_amount  number_of_defaults  outstanding_balance  interest_rate  \\\n",
              "1836       48000.0                   0         39696.384099           0.22   \n",
              "11227      15000.0                   2         30100.462815           0.23   \n",
              "12878      40000.0                   0         33016.316831           0.20   \n",
              "22301      15000.0                   0         26227.698479           0.22   \n",
              "23224      34000.0                   0         39024.389403           0.23   \n",
              "\n",
              "       age  number_of_defaults.1 remaining term       salary marital_status  \\\n",
              "1836    49                     0             45  2665.434835        married   \n",
              "11227   39                     2             58  2586.125810       divorced   \n",
              "12878   38                     0             34  2059.155842                  \n",
              "22301   38                     0             51  2398.910557       divorced   \n",
              "23224   40                     0             46  2572.715465       divorced   \n",
              "\n",
              "       age.1      Loan Status  \n",
              "1836      49  Did not default  \n",
              "11227     39  Did not default  \n",
              "12878     38  Did not default  \n",
              "22301     38  Did not default  \n",
              "23224     40  Did not default  "
            ],
            "text/html": [
              "\n",
              "  <div id=\"df-4ebaeddb-f1f6-42c2-8bc5-4c3d4ac61d26\" class=\"colab-df-container\">\n",
              "    <div>\n",
              "<style scoped>\n",
              "    .dataframe tbody tr th:only-of-type {\n",
              "        vertical-align: middle;\n",
              "    }\n",
              "\n",
              "    .dataframe tbody tr th {\n",
              "        vertical-align: top;\n",
              "    }\n",
              "\n",
              "    .dataframe thead th {\n",
              "        text-align: right;\n",
              "    }\n",
              "</style>\n",
              "<table border=\"1\" class=\"dataframe\">\n",
              "  <thead>\n",
              "    <tr style=\"text-align: right;\">\n",
              "      <th></th>\n",
              "      <th>loan_id</th>\n",
              "      <th>gender</th>\n",
              "      <th>disbursemet_date</th>\n",
              "      <th>currency</th>\n",
              "      <th>country</th>\n",
              "      <th>sex</th>\n",
              "      <th>is_employed</th>\n",
              "      <th>job</th>\n",
              "      <th>location</th>\n",
              "      <th>loan_amount</th>\n",
              "      <th>number_of_defaults</th>\n",
              "      <th>outstanding_balance</th>\n",
              "      <th>interest_rate</th>\n",
              "      <th>age</th>\n",
              "      <th>number_of_defaults.1</th>\n",
              "      <th>remaining term</th>\n",
              "      <th>salary</th>\n",
              "      <th>marital_status</th>\n",
              "      <th>age.1</th>\n",
              "      <th>Loan Status</th>\n",
              "    </tr>\n",
              "  </thead>\n",
              "  <tbody>\n",
              "    <tr>\n",
              "      <th>1836</th>\n",
              "      <td>60c3b33d-6229-4501-a9b6-c5e92f25b8af</td>\n",
              "      <td>other</td>\n",
              "      <td>2023 09 07</td>\n",
              "      <td>$USD</td>\n",
              "      <td>Zimbabwe</td>\n",
              "      <td>other</td>\n",
              "      <td>True</td>\n",
              "      <td>Doctor</td>\n",
              "      <td>Kadoma</td>\n",
              "      <td>48000.0</td>\n",
              "      <td>0</td>\n",
              "      <td>39696.384099</td>\n",
              "      <td>0.22</td>\n",
              "      <td>49</td>\n",
              "      <td>0</td>\n",
              "      <td>45</td>\n",
              "      <td>2665.434835</td>\n",
              "      <td>married</td>\n",
              "      <td>49</td>\n",
              "      <td>Did not default</td>\n",
              "    </tr>\n",
              "    <tr>\n",
              "      <th>11227</th>\n",
              "      <td>6c5a5162-c21a-4bf2-8289-3926cc97a837</td>\n",
              "      <td>male</td>\n",
              "      <td>2020 01 01</td>\n",
              "      <td>$USD</td>\n",
              "      <td>Zimbabwe</td>\n",
              "      <td>male</td>\n",
              "      <td>True</td>\n",
              "      <td>Accountant</td>\n",
              "      <td>Marondera</td>\n",
              "      <td>15000.0</td>\n",
              "      <td>2</td>\n",
              "      <td>30100.462815</td>\n",
              "      <td>0.23</td>\n",
              "      <td>39</td>\n",
              "      <td>2</td>\n",
              "      <td>58</td>\n",
              "      <td>2586.125810</td>\n",
              "      <td>divorced</td>\n",
              "      <td>39</td>\n",
              "      <td>Did not default</td>\n",
              "    </tr>\n",
              "    <tr>\n",
              "      <th>12878</th>\n",
              "      <td>b99cffad-9ab3-4ddc-8fd3-0cbe5d658ea1</td>\n",
              "      <td>male</td>\n",
              "      <td>2020 07 05</td>\n",
              "      <td>$USD</td>\n",
              "      <td>Zimbabwe</td>\n",
              "      <td>male</td>\n",
              "      <td>True</td>\n",
              "      <td>Doctor</td>\n",
              "      <td>Redcliff</td>\n",
              "      <td>40000.0</td>\n",
              "      <td>0</td>\n",
              "      <td>33016.316831</td>\n",
              "      <td>0.20</td>\n",
              "      <td>38</td>\n",
              "      <td>0</td>\n",
              "      <td>34</td>\n",
              "      <td>2059.155842</td>\n",
              "      <td></td>\n",
              "      <td>38</td>\n",
              "      <td>Did not default</td>\n",
              "    </tr>\n",
              "    <tr>\n",
              "      <th>22301</th>\n",
              "      <td>a43b2f77-2232-4c06-921a-f542fecaff9a</td>\n",
              "      <td>male</td>\n",
              "      <td>2020 05 30</td>\n",
              "      <td>$USD</td>\n",
              "      <td>Zimbabwe</td>\n",
              "      <td>male</td>\n",
              "      <td>True</td>\n",
              "      <td>Doctor</td>\n",
              "      <td>Masvingo</td>\n",
              "      <td>15000.0</td>\n",
              "      <td>0</td>\n",
              "      <td>26227.698479</td>\n",
              "      <td>0.22</td>\n",
              "      <td>38</td>\n",
              "      <td>0</td>\n",
              "      <td>51</td>\n",
              "      <td>2398.910557</td>\n",
              "      <td>divorced</td>\n",
              "      <td>38</td>\n",
              "      <td>Did not default</td>\n",
              "    </tr>\n",
              "    <tr>\n",
              "      <th>23224</th>\n",
              "      <td>dfa97ba9-7113-4392-a714-7ec18292ed78</td>\n",
              "      <td>other</td>\n",
              "      <td>2023 10 02</td>\n",
              "      <td>$USD</td>\n",
              "      <td>Zimbabwe</td>\n",
              "      <td>other</td>\n",
              "      <td>True</td>\n",
              "      <td>Software Developer</td>\n",
              "      <td>Rusape</td>\n",
              "      <td>34000.0</td>\n",
              "      <td>0</td>\n",
              "      <td>39024.389403</td>\n",
              "      <td>0.23</td>\n",
              "      <td>40</td>\n",
              "      <td>0</td>\n",
              "      <td>46</td>\n",
              "      <td>2572.715465</td>\n",
              "      <td>divorced</td>\n",
              "      <td>40</td>\n",
              "      <td>Did not default</td>\n",
              "    </tr>\n",
              "  </tbody>\n",
              "</table>\n",
              "</div>\n",
              "    <div class=\"colab-df-buttons\">\n",
              "\n",
              "  <div class=\"colab-df-container\">\n",
              "    <button class=\"colab-df-convert\" onclick=\"convertToInteractive('df-4ebaeddb-f1f6-42c2-8bc5-4c3d4ac61d26')\"\n",
              "            title=\"Convert this dataframe to an interactive table.\"\n",
              "            style=\"display:none;\">\n",
              "\n",
              "  <svg xmlns=\"http://www.w3.org/2000/svg\" height=\"24px\" viewBox=\"0 -960 960 960\">\n",
              "    <path d=\"M120-120v-720h720v720H120Zm60-500h600v-160H180v160Zm220 220h160v-160H400v160Zm0 220h160v-160H400v160ZM180-400h160v-160H180v160Zm440 0h160v-160H620v160ZM180-180h160v-160H180v160Zm440 0h160v-160H620v160Z\"/>\n",
              "  </svg>\n",
              "    </button>\n",
              "\n",
              "  <style>\n",
              "    .colab-df-container {\n",
              "      display:flex;\n",
              "      gap: 12px;\n",
              "    }\n",
              "\n",
              "    .colab-df-convert {\n",
              "      background-color: #E8F0FE;\n",
              "      border: none;\n",
              "      border-radius: 50%;\n",
              "      cursor: pointer;\n",
              "      display: none;\n",
              "      fill: #1967D2;\n",
              "      height: 32px;\n",
              "      padding: 0 0 0 0;\n",
              "      width: 32px;\n",
              "    }\n",
              "\n",
              "    .colab-df-convert:hover {\n",
              "      background-color: #E2EBFA;\n",
              "      box-shadow: 0px 1px 2px rgba(60, 64, 67, 0.3), 0px 1px 3px 1px rgba(60, 64, 67, 0.15);\n",
              "      fill: #174EA6;\n",
              "    }\n",
              "\n",
              "    .colab-df-buttons div {\n",
              "      margin-bottom: 4px;\n",
              "    }\n",
              "\n",
              "    [theme=dark] .colab-df-convert {\n",
              "      background-color: #3B4455;\n",
              "      fill: #D2E3FC;\n",
              "    }\n",
              "\n",
              "    [theme=dark] .colab-df-convert:hover {\n",
              "      background-color: #434B5C;\n",
              "      box-shadow: 0px 1px 3px 1px rgba(0, 0, 0, 0.15);\n",
              "      filter: drop-shadow(0px 1px 2px rgba(0, 0, 0, 0.3));\n",
              "      fill: #FFFFFF;\n",
              "    }\n",
              "  </style>\n",
              "\n",
              "    <script>\n",
              "      const buttonEl =\n",
              "        document.querySelector('#df-4ebaeddb-f1f6-42c2-8bc5-4c3d4ac61d26 button.colab-df-convert');\n",
              "      buttonEl.style.display =\n",
              "        google.colab.kernel.accessAllowed ? 'block' : 'none';\n",
              "\n",
              "      async function convertToInteractive(key) {\n",
              "        const element = document.querySelector('#df-4ebaeddb-f1f6-42c2-8bc5-4c3d4ac61d26');\n",
              "        const dataTable =\n",
              "          await google.colab.kernel.invokeFunction('convertToInteractive',\n",
              "                                                    [key], {});\n",
              "        if (!dataTable) return;\n",
              "\n",
              "        const docLinkHtml = 'Like what you see? Visit the ' +\n",
              "          '<a target=\"_blank\" href=https://colab.research.google.com/notebooks/data_table.ipynb>data table notebook</a>'\n",
              "          + ' to learn more about interactive tables.';\n",
              "        element.innerHTML = '';\n",
              "        dataTable['output_type'] = 'display_data';\n",
              "        await google.colab.output.renderOutput(dataTable, element);\n",
              "        const docLink = document.createElement('div');\n",
              "        docLink.innerHTML = docLinkHtml;\n",
              "        element.appendChild(docLink);\n",
              "      }\n",
              "    </script>\n",
              "  </div>\n",
              "\n",
              "\n",
              "<div id=\"df-dba3ed2b-f003-4320-8151-990183ff2cc7\">\n",
              "  <button class=\"colab-df-quickchart\" onclick=\"quickchart('df-dba3ed2b-f003-4320-8151-990183ff2cc7')\"\n",
              "            title=\"Suggest charts\"\n",
              "            style=\"display:none;\">\n",
              "\n",
              "<svg xmlns=\"http://www.w3.org/2000/svg\" height=\"24px\"viewBox=\"0 0 24 24\"\n",
              "     width=\"24px\">\n",
              "    <g>\n",
              "        <path d=\"M19 3H5c-1.1 0-2 .9-2 2v14c0 1.1.9 2 2 2h14c1.1 0 2-.9 2-2V5c0-1.1-.9-2-2-2zM9 17H7v-7h2v7zm4 0h-2V7h2v10zm4 0h-2v-4h2v4z\"/>\n",
              "    </g>\n",
              "</svg>\n",
              "  </button>\n",
              "\n",
              "<style>\n",
              "  .colab-df-quickchart {\n",
              "      --bg-color: #E8F0FE;\n",
              "      --fill-color: #1967D2;\n",
              "      --hover-bg-color: #E2EBFA;\n",
              "      --hover-fill-color: #174EA6;\n",
              "      --disabled-fill-color: #AAA;\n",
              "      --disabled-bg-color: #DDD;\n",
              "  }\n",
              "\n",
              "  [theme=dark] .colab-df-quickchart {\n",
              "      --bg-color: #3B4455;\n",
              "      --fill-color: #D2E3FC;\n",
              "      --hover-bg-color: #434B5C;\n",
              "      --hover-fill-color: #FFFFFF;\n",
              "      --disabled-bg-color: #3B4455;\n",
              "      --disabled-fill-color: #666;\n",
              "  }\n",
              "\n",
              "  .colab-df-quickchart {\n",
              "    background-color: var(--bg-color);\n",
              "    border: none;\n",
              "    border-radius: 50%;\n",
              "    cursor: pointer;\n",
              "    display: none;\n",
              "    fill: var(--fill-color);\n",
              "    height: 32px;\n",
              "    padding: 0;\n",
              "    width: 32px;\n",
              "  }\n",
              "\n",
              "  .colab-df-quickchart:hover {\n",
              "    background-color: var(--hover-bg-color);\n",
              "    box-shadow: 0 1px 2px rgba(60, 64, 67, 0.3), 0 1px 3px 1px rgba(60, 64, 67, 0.15);\n",
              "    fill: var(--button-hover-fill-color);\n",
              "  }\n",
              "\n",
              "  .colab-df-quickchart-complete:disabled,\n",
              "  .colab-df-quickchart-complete:disabled:hover {\n",
              "    background-color: var(--disabled-bg-color);\n",
              "    fill: var(--disabled-fill-color);\n",
              "    box-shadow: none;\n",
              "  }\n",
              "\n",
              "  .colab-df-spinner {\n",
              "    border: 2px solid var(--fill-color);\n",
              "    border-color: transparent;\n",
              "    border-bottom-color: var(--fill-color);\n",
              "    animation:\n",
              "      spin 1s steps(1) infinite;\n",
              "  }\n",
              "\n",
              "  @keyframes spin {\n",
              "    0% {\n",
              "      border-color: transparent;\n",
              "      border-bottom-color: var(--fill-color);\n",
              "      border-left-color: var(--fill-color);\n",
              "    }\n",
              "    20% {\n",
              "      border-color: transparent;\n",
              "      border-left-color: var(--fill-color);\n",
              "      border-top-color: var(--fill-color);\n",
              "    }\n",
              "    30% {\n",
              "      border-color: transparent;\n",
              "      border-left-color: var(--fill-color);\n",
              "      border-top-color: var(--fill-color);\n",
              "      border-right-color: var(--fill-color);\n",
              "    }\n",
              "    40% {\n",
              "      border-color: transparent;\n",
              "      border-right-color: var(--fill-color);\n",
              "      border-top-color: var(--fill-color);\n",
              "    }\n",
              "    60% {\n",
              "      border-color: transparent;\n",
              "      border-right-color: var(--fill-color);\n",
              "    }\n",
              "    80% {\n",
              "      border-color: transparent;\n",
              "      border-right-color: var(--fill-color);\n",
              "      border-bottom-color: var(--fill-color);\n",
              "    }\n",
              "    90% {\n",
              "      border-color: transparent;\n",
              "      border-bottom-color: var(--fill-color);\n",
              "    }\n",
              "  }\n",
              "</style>\n",
              "\n",
              "  <script>\n",
              "    async function quickchart(key) {\n",
              "      const quickchartButtonEl =\n",
              "        document.querySelector('#' + key + ' button');\n",
              "      quickchartButtonEl.disabled = true;  // To prevent multiple clicks.\n",
              "      quickchartButtonEl.classList.add('colab-df-spinner');\n",
              "      try {\n",
              "        const charts = await google.colab.kernel.invokeFunction(\n",
              "            'suggestCharts', [key], {});\n",
              "      } catch (error) {\n",
              "        console.error('Error during call to suggestCharts:', error);\n",
              "      }\n",
              "      quickchartButtonEl.classList.remove('colab-df-spinner');\n",
              "      quickchartButtonEl.classList.add('colab-df-quickchart-complete');\n",
              "    }\n",
              "    (() => {\n",
              "      let quickchartButtonEl =\n",
              "        document.querySelector('#df-dba3ed2b-f003-4320-8151-990183ff2cc7 button');\n",
              "      quickchartButtonEl.style.display =\n",
              "        google.colab.kernel.accessAllowed ? 'block' : 'none';\n",
              "    })();\n",
              "  </script>\n",
              "</div>\n",
              "\n",
              "    </div>\n",
              "  </div>\n"
            ],
            "application/vnd.google.colaboratory.intrinsic+json": {
              "type": "dataframe",
              "variable_name": "df_with_other_currency",
              "repr_error": "0"
            }
          },
          "metadata": {},
          "execution_count": 17
        }
      ]
    },
    {
      "cell_type": "code",
      "source": [
        "#Showing how many entries\n",
        "df_with_other_currency.shape"
      ],
      "metadata": {
        "colab": {
          "base_uri": "https://localhost:8080/"
        },
        "id": "2HYqOeqYLBkT",
        "outputId": "4315aec3-5480-4ac9-f748-b1851fc68c53"
      },
      "execution_count": 18,
      "outputs": [
        {
          "output_type": "execute_result",
          "data": {
            "text/plain": [
              "(20, 20)"
            ]
          },
          "metadata": {},
          "execution_count": 18
        }
      ]
    },
    {
      "cell_type": "markdown",
      "source": [
        "> Removing $ using a function, doing this so that they will be no confussion in data exploration."
      ],
      "metadata": {
        "id": "F6rLsdlMLYpv"
      }
    },
    {
      "cell_type": "code",
      "source": [
        "#Cleaning function on values in columns\n",
        "def clean_currency(value):\n",
        "    return re.sub(r'\\$', '', value)"
      ],
      "metadata": {
        "id": "BWWofjJILR7C"
      },
      "execution_count": 19,
      "outputs": []
    },
    {
      "cell_type": "code",
      "source": [
        "#Applying the function\n",
        "df['currency'] = df['currency'].apply(clean_currency)\n",
        "print(df['currency'].nunique())"
      ],
      "metadata": {
        "colab": {
          "base_uri": "https://localhost:8080/"
        },
        "id": "zvk1qmnkLdMA",
        "outputId": "10ed7cf6-5865-459f-abfe-775321136d6c"
      },
      "execution_count": 20,
      "outputs": [
        {
          "output_type": "stream",
          "name": "stdout",
          "text": [
            "1\n"
          ]
        }
      ]
    },
    {
      "cell_type": "code",
      "source": [
        "#Checking the function\n",
        "df_with_other_mask= df['currency']!='USD'\n",
        "df_with_other_currency= df[df_with_other_mask]\n",
        "df_with_other_currency.shape\n",
        "df_with_other_currency.head()"
      ],
      "metadata": {
        "colab": {
          "base_uri": "https://localhost:8080/",
          "height": 87
        },
        "id": "sey8Z9_NLgyQ",
        "outputId": "06b2f2cb-d00f-4ab9-c9ff-f3eabbaacefc"
      },
      "execution_count": 21,
      "outputs": [
        {
          "output_type": "execute_result",
          "data": {
            "text/plain": [
              "Empty DataFrame\n",
              "Columns: [loan_id, gender, disbursemet_date, currency, country, sex, is_employed, job, location, loan_amount, number_of_defaults, outstanding_balance, interest_rate, age, number_of_defaults.1, remaining term, salary, marital_status, age.1, Loan Status]\n",
              "Index: []"
            ],
            "text/html": [
              "\n",
              "  <div id=\"df-e210a035-23d5-45d8-b059-b21d9c5036ca\" class=\"colab-df-container\">\n",
              "    <div>\n",
              "<style scoped>\n",
              "    .dataframe tbody tr th:only-of-type {\n",
              "        vertical-align: middle;\n",
              "    }\n",
              "\n",
              "    .dataframe tbody tr th {\n",
              "        vertical-align: top;\n",
              "    }\n",
              "\n",
              "    .dataframe thead th {\n",
              "        text-align: right;\n",
              "    }\n",
              "</style>\n",
              "<table border=\"1\" class=\"dataframe\">\n",
              "  <thead>\n",
              "    <tr style=\"text-align: right;\">\n",
              "      <th></th>\n",
              "      <th>loan_id</th>\n",
              "      <th>gender</th>\n",
              "      <th>disbursemet_date</th>\n",
              "      <th>currency</th>\n",
              "      <th>country</th>\n",
              "      <th>sex</th>\n",
              "      <th>is_employed</th>\n",
              "      <th>job</th>\n",
              "      <th>location</th>\n",
              "      <th>loan_amount</th>\n",
              "      <th>number_of_defaults</th>\n",
              "      <th>outstanding_balance</th>\n",
              "      <th>interest_rate</th>\n",
              "      <th>age</th>\n",
              "      <th>number_of_defaults.1</th>\n",
              "      <th>remaining term</th>\n",
              "      <th>salary</th>\n",
              "      <th>marital_status</th>\n",
              "      <th>age.1</th>\n",
              "      <th>Loan Status</th>\n",
              "    </tr>\n",
              "  </thead>\n",
              "  <tbody>\n",
              "  </tbody>\n",
              "</table>\n",
              "</div>\n",
              "    <div class=\"colab-df-buttons\">\n",
              "\n",
              "  <div class=\"colab-df-container\">\n",
              "    <button class=\"colab-df-convert\" onclick=\"convertToInteractive('df-e210a035-23d5-45d8-b059-b21d9c5036ca')\"\n",
              "            title=\"Convert this dataframe to an interactive table.\"\n",
              "            style=\"display:none;\">\n",
              "\n",
              "  <svg xmlns=\"http://www.w3.org/2000/svg\" height=\"24px\" viewBox=\"0 -960 960 960\">\n",
              "    <path d=\"M120-120v-720h720v720H120Zm60-500h600v-160H180v160Zm220 220h160v-160H400v160Zm0 220h160v-160H400v160ZM180-400h160v-160H180v160Zm440 0h160v-160H620v160ZM180-180h160v-160H180v160Zm440 0h160v-160H620v160Z\"/>\n",
              "  </svg>\n",
              "    </button>\n",
              "\n",
              "  <style>\n",
              "    .colab-df-container {\n",
              "      display:flex;\n",
              "      gap: 12px;\n",
              "    }\n",
              "\n",
              "    .colab-df-convert {\n",
              "      background-color: #E8F0FE;\n",
              "      border: none;\n",
              "      border-radius: 50%;\n",
              "      cursor: pointer;\n",
              "      display: none;\n",
              "      fill: #1967D2;\n",
              "      height: 32px;\n",
              "      padding: 0 0 0 0;\n",
              "      width: 32px;\n",
              "    }\n",
              "\n",
              "    .colab-df-convert:hover {\n",
              "      background-color: #E2EBFA;\n",
              "      box-shadow: 0px 1px 2px rgba(60, 64, 67, 0.3), 0px 1px 3px 1px rgba(60, 64, 67, 0.15);\n",
              "      fill: #174EA6;\n",
              "    }\n",
              "\n",
              "    .colab-df-buttons div {\n",
              "      margin-bottom: 4px;\n",
              "    }\n",
              "\n",
              "    [theme=dark] .colab-df-convert {\n",
              "      background-color: #3B4455;\n",
              "      fill: #D2E3FC;\n",
              "    }\n",
              "\n",
              "    [theme=dark] .colab-df-convert:hover {\n",
              "      background-color: #434B5C;\n",
              "      box-shadow: 0px 1px 3px 1px rgba(0, 0, 0, 0.15);\n",
              "      filter: drop-shadow(0px 1px 2px rgba(0, 0, 0, 0.3));\n",
              "      fill: #FFFFFF;\n",
              "    }\n",
              "  </style>\n",
              "\n",
              "    <script>\n",
              "      const buttonEl =\n",
              "        document.querySelector('#df-e210a035-23d5-45d8-b059-b21d9c5036ca button.colab-df-convert');\n",
              "      buttonEl.style.display =\n",
              "        google.colab.kernel.accessAllowed ? 'block' : 'none';\n",
              "\n",
              "      async function convertToInteractive(key) {\n",
              "        const element = document.querySelector('#df-e210a035-23d5-45d8-b059-b21d9c5036ca');\n",
              "        const dataTable =\n",
              "          await google.colab.kernel.invokeFunction('convertToInteractive',\n",
              "                                                    [key], {});\n",
              "        if (!dataTable) return;\n",
              "\n",
              "        const docLinkHtml = 'Like what you see? Visit the ' +\n",
              "          '<a target=\"_blank\" href=https://colab.research.google.com/notebooks/data_table.ipynb>data table notebook</a>'\n",
              "          + ' to learn more about interactive tables.';\n",
              "        element.innerHTML = '';\n",
              "        dataTable['output_type'] = 'display_data';\n",
              "        await google.colab.output.renderOutput(dataTable, element);\n",
              "        const docLink = document.createElement('div');\n",
              "        docLink.innerHTML = docLinkHtml;\n",
              "        element.appendChild(docLink);\n",
              "      }\n",
              "    </script>\n",
              "  </div>\n",
              "\n",
              "\n",
              "    </div>\n",
              "  </div>\n"
            ],
            "application/vnd.google.colaboratory.intrinsic+json": {
              "type": "dataframe",
              "variable_name": "df_with_other_currency",
              "repr_error": "Out of range float values are not JSON compliant: nan"
            }
          },
          "metadata": {},
          "execution_count": 21
        }
      ]
    },
    {
      "cell_type": "markdown",
      "source": [
        ">Succeded removing the dollar sign."
      ],
      "metadata": {
        "id": "15q304shLp_H"
      }
    },
    {
      "cell_type": "markdown",
      "source": [
        ">Checking for duplicates?"
      ],
      "metadata": {
        "id": "8lgYwCJPLyWP"
      }
    },
    {
      "cell_type": "code",
      "source": [
        "# Droping the duplicates rowwise\n",
        "df=df.drop_duplicates()\n",
        "df.shape"
      ],
      "metadata": {
        "colab": {
          "base_uri": "https://localhost:8080/"
        },
        "id": "PfxlFzdCLlhB",
        "outputId": "adb4f202-ad4b-4c3c-f7e2-1508df89d351"
      },
      "execution_count": 22,
      "outputs": [
        {
          "output_type": "execute_result",
          "data": {
            "text/plain": [
              "(100000, 20)"
            ]
          },
          "metadata": {},
          "execution_count": 22
        }
      ]
    },
    {
      "cell_type": "markdown",
      "source": [
        ">From the above we have seen duplicates in sex/gender, number of defaults and age. Though they are named differently but containing same data, its unappropriate to have them."
      ],
      "metadata": {
        "id": "2jYlDwb8L-di"
      }
    },
    {
      "cell_type": "code",
      "source": [
        "#lets drop the columns that are duplicated\n",
        "#droping sex , number_of_defaults.1 and age.1\n",
        "columns_to_drop =['sex', 'number_of_defaults.1', 'age.1']\n",
        "df =df.drop(columns_to_drop, axis=1)"
      ],
      "metadata": {
        "id": "E8vfA-E2L3Lg"
      },
      "execution_count": 23,
      "outputs": []
    },
    {
      "cell_type": "markdown",
      "source": [
        ">Changing date to datime datatype and remaining term to int64 for better representation."
      ],
      "metadata": {
        "id": "ICofPJuJMMWY"
      }
    },
    {
      "cell_type": "code",
      "source": [
        "# Using Pandas\n",
        "df['disbursemet_date'] = pd.to_datetime(df['disbursemet_date'], format ='%Y %m %d')"
      ],
      "metadata": {
        "id": "150_Y-C1MHtA"
      },
      "execution_count": 24,
      "outputs": []
    },
    {
      "cell_type": "code",
      "source": [
        "df['remaining term']= pd.to_numeric(df['remaining term'], errors= 'coerce')"
      ],
      "metadata": {
        "id": "zz7hQeRaMSv4"
      },
      "execution_count": 25,
      "outputs": []
    },
    {
      "cell_type": "markdown",
      "source": [
        ">Addressing the missing values in location, country and job status"
      ],
      "metadata": {
        "id": "1bffzCD4MkEd"
      }
    },
    {
      "cell_type": "code",
      "source": [
        "fig, ax =plt.subplots(figsize =(12,8))\n",
        "df1= df[['age','remaining term','interest_rate','loan_amount','outstanding_balance','salary']]\n",
        "corr_matrix = df1.corr()\n",
        "corr_heatmap = sns.heatmap(corr_matrix, cmap = 'flare', annot = True , ax=ax , annot_kws ={'size':14})\n",
        "plt.show()"
      ],
      "metadata": {
        "colab": {
          "base_uri": "https://localhost:8080/",
          "height": 559
        },
        "id": "xGbarXvMMYUl",
        "outputId": "6abf6492-32c9-40dc-ba47-5d222e49a7d1"
      },
      "execution_count": 27,
      "outputs": [
        {
          "output_type": "display_data",
          "data": {
            "text/plain": [
              "<Figure size 1200x800 with 2 Axes>"
            ],
            "image/png": "[encoded data removed]"
          },
          "metadata": {}
        }
      ]
    },
    {
      "cell_type": "markdown",
      "source": [
        ">**Remaining Term and Salary (0.72)**: A strong positive correlation indicates that as the remaining term of a loan increases, the salary of the borrower also tends to increase. This could imply that individuals with higher salaries are more likely to take out longer-term loans, perhaps because they are more confident in their ability to repay over a longer period.\n",
        "\n",
        ">**Loan Amount and Salary (0.54)**: A moderate positive correlation suggests that individuals with higher salaries tend to take out larger loans. This makes intuitive sense, as lenders often consider income when determining loan eligibility and maximum loan amounts.\n",
        "\n",
        ">**Loan Amount and Outstanding Balance (0.56)**: A moderate positive correlation is expected here, as the outstanding balance of a loan is directly related to the initial loan amount. The higher the loan amount, the higher the outstanding balance is likely to be, especially in the early stages of repayment."
      ],
      "metadata": {
        "id": "4i5rFFaQMu3X"
      }
    },
    {
      "cell_type": "markdown",
      "source": [
        ">\"While some variables showed weak correlations (less than 0.5), the strongest relationships were observed between remaining term and salary (0.72), loan amount and salary (0.54), and loan amount and outstanding balance (0.56).\""
      ],
      "metadata": {
        "id": "WsrziDN6M1xH"
      }
    },
    {
      "cell_type": "markdown",
      "source": [
        "> <b>Scatter showing correlations with higher figures."
      ],
      "metadata": {
        "id": "IUTwKGirM81L"
      }
    },
    {
      "cell_type": "markdown",
      "source": [
        "> 1. Remaining term and salary (0.72)."
      ],
      "metadata": {
        "id": "wJlC59xHNEoZ"
      }
    },
    {
      "cell_type": "code",
      "source": [
        "fig, ax = plt.subplots(figsize=(6, 6))\n",
        "x=df[\"remaining term\"]\n",
        "y=df[\"salary\"]\n",
        "ax.scatter(x, y)\n",
        "mean_x = np.mean(x)\n",
        "mean_y =np.mean(y)\n",
        "m = np.sum((x - np.mean(x)) * (y - np.mean(y))) / np.sum((x - np.mean(x)) ** 2)\n",
        "b = mean_y - m * mean_x\n",
        "x_line = np.linspace(min(x), max(x), 100)\n",
        "y_line = m*x_line + b\n",
        "plt.plot(x_line,y_line, linestyle=\"--\", color=\"red\")\n",
        "plt.xlabel(\"Remaining term\")\n",
        "plt.ylabel(\"Salary\")\n",
        "plt.title(\"Salary vs Remaining term\")"
      ],
      "metadata": {
        "colab": {
          "base_uri": "https://localhost:8080/",
          "height": 581
        },
        "id": "9WrNqvAxMYIW",
        "outputId": "fe02b95e-63e4-4114-a043-2ce7ae9f75cc"
      },
      "execution_count": 28,
      "outputs": [
        {
          "output_type": "execute_result",
          "data": {
            "text/plain": [
              "Text(0.5, 1.0, 'Salary vs Remaining term')"
            ]
          },
          "metadata": {},
          "execution_count": 28
        },
        {
          "output_type": "display_data",
          "data": {
            "text/plain": [
              "<Figure size 600x600 with 1 Axes>"
            ],
            "image/png": "[encoded data removed]"
          },
          "metadata": {}
        }
      ]
    },
    {
      "cell_type": "markdown",
      "source": [
        ">2. salary vs loan_amount scatter."
      ],
      "metadata": {
        "id": "EXQFH3uENR3g"
      }
    },
    {
      "cell_type": "code",
      "source": [
        "fig, ax = plt.subplots(figsize=(6, 6))\n",
        "x=df[\"loan_amount\"]\n",
        "y=df[\"salary\"]\n",
        "ax.scatter(x, y)\n",
        "mean_x = np.mean(x)\n",
        "mean_y =np.mean(y)\n",
        "m = np.sum((x - np.mean(x)) * (y - np.mean(y))) / np.sum((x - np.mean(x)) ** 2)\n",
        "b = mean_y - m * mean_x\n",
        "x_line = np.linspace(min(x), max(x), 100)\n",
        "y_line = m*x_line + b\n",
        "plt.plot(x_line,y_line, linestyle=\"--\", color=\"red\")\n",
        "plt.xlabel(\"Loan Amount\")\n",
        "plt.ylabel(\"Salary\")\n",
        "plt.title(\"salary vs loan_amount\")"
      ],
      "metadata": {
        "colab": {
          "base_uri": "https://localhost:8080/",
          "height": 581
        },
        "id": "COyY_fGEMX7G",
        "outputId": "c803fdf7-3599-41be-b172-5c8c99cac0d2"
      },
      "execution_count": 29,
      "outputs": [
        {
          "output_type": "execute_result",
          "data": {
            "text/plain": [
              "Text(0.5, 1.0, 'salary vs loan_amount')"
            ]
          },
          "metadata": {},
          "execution_count": 29
        },
        {
          "output_type": "display_data",
          "data": {
            "text/plain": [
              "<Figure size 600x600 with 1 Axes>"
            ],
            "image/png": "[encoded data removed]"
          },
          "metadata": {}
        }
      ]
    },
    {
      "cell_type": "markdown",
      "source": [
        ">3. outstanding_balance vs loan_amount"
      ],
      "metadata": {
        "id": "1LD6NnfSOZkY"
      }
    },
    {
      "cell_type": "code",
      "source": [
        "x=df[\"outstanding_balance\"]\n",
        "y=df[\"loan_amount\"]\n",
        "mean_x = np.mean(x)\n",
        "mean_y =np.mean(y)\n",
        "m = np.sum((x - np.mean(x)) * (y - np.mean(y))) / np.sum((x - np.mean(x)) ** 2)\n",
        "b = mean_y - m * mean_x\n",
        "x_line = np.linspace(min(x), max(x), 100)  # Recalculate x_line\n",
        "y_line = m*x_line + b\n",
        "plt.plot(x_line,y_line, linestyle=\"--\", color=\"red\")  # Plot line first\n",
        "plt.scatter(x, y)  # Plot scatter after\n",
        "plt.xlabel(\"Outstanding Balance\")\n",
        "plt.ylabel(\"Loan Amount\")\n",
        "plt.title(\"loan_amount vs outstanding_balance\")\n",
        "plt.show()"
      ],
      "metadata": {
        "colab": {
          "base_uri": "https://localhost:8080/",
          "height": 472
        },
        "id": "0AUhJfhzMXsl",
        "outputId": "c2f15b63-ebe9-492f-fa10-f0f4db33e7bc"
      },
      "execution_count": 30,
      "outputs": [
        {
          "output_type": "display_data",
          "data": {
            "text/plain": [
              "<Figure size 640x480 with 1 Axes>"
            ],
            "image/png": "[encoded data removed]"
          },
          "metadata": {}
        }
      ]
    },
    {
      "cell_type": "markdown",
      "source": [
        "\n",
        "\n",
        "---\n",
        "\n"
      ],
      "metadata": {
        "id": "E12k87AHOtN-"
      }
    },
    {
      "cell_type": "markdown",
      "source": [
        ">1. Loan Status."
      ],
      "metadata": {
        "id": "gJbpzN6SOvX3"
      }
    },
    {
      "cell_type": "code",
      "source": [
        "data3 = pd.crosstab(\n",
        "    index=df[\"number_of_defaults\"],\n",
        "    columns=df[\"Loan Status\"],\n",
        "    normalize=False\n",
        ")\n",
        "\n",
        "print(\"data type:\", type(data3))\n",
        "print(\"data shape:\", data3.shape)\n",
        "data3"
      ],
      "metadata": {
        "colab": {
          "base_uri": "https://localhost:8080/",
          "height": 210
        },
        "id": "BMgD6HkNMXHw",
        "outputId": "8b73606e-f11b-416b-ff4a-05553cdcd082"
      },
      "execution_count": 31,
      "outputs": [
        {
          "output_type": "stream",
          "name": "stdout",
          "text": [
            "data type: <class 'pandas.core.frame.DataFrame'>\n",
            "data shape: (3, 2)\n"
          ]
        },
        {
          "output_type": "execute_result",
          "data": {
            "text/plain": [
              "Loan Status         Defaulted  Did not default\n",
              "number_of_defaults                            \n",
              "0                        7517            59641\n",
              "1                        4375            17112\n",
              "2                        2974             8381"
            ],
            "text/html": [
              "\n",
              "  <div id=\"df-24f37b53-8ccb-4970-91f3-16e3139c8a1c\" class=\"colab-df-container\">\n",
              "    <div>\n",
              "<style scoped>\n",
              "    .dataframe tbody tr th:only-of-type {\n",
              "        vertical-align: middle;\n",
              "    }\n",
              "\n",
              "    .dataframe tbody tr th {\n",
              "        vertical-align: top;\n",
              "    }\n",
              "\n",
              "    .dataframe thead th {\n",
              "        text-align: right;\n",
              "    }\n",
              "</style>\n",
              "<table border=\"1\" class=\"dataframe\">\n",
              "  <thead>\n",
              "    <tr style=\"text-align: right;\">\n",
              "      <th>Loan Status</th>\n",
              "      <th>Defaulted</th>\n",
              "      <th>Did not default</th>\n",
              "    </tr>\n",
              "    <tr>\n",
              "      <th>number_of_defaults</th>\n",
              "      <th></th>\n",
              "      <th></th>\n",
              "    </tr>\n",
              "  </thead>\n",
              "  <tbody>\n",
              "    <tr>\n",
              "      <th>0</th>\n",
              "      <td>7517</td>\n",
              "      <td>59641</td>\n",
              "    </tr>\n",
              "    <tr>\n",
              "      <th>1</th>\n",
              "      <td>4375</td>\n",
              "      <td>17112</td>\n",
              "    </tr>\n",
              "    <tr>\n",
              "      <th>2</th>\n",
              "      <td>2974</td>\n",
              "      <td>8381</td>\n",
              "    </tr>\n",
              "  </tbody>\n",
              "</table>\n",
              "</div>\n",
              "    <div class=\"colab-df-buttons\">\n",
              "\n",
              "  <div class=\"colab-df-container\">\n",
              "    <button class=\"colab-df-convert\" onclick=\"convertToInteractive('df-24f37b53-8ccb-4970-91f3-16e3139c8a1c')\"\n",
              "            title=\"Convert this dataframe to an interactive table.\"\n",
              "            style=\"display:none;\">\n",
              "\n",
              "  <svg xmlns=\"http://www.w3.org/2000/svg\" height=\"24px\" viewBox=\"0 -960 960 960\">\n",
              "    <path d=\"M120-120v-720h720v720H120Zm60-500h600v-160H180v160Zm220 220h160v-160H400v160Zm0 220h160v-160H400v160ZM180-400h160v-160H180v160Zm440 0h160v-160H620v160ZM180-180h160v-160H180v160Zm440 0h160v-160H620v160Z\"/>\n",
              "  </svg>\n",
              "    </button>\n",
              "\n",
              "  <style>\n",
              "    .colab-df-container {\n",
              "      display:flex;\n",
              "      gap: 12px;\n",
              "    }\n",
              "\n",
              "    .colab-df-convert {\n",
              "      background-color: #E8F0FE;\n",
              "      border: none;\n",
              "      border-radius: 50%;\n",
              "      cursor: pointer;\n",
              "      display: none;\n",
              "      fill: #1967D2;\n",
              "      height: 32px;\n",
              "      padding: 0 0 0 0;\n",
              "      width: 32px;\n",
              "    }\n",
              "\n",
              "    .colab-df-convert:hover {\n",
              "      background-color: #E2EBFA;\n",
              "      box-shadow: 0px 1px 2px rgba(60, 64, 67, 0.3), 0px 1px 3px 1px rgba(60, 64, 67, 0.15);\n",
              "      fill: #174EA6;\n",
              "    }\n",
              "\n",
              "    .colab-df-buttons div {\n",
              "      margin-bottom: 4px;\n",
              "    }\n",
              "\n",
              "    [theme=dark] .colab-df-convert {\n",
              "      background-color: #3B4455;\n",
              "      fill: #D2E3FC;\n",
              "    }\n",
              "\n",
              "    [theme=dark] .colab-df-convert:hover {\n",
              "      background-color: #434B5C;\n",
              "      box-shadow: 0px 1px 3px 1px rgba(0, 0, 0, 0.15);\n",
              "      filter: drop-shadow(0px 1px 2px rgba(0, 0, 0, 0.3));\n",
              "      fill: #FFFFFF;\n",
              "    }\n",
              "  </style>\n",
              "\n",
              "    <script>\n",
              "      const buttonEl =\n",
              "        document.querySelector('#df-24f37b53-8ccb-4970-91f3-16e3139c8a1c button.colab-df-convert');\n",
              "      buttonEl.style.display =\n",
              "        google.colab.kernel.accessAllowed ? 'block' : 'none';\n",
              "\n",
              "      async function convertToInteractive(key) {\n",
              "        const element = document.querySelector('#df-24f37b53-8ccb-4970-91f3-16e3139c8a1c');\n",
              "        const dataTable =\n",
              "          await google.colab.kernel.invokeFunction('convertToInteractive',\n",
              "                                                    [key], {});\n",
              "        if (!dataTable) return;\n",
              "\n",
              "        const docLinkHtml = 'Like what you see? Visit the ' +\n",
              "          '<a target=\"_blank\" href=https://colab.research.google.com/notebooks/data_table.ipynb>data table notebook</a>'\n",
              "          + ' to learn more about interactive tables.';\n",
              "        element.innerHTML = '';\n",
              "        dataTable['output_type'] = 'display_data';\n",
              "        await google.colab.output.renderOutput(dataTable, element);\n",
              "        const docLink = document.createElement('div');\n",
              "        docLink.innerHTML = docLinkHtml;\n",
              "        element.appendChild(docLink);\n",
              "      }\n",
              "    </script>\n",
              "  </div>\n",
              "\n",
              "\n",
              "<div id=\"df-6e090307-bbe9-4abb-bbe4-0d1fefabb79f\">\n",
              "  <button class=\"colab-df-quickchart\" onclick=\"quickchart('df-6e090307-bbe9-4abb-bbe4-0d1fefabb79f')\"\n",
              "            title=\"Suggest charts\"\n",
              "            style=\"display:none;\">\n",
              "\n",
              "<svg xmlns=\"http://www.w3.org/2000/svg\" height=\"24px\"viewBox=\"0 0 24 24\"\n",
              "     width=\"24px\">\n",
              "    <g>\n",
              "        <path d=\"M19 3H5c-1.1 0-2 .9-2 2v14c0 1.1.9 2 2 2h14c1.1 0 2-.9 2-2V5c0-1.1-.9-2-2-2zM9 17H7v-7h2v7zm4 0h-2V7h2v10zm4 0h-2v-4h2v4z\"/>\n",
              "    </g>\n",
              "</svg>\n",
              "  </button>\n",
              "\n",
              "<style>\n",
              "  .colab-df-quickchart {\n",
              "      --bg-color: #E8F0FE;\n",
              "      --fill-color: #1967D2;\n",
              "      --hover-bg-color: #E2EBFA;\n",
              "      --hover-fill-color: #174EA6;\n",
              "      --disabled-fill-color: #AAA;\n",
              "      --disabled-bg-color: #DDD;\n",
              "  }\n",
              "\n",
              "  [theme=dark] .colab-df-quickchart {\n",
              "      --bg-color: #3B4455;\n",
              "      --fill-color: #D2E3FC;\n",
              "      --hover-bg-color: #434B5C;\n",
              "      --hover-fill-color: #FFFFFF;\n",
              "      --disabled-bg-color: #3B4455;\n",
              "      --disabled-fill-color: #666;\n",
              "  }\n",
              "\n",
              "  .colab-df-quickchart {\n",
              "    background-color: var(--bg-color);\n",
              "    border: none;\n",
              "    border-radius: 50%;\n",
              "    cursor: pointer;\n",
              "    display: none;\n",
              "    fill: var(--fill-color);\n",
              "    height: 32px;\n",
              "    padding: 0;\n",
              "    width: 32px;\n",
              "  }\n",
              "\n",
              "  .colab-df-quickchart:hover {\n",
              "    background-color: var(--hover-bg-color);\n",
              "    box-shadow: 0 1px 2px rgba(60, 64, 67, 0.3), 0 1px 3px 1px rgba(60, 64, 67, 0.15);\n",
              "    fill: var(--button-hover-fill-color);\n",
              "  }\n",
              "\n",
              "  .colab-df-quickchart-complete:disabled,\n",
              "  .colab-df-quickchart-complete:disabled:hover {\n",
              "    background-color: var(--disabled-bg-color);\n",
              "    fill: var(--disabled-fill-color);\n",
              "    box-shadow: none;\n",
              "  }\n",
              "\n",
              "  .colab-df-spinner {\n",
              "    border: 2px solid var(--fill-color);\n",
              "    border-color: transparent;\n",
              "    border-bottom-color: var(--fill-color);\n",
              "    animation:\n",
              "      spin 1s steps(1) infinite;\n",
              "  }\n",
              "\n",
              "  @keyframes spin {\n",
              "    0% {\n",
              "      border-color: transparent;\n",
              "      border-bottom-color: var(--fill-color);\n",
              "      border-left-color: var(--fill-color);\n",
              "    }\n",
              "    20% {\n",
              "      border-color: transparent;\n",
              "      border-left-color: var(--fill-color);\n",
              "      border-top-color: var(--fill-color);\n",
              "    }\n",
              "    30% {\n",
              "      border-color: transparent;\n",
              "      border-left-color: var(--fill-color);\n",
              "      border-top-color: var(--fill-color);\n",
              "      border-right-color: var(--fill-color);\n",
              "    }\n",
              "    40% {\n",
              "      border-color: transparent;\n",
              "      border-right-color: var(--fill-color);\n",
              "      border-top-color: var(--fill-color);\n",
              "    }\n",
              "    60% {\n",
              "      border-color: transparent;\n",
              "      border-right-color: var(--fill-color);\n",
              "    }\n",
              "    80% {\n",
              "      border-color: transparent;\n",
              "      border-right-color: var(--fill-color);\n",
              "      border-bottom-color: var(--fill-color);\n",
              "    }\n",
              "    90% {\n",
              "      border-color: transparent;\n",
              "      border-bottom-color: var(--fill-color);\n",
              "    }\n",
              "  }\n",
              "</style>\n",
              "\n",
              "  <script>\n",
              "    async function quickchart(key) {\n",
              "      const quickchartButtonEl =\n",
              "        document.querySelector('#' + key + ' button');\n",
              "      quickchartButtonEl.disabled = true;  // To prevent multiple clicks.\n",
              "      quickchartButtonEl.classList.add('colab-df-spinner');\n",
              "      try {\n",
              "        const charts = await google.colab.kernel.invokeFunction(\n",
              "            'suggestCharts', [key], {});\n",
              "      } catch (error) {\n",
              "        console.error('Error during call to suggestCharts:', error);\n",
              "      }\n",
              "      quickchartButtonEl.classList.remove('colab-df-spinner');\n",
              "      quickchartButtonEl.classList.add('colab-df-quickchart-complete');\n",
              "    }\n",
              "    (() => {\n",
              "      let quickchartButtonEl =\n",
              "        document.querySelector('#df-6e090307-bbe9-4abb-bbe4-0d1fefabb79f button');\n",
              "      quickchartButtonEl.style.display =\n",
              "        google.colab.kernel.accessAllowed ? 'block' : 'none';\n",
              "    })();\n",
              "  </script>\n",
              "</div>\n",
              "\n",
              "  <div id=\"id_516d5c1a-7ae3-4e2f-b351-42e08279488e\">\n",
              "    <style>\n",
              "      .colab-df-generate {\n",
              "        background-color: #E8F0FE;\n",
              "        border: none;\n",
              "        border-radius: 50%;\n",
              "        cursor: pointer;\n",
              "        display: none;\n",
              "        fill: #1967D2;\n",
              "        height: 32px;\n",
              "        padding: 0 0 0 0;\n",
              "        width: 32px;\n",
              "      }\n",
              "\n",
              "      .colab-df-generate:hover {\n",
              "        background-color: #E2EBFA;\n",
              "        box-shadow: 0px 1px 2px rgba(60, 64, 67, 0.3), 0px 1px 3px 1px rgba(60, 64, 67, 0.15);\n",
              "        fill: #174EA6;\n",
              "      }\n",
              "\n",
              "      [theme=dark] .colab-df-generate {\n",
              "        background-color: #3B4455;\n",
              "        fill: #D2E3FC;\n",
              "      }\n",
              "\n",
              "      [theme=dark] .colab-df-generate:hover {\n",
              "        background-color: #434B5C;\n",
              "        box-shadow: 0px 1px 3px 1px rgba(0, 0, 0, 0.15);\n",
              "        filter: drop-shadow(0px 1px 2px rgba(0, 0, 0, 0.3));\n",
              "        fill: #FFFFFF;\n",
              "      }\n",
              "    </style>\n",
              "    <button class=\"colab-df-generate\" onclick=\"generateWithVariable('data3')\"\n",
              "            title=\"Generate code using this dataframe.\"\n",
              "            style=\"display:none;\">\n",
              "\n",
              "  <svg xmlns=\"http://www.w3.org/2000/svg\" height=\"24px\"viewBox=\"0 0 24 24\"\n",
              "       width=\"24px\">\n",
              "    <path d=\"M7,19H8.4L18.45,9,17,7.55,7,17.6ZM5,21V16.75L18.45,3.32a2,2,0,0,1,2.83,0l1.4,1.43a1.91,1.91,0,0,1,.58,1.4,1.91,1.91,0,0,1-.58,1.4L9.25,21ZM18.45,9,17,7.55Zm-12,3A5.31,5.31,0,0,0,4.9,8.1,5.31,5.31,0,0,0,1,6.5,5.31,5.31,0,0,0,4.9,4.9,5.31,5.31,0,0,0,6.5,1,5.31,5.31,0,0,0,8.1,4.9,5.31,5.31,0,0,0,12,6.5,5.46,5.46,0,0,0,6.5,12Z\"/>\n",
              "  </svg>\n",
              "    </button>\n",
              "    <script>\n",
              "      (() => {\n",
              "      const buttonEl =\n",
              "        document.querySelector('#id_516d5c1a-7ae3-4e2f-b351-42e08279488e button.colab-df-generate');\n",
              "      buttonEl.style.display =\n",
              "        google.colab.kernel.accessAllowed ? 'block' : 'none';\n",
              "\n",
              "      buttonEl.onclick = () => {\n",
              "        google.colab.notebook.generateWithVariable('data3');\n",
              "      }\n",
              "      })();\n",
              "    </script>\n",
              "  </div>\n",
              "\n",
              "    </div>\n",
              "  </div>\n"
            ],
            "application/vnd.google.colaboratory.intrinsic+json": {
              "type": "dataframe",
              "variable_name": "data3",
              "summary": "{\n  \"name\": \"data3\",\n  \"rows\": 3,\n  \"fields\": [\n    {\n      \"column\": \"number_of_defaults\",\n      \"properties\": {\n        \"dtype\": \"number\",\n        \"std\": 1,\n        \"min\": 0,\n        \"max\": 2,\n        \"num_unique_values\": 3,\n        \"samples\": [\n          0,\n          1,\n          2\n        ],\n        \"semantic_type\": \"\",\n        \"description\": \"\"\n      }\n    },\n    {\n      \"column\": \"Defaulted\",\n      \"properties\": {\n        \"dtype\": \"number\",\n        \"std\": 2326,\n        \"min\": 2974,\n        \"max\": 7517,\n        \"num_unique_values\": 3,\n        \"samples\": [\n          7517,\n          4375,\n          2974\n        ],\n        \"semantic_type\": \"\",\n        \"description\": \"\"\n      }\n    },\n    {\n      \"column\": \"Did not default\",\n      \"properties\": {\n        \"dtype\": \"number\",\n        \"std\": 27424,\n        \"min\": 8381,\n        \"max\": 59641,\n        \"num_unique_values\": 3,\n        \"samples\": [\n          59641,\n          17112,\n          8381\n        ],\n        \"semantic_type\": \"\",\n        \"description\": \"\"\n      }\n    }\n  ]\n}"
            }
          },
          "metadata": {},
          "execution_count": 31
        }
      ]
    },
    {
      "cell_type": "code",
      "source": [
        "# Proportion of Defaults vs Non-Defaults\n",
        "number_of_defaults = [0, 1, 2]\n",
        "Defaulted = [7517, 4375, 2974]\n",
        "Did_not_default = [59641, 17112, 8381]\n",
        "\n",
        "total = [i + j for i, j in zip(Defaulted, Did_not_default)]\n",
        "default_proportion = [i / j * 100 for i, j in zip(Defaulted, total)]\n",
        "non_default_proportion = [i / j * 100 for i, j in zip(Did_not_default, total)]\n",
        "\n",
        "plt.bar(number_of_defaults, default_proportion, label='Defaulted')\n",
        "plt.bar(number_of_defaults, non_default_proportion, bottom=default_proportion, label='Did Not Default')\n",
        "\n",
        "plt.xlabel(\"Number of Defaults\")\n",
        "plt.ylabel(\"Proportion\")\n",
        "plt.title(\"Proportion of Defaults vs Non-Defaults\")\n",
        "_ = plt.legend()"
      ],
      "metadata": {
        "colab": {
          "base_uri": "https://localhost:8080/",
          "height": 472
        },
        "id": "2ZyCk9IDO0am",
        "outputId": "df0e6b25-ea51-4b52-c57d-9901e5e2116b"
      },
      "execution_count": 32,
      "outputs": [
        {
          "output_type": "display_data",
          "data": {
            "text/plain": [
              "<Figure size 640x480 with 1 Axes>"
            ],
            "image/png": "[encoded data removed]"
          },
          "metadata": {}
        }
      ]
    },
    {
      "cell_type": "code",
      "source": [
        "df['Loan Status'].describe()"
      ],
      "metadata": {
        "colab": {
          "base_uri": "https://localhost:8080/"
        },
        "id": "aIreDibGO6G1",
        "outputId": "04e34881-beb7-489c-8643-2c83d31143a7"
      },
      "execution_count": 33,
      "outputs": [
        {
          "output_type": "execute_result",
          "data": {
            "text/plain": [
              "count              100000\n",
              "unique                  2\n",
              "top       Did not default\n",
              "freq                85134\n",
              "Name: Loan Status, dtype: object"
            ]
          },
          "metadata": {},
          "execution_count": 33
        }
      ]
    },
    {
      "cell_type": "markdown",
      "source": [
        "\n",
        "\n",
        "---\n",
        "\n"
      ],
      "metadata": {
        "id": "bL1Vxtj4PJ58"
      }
    },
    {
      "cell_type": "markdown",
      "source": [
        ">2. Marital Status.."
      ],
      "metadata": {
        "id": "rsk8wN7qPHJ7"
      }
    },
    {
      "cell_type": "code",
      "source": [
        "data2 = pd.crosstab(\n",
        "    index=df[\"Loan Status\"],\n",
        "    columns=df[\"marital_status\"],\n",
        "    normalize=False\n",
        ")\n",
        "\n",
        "print(\"data type:\", type(data2))\n",
        "print(\"data shape:\", data2.shape)\n",
        "data2"
      ],
      "metadata": {
        "colab": {
          "base_uri": "https://localhost:8080/",
          "height": 178
        },
        "id": "wTpEgbgJO-ej",
        "outputId": "6fefc732-c9ac-4ae7-edfb-dc9b8f87a972"
      },
      "execution_count": 34,
      "outputs": [
        {
          "output_type": "stream",
          "name": "stdout",
          "text": [
            "data type: <class 'pandas.core.frame.DataFrame'>\n",
            "data shape: (2, 4)\n"
          ]
        },
        {
          "output_type": "execute_result",
          "data": {
            "text/plain": [
              "marital_status         divorced  married  single\n",
              "Loan Status                                     \n",
              "Defaulted         479      4749     6831    2807\n",
              "Did not default  2648     21716    37879   22891"
            ],
            "text/html": [
              "\n",
              "  <div id=\"df-0df22dd2-c545-490f-98db-572a78c26d23\" class=\"colab-df-container\">\n",
              "    <div>\n",
              "<style scoped>\n",
              "    .dataframe tbody tr th:only-of-type {\n",
              "        vertical-align: middle;\n",
              "    }\n",
              "\n",
              "    .dataframe tbody tr th {\n",
              "        vertical-align: top;\n",
              "    }\n",
              "\n",
              "    .dataframe thead th {\n",
              "        text-align: right;\n",
              "    }\n",
              "</style>\n",
              "<table border=\"1\" class=\"dataframe\">\n",
              "  <thead>\n",
              "    <tr style=\"text-align: right;\">\n",
              "      <th>marital_status</th>\n",
              "      <th></th>\n",
              "      <th>divorced</th>\n",
              "      <th>married</th>\n",
              "      <th>single</th>\n",
              "    </tr>\n",
              "    <tr>\n",
              "      <th>Loan Status</th>\n",
              "      <th></th>\n",
              "      <th></th>\n",
              "      <th></th>\n",
              "      <th></th>\n",
              "    </tr>\n",
              "  </thead>\n",
              "  <tbody>\n",
              "    <tr>\n",
              "      <th>Defaulted</th>\n",
              "      <td>479</td>\n",
              "      <td>4749</td>\n",
              "      <td>6831</td>\n",
              "      <td>2807</td>\n",
              "    </tr>\n",
              "    <tr>\n",
              "      <th>Did not default</th>\n",
              "      <td>2648</td>\n",
              "      <td>21716</td>\n",
              "      <td>37879</td>\n",
              "      <td>22891</td>\n",
              "    </tr>\n",
              "  </tbody>\n",
              "</table>\n",
              "</div>\n",
              "    <div class=\"colab-df-buttons\">\n",
              "\n",
              "  <div class=\"colab-df-container\">\n",
              "    <button class=\"colab-df-convert\" onclick=\"convertToInteractive('df-0df22dd2-c545-490f-98db-572a78c26d23')\"\n",
              "            title=\"Convert this dataframe to an interactive table.\"\n",
              "            style=\"display:none;\">\n",
              "\n",
              "  <svg xmlns=\"http://www.w3.org/2000/svg\" height=\"24px\" viewBox=\"0 -960 960 960\">\n",
              "    <path d=\"M120-120v-720h720v720H120Zm60-500h600v-160H180v160Zm220 220h160v-160H400v160Zm0 220h160v-160H400v160ZM180-400h160v-160H180v160Zm440 0h160v-160H620v160ZM180-180h160v-160H180v160Zm440 0h160v-160H620v160Z\"/>\n",
              "  </svg>\n",
              "    </button>\n",
              "\n",
              "  <style>\n",
              "    .colab-df-container {\n",
              "      display:flex;\n",
              "      gap: 12px;\n",
              "    }\n",
              "\n",
              "    .colab-df-convert {\n",
              "      background-color: #E8F0FE;\n",
              "      border: none;\n",
              "      border-radius: 50%;\n",
              "      cursor: pointer;\n",
              "      display: none;\n",
              "      fill: #1967D2;\n",
              "      height: 32px;\n",
              "      padding: 0 0 0 0;\n",
              "      width: 32px;\n",
              "    }\n",
              "\n",
              "    .colab-df-convert:hover {\n",
              "      background-color: #E2EBFA;\n",
              "      box-shadow: 0px 1px 2px rgba(60, 64, 67, 0.3), 0px 1px 3px 1px rgba(60, 64, 67, 0.15);\n",
              "      fill: #174EA6;\n",
              "    }\n",
              "\n",
              "    .colab-df-buttons div {\n",
              "      margin-bottom: 4px;\n",
              "    }\n",
              "\n",
              "    [theme=dark] .colab-df-convert {\n",
              "      background-color: #3B4455;\n",
              "      fill: #D2E3FC;\n",
              "    }\n",
              "\n",
              "    [theme=dark] .colab-df-convert:hover {\n",
              "      background-color: #434B5C;\n",
              "      box-shadow: 0px 1px 3px 1px rgba(0, 0, 0, 0.15);\n",
              "      filter: drop-shadow(0px 1px 2px rgba(0, 0, 0, 0.3));\n",
              "      fill: #FFFFFF;\n",
              "    }\n",
              "  </style>\n",
              "\n",
              "    <script>\n",
              "      const buttonEl =\n",
              "        document.querySelector('#df-0df22dd2-c545-490f-98db-572a78c26d23 button.colab-df-convert');\n",
              "      buttonEl.style.display =\n",
              "        google.colab.kernel.accessAllowed ? 'block' : 'none';\n",
              "\n",
              "      async function convertToInteractive(key) {\n",
              "        const element = document.querySelector('#df-0df22dd2-c545-490f-98db-572a78c26d23');\n",
              "        const dataTable =\n",
              "          await google.colab.kernel.invokeFunction('convertToInteractive',\n",
              "                                                    [key], {});\n",
              "        if (!dataTable) return;\n",
              "\n",
              "        const docLinkHtml = 'Like what you see? Visit the ' +\n",
              "          '<a target=\"_blank\" href=https://colab.research.google.com/notebooks/data_table.ipynb>data table notebook</a>'\n",
              "          + ' to learn more about interactive tables.';\n",
              "        element.innerHTML = '';\n",
              "        dataTable['output_type'] = 'display_data';\n",
              "        await google.colab.output.renderOutput(dataTable, element);\n",
              "        const docLink = document.createElement('div');\n",
              "        docLink.innerHTML = docLinkHtml;\n",
              "        element.appendChild(docLink);\n",
              "      }\n",
              "    </script>\n",
              "  </div>\n",
              "\n",
              "\n",
              "<div id=\"df-77140952-ab82-42c8-9b81-443d124afe2c\">\n",
              "  <button class=\"colab-df-quickchart\" onclick=\"quickchart('df-77140952-ab82-42c8-9b81-443d124afe2c')\"\n",
              "            title=\"Suggest charts\"\n",
              "            style=\"display:none;\">\n",
              "\n",
              "<svg xmlns=\"http://www.w3.org/2000/svg\" height=\"24px\"viewBox=\"0 0 24 24\"\n",
              "     width=\"24px\">\n",
              "    <g>\n",
              "        <path d=\"M19 3H5c-1.1 0-2 .9-2 2v14c0 1.1.9 2 2 2h14c1.1 0 2-.9 2-2V5c0-1.1-.9-2-2-2zM9 17H7v-7h2v7zm4 0h-2V7h2v10zm4 0h-2v-4h2v4z\"/>\n",
              "    </g>\n",
              "</svg>\n",
              "  </button>\n",
              "\n",
              "<style>\n",
              "  .colab-df-quickchart {\n",
              "      --bg-color: #E8F0FE;\n",
              "      --fill-color: #1967D2;\n",
              "      --hover-bg-color: #E2EBFA;\n",
              "      --hover-fill-color: #174EA6;\n",
              "      --disabled-fill-color: #AAA;\n",
              "      --disabled-bg-color: #DDD;\n",
              "  }\n",
              "\n",
              "  [theme=dark] .colab-df-quickchart {\n",
              "      --bg-color: #3B4455;\n",
              "      --fill-color: #D2E3FC;\n",
              "      --hover-bg-color: #434B5C;\n",
              "      --hover-fill-color: #FFFFFF;\n",
              "      --disabled-bg-color: #3B4455;\n",
              "      --disabled-fill-color: #666;\n",
              "  }\n",
              "\n",
              "  .colab-df-quickchart {\n",
              "    background-color: var(--bg-color);\n",
              "    border: none;\n",
              "    border-radius: 50%;\n",
              "    cursor: pointer;\n",
              "    display: none;\n",
              "    fill: var(--fill-color);\n",
              "    height: 32px;\n",
              "    padding: 0;\n",
              "    width: 32px;\n",
              "  }\n",
              "\n",
              "  .colab-df-quickchart:hover {\n",
              "    background-color: var(--hover-bg-color);\n",
              "    box-shadow: 0 1px 2px rgba(60, 64, 67, 0.3), 0 1px 3px 1px rgba(60, 64, 67, 0.15);\n",
              "    fill: var(--button-hover-fill-color);\n",
              "  }\n",
              "\n",
              "  .colab-df-quickchart-complete:disabled,\n",
              "  .colab-df-quickchart-complete:disabled:hover {\n",
              "    background-color: var(--disabled-bg-color);\n",
              "    fill: var(--disabled-fill-color);\n",
              "    box-shadow: none;\n",
              "  }\n",
              "\n",
              "  .colab-df-spinner {\n",
              "    border: 2px solid var(--fill-color);\n",
              "    border-color: transparent;\n",
              "    border-bottom-color: var(--fill-color);\n",
              "    animation:\n",
              "      spin 1s steps(1) infinite;\n",
              "  }\n",
              "\n",
              "  @keyframes spin {\n",
              "    0% {\n",
              "      border-color: transparent;\n",
              "      border-bottom-color: var(--fill-color);\n",
              "      border-left-color: var(--fill-color);\n",
              "    }\n",
              "    20% {\n",
              "      border-color: transparent;\n",
              "      border-left-color: var(--fill-color);\n",
              "      border-top-color: var(--fill-color);\n",
              "    }\n",
              "    30% {\n",
              "      border-color: transparent;\n",
              "      border-left-color: var(--fill-color);\n",
              "      border-top-color: var(--fill-color);\n",
              "      border-right-color: var(--fill-color);\n",
              "    }\n",
              "    40% {\n",
              "      border-color: transparent;\n",
              "      border-right-color: var(--fill-color);\n",
              "      border-top-color: var(--fill-color);\n",
              "    }\n",
              "    60% {\n",
              "      border-color: transparent;\n",
              "      border-right-color: var(--fill-color);\n",
              "    }\n",
              "    80% {\n",
              "      border-color: transparent;\n",
              "      border-right-color: var(--fill-color);\n",
              "      border-bottom-color: var(--fill-color);\n",
              "    }\n",
              "    90% {\n",
              "      border-color: transparent;\n",
              "      border-bottom-color: var(--fill-color);\n",
              "    }\n",
              "  }\n",
              "</style>\n",
              "\n",
              "  <script>\n",
              "    async function quickchart(key) {\n",
              "      const quickchartButtonEl =\n",
              "        document.querySelector('#' + key + ' button');\n",
              "      quickchartButtonEl.disabled = true;  // To prevent multiple clicks.\n",
              "      quickchartButtonEl.classList.add('colab-df-spinner');\n",
              "      try {\n",
              "        const charts = await google.colab.kernel.invokeFunction(\n",
              "            'suggestCharts', [key], {});\n",
              "      } catch (error) {\n",
              "        console.error('Error during call to suggestCharts:', error);\n",
              "      }\n",
              "      quickchartButtonEl.classList.remove('colab-df-spinner');\n",
              "      quickchartButtonEl.classList.add('colab-df-quickchart-complete');\n",
              "    }\n",
              "    (() => {\n",
              "      let quickchartButtonEl =\n",
              "        document.querySelector('#df-77140952-ab82-42c8-9b81-443d124afe2c button');\n",
              "      quickchartButtonEl.style.display =\n",
              "        google.colab.kernel.accessAllowed ? 'block' : 'none';\n",
              "    })();\n",
              "  </script>\n",
              "</div>\n",
              "\n",
              "  <div id=\"id_9f930adf-f02c-47ce-b1b5-38a5b4a3f731\">\n",
              "    <style>\n",
              "      .colab-df-generate {\n",
              "        background-color: #E8F0FE;\n",
              "        border: none;\n",
              "        border-radius: 50%;\n",
              "        cursor: pointer;\n",
              "        display: none;\n",
              "        fill: #1967D2;\n",
              "        height: 32px;\n",
              "        padding: 0 0 0 0;\n",
              "        width: 32px;\n",
              "      }\n",
              "\n",
              "      .colab-df-generate:hover {\n",
              "        background-color: #E2EBFA;\n",
              "        box-shadow: 0px 1px 2px rgba(60, 64, 67, 0.3), 0px 1px 3px 1px rgba(60, 64, 67, 0.15);\n",
              "        fill: #174EA6;\n",
              "      }\n",
              "\n",
              "      [theme=dark] .colab-df-generate {\n",
              "        background-color: #3B4455;\n",
              "        fill: #D2E3FC;\n",
              "      }\n",
              "\n",
              "      [theme=dark] .colab-df-generate:hover {\n",
              "        background-color: #434B5C;\n",
              "        box-shadow: 0px 1px 3px 1px rgba(0, 0, 0, 0.15);\n",
              "        filter: drop-shadow(0px 1px 2px rgba(0, 0, 0, 0.3));\n",
              "        fill: #FFFFFF;\n",
              "      }\n",
              "    </style>\n",
              "    <button class=\"colab-df-generate\" onclick=\"generateWithVariable('data2')\"\n",
              "            title=\"Generate code using this dataframe.\"\n",
              "            style=\"display:none;\">\n",
              "\n",
              "  <svg xmlns=\"http://www.w3.org/2000/svg\" height=\"24px\"viewBox=\"0 0 24 24\"\n",
              "       width=\"24px\">\n",
              "    <path d=\"M7,19H8.4L18.45,9,17,7.55,7,17.6ZM5,21V16.75L18.45,3.32a2,2,0,0,1,2.83,0l1.4,1.43a1.91,1.91,0,0,1,.58,1.4,1.91,1.91,0,0,1-.58,1.4L9.25,21ZM18.45,9,17,7.55Zm-12,3A5.31,5.31,0,0,0,4.9,8.1,5.31,5.31,0,0,0,1,6.5,5.31,5.31,0,0,0,4.9,4.9,5.31,5.31,0,0,0,6.5,1,5.31,5.31,0,0,0,8.1,4.9,5.31,5.31,0,0,0,12,6.5,5.46,5.46,0,0,0,6.5,12Z\"/>\n",
              "  </svg>\n",
              "    </button>\n",
              "    <script>\n",
              "      (() => {\n",
              "      const buttonEl =\n",
              "        document.querySelector('#id_9f930adf-f02c-47ce-b1b5-38a5b4a3f731 button.colab-df-generate');\n",
              "      buttonEl.style.display =\n",
              "        google.colab.kernel.accessAllowed ? 'block' : 'none';\n",
              "\n",
              "      buttonEl.onclick = () => {\n",
              "        google.colab.notebook.generateWithVariable('data2');\n",
              "      }\n",
              "      })();\n",
              "    </script>\n",
              "  </div>\n",
              "\n",
              "    </div>\n",
              "  </div>\n"
            ],
            "application/vnd.google.colaboratory.intrinsic+json": {
              "type": "dataframe",
              "variable_name": "data2",
              "summary": "{\n  \"name\": \"data2\",\n  \"rows\": 2,\n  \"fields\": [\n    {\n      \"column\": \"Loan Status\",\n      \"properties\": {\n        \"dtype\": \"string\",\n        \"num_unique_values\": 2,\n        \"samples\": [\n          \"Did not default\",\n          \"Defaulted\"\n        ],\n        \"semantic_type\": \"\",\n        \"description\": \"\"\n      }\n    },\n    {\n      \"column\": \" \",\n      \"properties\": {\n        \"dtype\": \"number\",\n        \"std\": 1533,\n        \"min\": 479,\n        \"max\": 2648,\n        \"num_unique_values\": 2,\n        \"samples\": [\n          2648,\n          479\n        ],\n        \"semantic_type\": \"\",\n        \"description\": \"\"\n      }\n    },\n    {\n      \"column\": \"divorced\",\n      \"properties\": {\n        \"dtype\": \"number\",\n        \"std\": 11997,\n        \"min\": 4749,\n        \"max\": 21716,\n        \"num_unique_values\": 2,\n        \"samples\": [\n          21716,\n          4749\n        ],\n        \"semantic_type\": \"\",\n        \"description\": \"\"\n      }\n    },\n    {\n      \"column\": \"married\",\n      \"properties\": {\n        \"dtype\": \"number\",\n        \"std\": 21954,\n        \"min\": 6831,\n        \"max\": 37879,\n        \"num_unique_values\": 2,\n        \"samples\": [\n          37879,\n          6831\n        ],\n        \"semantic_type\": \"\",\n        \"description\": \"\"\n      }\n    },\n    {\n      \"column\": \"single\",\n      \"properties\": {\n        \"dtype\": \"number\",\n        \"std\": 14201,\n        \"min\": 2807,\n        \"max\": 22891,\n        \"num_unique_values\": 2,\n        \"samples\": [\n          22891,\n          2807\n        ],\n        \"semantic_type\": \"\",\n        \"description\": \"\"\n      }\n    }\n  ]\n}"
            }
          },
          "metadata": {},
          "execution_count": 34
        }
      ]
    },
    {
      "cell_type": "code",
      "source": [
        "#Distribution of Loan Defaults by Marital Status\n",
        "\n",
        "\n",
        "defaulted = [data2['divorced'][1] / (data2['divorced'][0] + data2['divorced'][1]),\n",
        "             data2['married'][1] / (data2['married'][0] + data2['married'][1]),\n",
        "             data2['single'][1] / (data2['single'][0] + data2['single'][1])]\n",
        "not_defaulted = [1 - defaulted[0], 1 - defaulted[1], 1 - defaulted[2]]\n",
        "\n",
        "labels = ['Divorced', 'Married', 'Single']\n",
        "\n",
        "plt.bar(labels, not_defaulted, label='Defaulted')\n",
        "plt.bar(labels, defaulted, bottom=not_defaulted, label='Did not default')\n",
        "\n",
        "plt.xlabel('Marital Status')\n",
        "plt.ylabel('Proportion of Loans')\n",
        "plt.title('Distribution of Loan Defaults by Marital Status')\n",
        "_ = plt.legend()\n"
      ],
      "metadata": {
        "colab": {
          "base_uri": "https://localhost:8080/",
          "height": 472
        },
        "id": "LPqHzZ67Pi1n",
        "outputId": "ea2d4c8d-41a0-43a8-daba-fa86c563ff99"
      },
      "execution_count": 35,
      "outputs": [
        {
          "output_type": "display_data",
          "data": {
            "text/plain": [
              "<Figure size 640x480 with 1 Axes>"
            ],
            "image/png": "[encoded data removed]"
          },
          "metadata": {}
        }
      ]
    },
    {
      "cell_type": "markdown",
      "source": [
        "> Divorced has highest defaults with respect to the total of their pool."
      ],
      "metadata": {
        "id": "cYZXnJIePyPQ"
      }
    },
    {
      "cell_type": "code",
      "source": [
        "# Plot class balance\n",
        "df[\"marital_status\"].value_counts(normalize=True).plot(\n",
        "    kind=\"bar\",\n",
        "    xlabel=\"Status\",\n",
        "    ylabel=\"Frequency\",\n",
        "    title=\"Status Balance\"\n",
        ");"
      ],
      "metadata": {
        "colab": {
          "base_uri": "https://localhost:8080/",
          "height": 518
        },
        "id": "EiOzKWr6P0Yc",
        "outputId": "91fae6f2-3b50-4d2f-b03d-a60c65db99df"
      },
      "execution_count": 36,
      "outputs": [
        {
          "output_type": "display_data",
          "data": {
            "text/plain": [
              "<Figure size 640x480 with 1 Axes>"
            ],
            "image/png": "[encoded data removed]"
          },
          "metadata": {}
        }
      ]
    },
    {
      "cell_type": "markdown",
      "source": [
        "> Married people are mostly the target market from the above showing a bigger chunk."
      ],
      "metadata": {
        "id": "e1os84vOP-3J"
      }
    },
    {
      "cell_type": "code",
      "source": [
        "print(df['marital_status'].value_counts())"
      ],
      "metadata": {
        "colab": {
          "base_uri": "https://localhost:8080/"
        },
        "id": "Nv8PDJ9VP4OV",
        "outputId": "664241d9-1623-4230-bac7-64cbb5d4f0c9"
      },
      "execution_count": 37,
      "outputs": [
        {
          "output_type": "stream",
          "name": "stdout",
          "text": [
            "marital_status\n",
            "married     44710\n",
            "divorced    26465\n",
            "single      25698\n",
            "             3127\n",
            "Name: count, dtype: int64\n"
          ]
        }
      ]
    },
    {
      "cell_type": "code",
      "source": [
        "df['marital_status'].describe()"
      ],
      "metadata": {
        "colab": {
          "base_uri": "https://localhost:8080/"
        },
        "id": "IBvx04X1QHrt",
        "outputId": "8c098d11-3ef4-442b-bef3-9cb56410a35a"
      },
      "execution_count": 38,
      "outputs": [
        {
          "output_type": "execute_result",
          "data": {
            "text/plain": [
              "count      100000\n",
              "unique          4\n",
              "top       married\n",
              "freq        44710\n",
              "Name: marital_status, dtype: object"
            ]
          },
          "metadata": {},
          "execution_count": 38
        }
      ]
    },
    {
      "cell_type": "markdown",
      "source": [
        "from the above we see other component that is anonymous later to be edited to other."
      ],
      "metadata": {
        "id": "DgT_VoboQRjV"
      }
    },
    {
      "cell_type": "markdown",
      "source": [
        "\n",
        "\n",
        "---\n",
        "\n"
      ],
      "metadata": {
        "id": "dHDyYf9AQat0"
      }
    },
    {
      "cell_type": "markdown",
      "source": [
        ">3. Number of defaults"
      ],
      "metadata": {
        "id": "aSLllXGxQdRQ"
      }
    },
    {
      "cell_type": "code",
      "source": [
        "data = pd.crosstab(\n",
        "    index=df[\"Loan Status\"],\n",
        "    columns=df[\"number_of_defaults\"],\n",
        "    normalize=False\n",
        ")\n",
        "\n",
        "print(\"data type:\", type(data))\n",
        "print(\"data shape:\", data.shape)\n",
        "data"
      ],
      "metadata": {
        "colab": {
          "base_uri": "https://localhost:8080/",
          "height": 178
        },
        "id": "gMou9XbaQcc_",
        "outputId": "5a69bb25-cd83-4381-8133-46eaeef3dbdf"
      },
      "execution_count": 40,
      "outputs": [
        {
          "output_type": "stream",
          "name": "stdout",
          "text": [
            "data type: <class 'pandas.core.frame.DataFrame'>\n",
            "data shape: (2, 3)\n"
          ]
        },
        {
          "output_type": "execute_result",
          "data": {
            "text/plain": [
              "number_of_defaults      0      1     2\n",
              "Loan Status                           \n",
              "Defaulted            7517   4375  2974\n",
              "Did not default     59641  17112  8381"
            ],
            "text/html": [
              "\n",
              "  <div id=\"df-a9cf73bc-f898-4d8f-a48f-f14ab42793ac\" class=\"colab-df-container\">\n",
              "    <div>\n",
              "<style scoped>\n",
              "    .dataframe tbody tr th:only-of-type {\n",
              "        vertical-align: middle;\n",
              "    }\n",
              "\n",
              "    .dataframe tbody tr th {\n",
              "        vertical-align: top;\n",
              "    }\n",
              "\n",
              "    .dataframe thead th {\n",
              "        text-align: right;\n",
              "    }\n",
              "</style>\n",
              "<table border=\"1\" class=\"dataframe\">\n",
              "  <thead>\n",
              "    <tr style=\"text-align: right;\">\n",
              "      <th>number_of_defaults</th>\n",
              "      <th>0</th>\n",
              "      <th>1</th>\n",
              "      <th>2</th>\n",
              "    </tr>\n",
              "    <tr>\n",
              "      <th>Loan Status</th>\n",
              "      <th></th>\n",
              "      <th></th>\n",
              "      <th></th>\n",
              "    </tr>\n",
              "  </thead>\n",
              "  <tbody>\n",
              "    <tr>\n",
              "      <th>Defaulted</th>\n",
              "      <td>7517</td>\n",
              "      <td>4375</td>\n",
              "      <td>2974</td>\n",
              "    </tr>\n",
              "    <tr>\n",
              "      <th>Did not default</th>\n",
              "      <td>59641</td>\n",
              "      <td>17112</td>\n",
              "      <td>8381</td>\n",
              "    </tr>\n",
              "  </tbody>\n",
              "</table>\n",
              "</div>\n",
              "    <div class=\"colab-df-buttons\">\n",
              "\n",
              "  <div class=\"colab-df-container\">\n",
              "    <button class=\"colab-df-convert\" onclick=\"convertToInteractive('df-a9cf73bc-f898-4d8f-a48f-f14ab42793ac')\"\n",
              "            title=\"Convert this dataframe to an interactive table.\"\n",
              "            style=\"display:none;\">\n",
              "\n",
              "  <svg xmlns=\"http://www.w3.org/2000/svg\" height=\"24px\" viewBox=\"0 -960 960 960\">\n",
              "    <path d=\"M120-120v-720h720v720H120Zm60-500h600v-160H180v160Zm220 220h160v-160H400v160Zm0 220h160v-160H400v160ZM180-400h160v-160H180v160Zm440 0h160v-160H620v160ZM180-180h160v-160H180v160Zm440 0h160v-160H620v160Z\"/>\n",
              "  </svg>\n",
              "    </button>\n",
              "\n",
              "  <style>\n",
              "    .colab-df-container {\n",
              "      display:flex;\n",
              "      gap: 12px;\n",
              "    }\n",
              "\n",
              "    .colab-df-convert {\n",
              "      background-color: #E8F0FE;\n",
              "      border: none;\n",
              "      border-radius: 50%;\n",
              "      cursor: pointer;\n",
              "      display: none;\n",
              "      fill: #1967D2;\n",
              "      height: 32px;\n",
              "      padding: 0 0 0 0;\n",
              "      width: 32px;\n",
              "    }\n",
              "\n",
              "    .colab-df-convert:hover {\n",
              "      background-color: #E2EBFA;\n",
              "      box-shadow: 0px 1px 2px rgba(60, 64, 67, 0.3), 0px 1px 3px 1px rgba(60, 64, 67, 0.15);\n",
              "      fill: #174EA6;\n",
              "    }\n",
              "\n",
              "    .colab-df-buttons div {\n",
              "      margin-bottom: 4px;\n",
              "    }\n",
              "\n",
              "    [theme=dark] .colab-df-convert {\n",
              "      background-color: #3B4455;\n",
              "      fill: #D2E3FC;\n",
              "    }\n",
              "\n",
              "    [theme=dark] .colab-df-convert:hover {\n",
              "      background-color: #434B5C;\n",
              "      box-shadow: 0px 1px 3px 1px rgba(0, 0, 0, 0.15);\n",
              "      filter: drop-shadow(0px 1px 2px rgba(0, 0, 0, 0.3));\n",
              "      fill: #FFFFFF;\n",
              "    }\n",
              "  </style>\n",
              "\n",
              "    <script>\n",
              "      const buttonEl =\n",
              "        document.querySelector('#df-a9cf73bc-f898-4d8f-a48f-f14ab42793ac button.colab-df-convert');\n",
              "      buttonEl.style.display =\n",
              "        google.colab.kernel.accessAllowed ? 'block' : 'none';\n",
              "\n",
              "      async function convertToInteractive(key) {\n",
              "        const element = document.querySelector('#df-a9cf73bc-f898-4d8f-a48f-f14ab42793ac');\n",
              "        const dataTable =\n",
              "          await google.colab.kernel.invokeFunction('convertToInteractive',\n",
              "                                                    [key], {});\n",
              "        if (!dataTable) return;\n",
              "\n",
              "        const docLinkHtml = 'Like what you see? Visit the ' +\n",
              "          '<a target=\"_blank\" href=https://colab.research.google.com/notebooks/data_table.ipynb>data table notebook</a>'\n",
              "          + ' to learn more about interactive tables.';\n",
              "        element.innerHTML = '';\n",
              "        dataTable['output_type'] = 'display_data';\n",
              "        await google.colab.output.renderOutput(dataTable, element);\n",
              "        const docLink = document.createElement('div');\n",
              "        docLink.innerHTML = docLinkHtml;\n",
              "        element.appendChild(docLink);\n",
              "      }\n",
              "    </script>\n",
              "  </div>\n",
              "\n",
              "\n",
              "<div id=\"df-bca2b812-90f2-4d0e-973b-23e2fbb0be8e\">\n",
              "  <button class=\"colab-df-quickchart\" onclick=\"quickchart('df-bca2b812-90f2-4d0e-973b-23e2fbb0be8e')\"\n",
              "            title=\"Suggest charts\"\n",
              "            style=\"display:none;\">\n",
              "\n",
              "<svg xmlns=\"http://www.w3.org/2000/svg\" height=\"24px\"viewBox=\"0 0 24 24\"\n",
              "     width=\"24px\">\n",
              "    <g>\n",
              "        <path d=\"M19 3H5c-1.1 0-2 .9-2 2v14c0 1.1.9 2 2 2h14c1.1 0 2-.9 2-2V5c0-1.1-.9-2-2-2zM9 17H7v-7h2v7zm4 0h-2V7h2v10zm4 0h-2v-4h2v4z\"/>\n",
              "    </g>\n",
              "</svg>\n",
              "  </button>\n",
              "\n",
              "<style>\n",
              "  .colab-df-quickchart {\n",
              "      --bg-color: #E8F0FE;\n",
              "      --fill-color: #1967D2;\n",
              "      --hover-bg-color: #E2EBFA;\n",
              "      --hover-fill-color: #174EA6;\n",
              "      --disabled-fill-color: #AAA;\n",
              "      --disabled-bg-color: #DDD;\n",
              "  }\n",
              "\n",
              "  [theme=dark] .colab-df-quickchart {\n",
              "      --bg-color: #3B4455;\n",
              "      --fill-color: #D2E3FC;\n",
              "      --hover-bg-color: #434B5C;\n",
              "      --hover-fill-color: #FFFFFF;\n",
              "      --disabled-bg-color: #3B4455;\n",
              "      --disabled-fill-color: #666;\n",
              "  }\n",
              "\n",
              "  .colab-df-quickchart {\n",
              "    background-color: var(--bg-color);\n",
              "    border: none;\n",
              "    border-radius: 50%;\n",
              "    cursor: pointer;\n",
              "    display: none;\n",
              "    fill: var(--fill-color);\n",
              "    height: 32px;\n",
              "    padding: 0;\n",
              "    width: 32px;\n",
              "  }\n",
              "\n",
              "  .colab-df-quickchart:hover {\n",
              "    background-color: var(--hover-bg-color);\n",
              "    box-shadow: 0 1px 2px rgba(60, 64, 67, 0.3), 0 1px 3px 1px rgba(60, 64, 67, 0.15);\n",
              "    fill: var(--button-hover-fill-color);\n",
              "  }\n",
              "\n",
              "  .colab-df-quickchart-complete:disabled,\n",
              "  .colab-df-quickchart-complete:disabled:hover {\n",
              "    background-color: var(--disabled-bg-color);\n",
              "    fill: var(--disabled-fill-color);\n",
              "    box-shadow: none;\n",
              "  }\n",
              "\n",
              "  .colab-df-spinner {\n",
              "    border: 2px solid var(--fill-color);\n",
              "    border-color: transparent;\n",
              "    border-bottom-color: var(--fill-color);\n",
              "    animation:\n",
              "      spin 1s steps(1) infinite;\n",
              "  }\n",
              "\n",
              "  @keyframes spin {\n",
              "    0% {\n",
              "      border-color: transparent;\n",
              "      border-bottom-color: var(--fill-color);\n",
              "      border-left-color: var(--fill-color);\n",
              "    }\n",
              "    20% {\n",
              "      border-color: transparent;\n",
              "      border-left-color: var(--fill-color);\n",
              "      border-top-color: var(--fill-color);\n",
              "    }\n",
              "    30% {\n",
              "      border-color: transparent;\n",
              "      border-left-color: var(--fill-color);\n",
              "      border-top-color: var(--fill-color);\n",
              "      border-right-color: var(--fill-color);\n",
              "    }\n",
              "    40% {\n",
              "      border-color: transparent;\n",
              "      border-right-color: var(--fill-color);\n",
              "      border-top-color: var(--fill-color);\n",
              "    }\n",
              "    60% {\n",
              "      border-color: transparent;\n",
              "      border-right-color: var(--fill-color);\n",
              "    }\n",
              "    80% {\n",
              "      border-color: transparent;\n",
              "      border-right-color: var(--fill-color);\n",
              "      border-bottom-color: var(--fill-color);\n",
              "    }\n",
              "    90% {\n",
              "      border-color: transparent;\n",
              "      border-bottom-color: var(--fill-color);\n",
              "    }\n",
              "  }\n",
              "</style>\n",
              "\n",
              "  <script>\n",
              "    async function quickchart(key) {\n",
              "      const quickchartButtonEl =\n",
              "        document.querySelector('#' + key + ' button');\n",
              "      quickchartButtonEl.disabled = true;  // To prevent multiple clicks.\n",
              "      quickchartButtonEl.classList.add('colab-df-spinner');\n",
              "      try {\n",
              "        const charts = await google.colab.kernel.invokeFunction(\n",
              "            'suggestCharts', [key], {});\n",
              "      } catch (error) {\n",
              "        console.error('Error during call to suggestCharts:', error);\n",
              "      }\n",
              "      quickchartButtonEl.classList.remove('colab-df-spinner');\n",
              "      quickchartButtonEl.classList.add('colab-df-quickchart-complete');\n",
              "    }\n",
              "    (() => {\n",
              "      let quickchartButtonEl =\n",
              "        document.querySelector('#df-bca2b812-90f2-4d0e-973b-23e2fbb0be8e button');\n",
              "      quickchartButtonEl.style.display =\n",
              "        google.colab.kernel.accessAllowed ? 'block' : 'none';\n",
              "    })();\n",
              "  </script>\n",
              "</div>\n",
              "\n",
              "  <div id=\"id_3fa1a53f-efd9-48e1-ac8e-1291e2c49475\">\n",
              "    <style>\n",
              "      .colab-df-generate {\n",
              "        background-color: #E8F0FE;\n",
              "        border: none;\n",
              "        border-radius: 50%;\n",
              "        cursor: pointer;\n",
              "        display: none;\n",
              "        fill: #1967D2;\n",
              "        height: 32px;\n",
              "        padding: 0 0 0 0;\n",
              "        width: 32px;\n",
              "      }\n",
              "\n",
              "      .colab-df-generate:hover {\n",
              "        background-color: #E2EBFA;\n",
              "        box-shadow: 0px 1px 2px rgba(60, 64, 67, 0.3), 0px 1px 3px 1px rgba(60, 64, 67, 0.15);\n",
              "        fill: #174EA6;\n",
              "      }\n",
              "\n",
              "      [theme=dark] .colab-df-generate {\n",
              "        background-color: #3B4455;\n",
              "        fill: #D2E3FC;\n",
              "      }\n",
              "\n",
              "      [theme=dark] .colab-df-generate:hover {\n",
              "        background-color: #434B5C;\n",
              "        box-shadow: 0px 1px 3px 1px rgba(0, 0, 0, 0.15);\n",
              "        filter: drop-shadow(0px 1px 2px rgba(0, 0, 0, 0.3));\n",
              "        fill: #FFFFFF;\n",
              "      }\n",
              "    </style>\n",
              "    <button class=\"colab-df-generate\" onclick=\"generateWithVariable('data')\"\n",
              "            title=\"Generate code using this dataframe.\"\n",
              "            style=\"display:none;\">\n",
              "\n",
              "  <svg xmlns=\"http://www.w3.org/2000/svg\" height=\"24px\"viewBox=\"0 0 24 24\"\n",
              "       width=\"24px\">\n",
              "    <path d=\"M7,19H8.4L18.45,9,17,7.55,7,17.6ZM5,21V16.75L18.45,3.32a2,2,0,0,1,2.83,0l1.4,1.43a1.91,1.91,0,0,1,.58,1.4,1.91,1.91,0,0,1-.58,1.4L9.25,21ZM18.45,9,17,7.55Zm-12,3A5.31,5.31,0,0,0,4.9,8.1,5.31,5.31,0,0,0,1,6.5,5.31,5.31,0,0,0,4.9,4.9,5.31,5.31,0,0,0,6.5,1,5.31,5.31,0,0,0,8.1,4.9,5.31,5.31,0,0,0,12,6.5,5.46,5.46,0,0,0,6.5,12Z\"/>\n",
              "  </svg>\n",
              "    </button>\n",
              "    <script>\n",
              "      (() => {\n",
              "      const buttonEl =\n",
              "        document.querySelector('#id_3fa1a53f-efd9-48e1-ac8e-1291e2c49475 button.colab-df-generate');\n",
              "      buttonEl.style.display =\n",
              "        google.colab.kernel.accessAllowed ? 'block' : 'none';\n",
              "\n",
              "      buttonEl.onclick = () => {\n",
              "        google.colab.notebook.generateWithVariable('data');\n",
              "      }\n",
              "      })();\n",
              "    </script>\n",
              "  </div>\n",
              "\n",
              "    </div>\n",
              "  </div>\n"
            ],
            "application/vnd.google.colaboratory.intrinsic+json": {
              "type": "dataframe",
              "variable_name": "data",
              "summary": "{\n  \"name\": \"data\",\n  \"rows\": 2,\n  \"fields\": [\n    {\n      \"column\": \"Loan Status\",\n      \"properties\": {\n        \"dtype\": \"string\",\n        \"num_unique_values\": 2,\n        \"samples\": [\n          \"Did not default\",\n          \"Defaulted\"\n        ],\n        \"semantic_type\": \"\",\n        \"description\": \"\"\n      }\n    },\n    {\n      \"column\": 0,\n      \"properties\": {\n        \"dtype\": \"number\",\n        \"std\": 36857,\n        \"min\": 7517,\n        \"max\": 59641,\n        \"num_unique_values\": 2,\n        \"samples\": [\n          59641,\n          7517\n        ],\n        \"semantic_type\": \"\",\n        \"description\": \"\"\n      }\n    },\n    {\n      \"column\": 1,\n      \"properties\": {\n        \"dtype\": \"number\",\n        \"std\": 9006,\n        \"min\": 4375,\n        \"max\": 17112,\n        \"num_unique_values\": 2,\n        \"samples\": [\n          17112,\n          4375\n        ],\n        \"semantic_type\": \"\",\n        \"description\": \"\"\n      }\n    },\n    {\n      \"column\": 2,\n      \"properties\": {\n        \"dtype\": \"number\",\n        \"std\": 3823,\n        \"min\": 2974,\n        \"max\": 8381,\n        \"num_unique_values\": 2,\n        \"samples\": [\n          8381,\n          2974\n        ],\n        \"semantic_type\": \"\",\n        \"description\": \"\"\n      }\n    }\n  ]\n}"
            }
          },
          "metadata": {},
          "execution_count": 40
        }
      ]
    },
    {
      "cell_type": "code",
      "source": [
        " # Plot class balance\n",
        "df[\"number_of_defaults\"].value_counts(normalize=True).plot(\n",
        "    kind=\"bar\",\n",
        "    xlabel=\"Defaults\",\n",
        "    ylabel=\"Frequency\",\n",
        "    title=\"Status Balance\"\n",
        ");"
      ],
      "metadata": {
        "colab": {
          "base_uri": "https://localhost:8080/",
          "height": 467
        },
        "id": "moT6ZoiOQMMF",
        "outputId": "ed9aa4d9-4f76-4142-a660-fb63f525e0ff"
      },
      "execution_count": 41,
      "outputs": [
        {
          "output_type": "display_data",
          "data": {
            "text/plain": [
              "<Figure size 640x480 with 1 Axes>"
            ],
            "image/png": "[encoded data removed]"
          },
          "metadata": {}
        }
      ]
    },
    {
      "cell_type": "markdown",
      "source": [
        ">a good start, as majority of the clients did not default."
      ],
      "metadata": {
        "id": "otVSRs9YQ2Jk"
      }
    },
    {
      "cell_type": "code",
      "source": [
        "print(df['number_of_defaults'].value_counts())"
      ],
      "metadata": {
        "colab": {
          "base_uri": "https://localhost:8080/"
        },
        "id": "xMqcZ8wGQXrV",
        "outputId": "8b6ef1a5-ce11-4868-afbd-2f4c7623e5a7"
      },
      "execution_count": 42,
      "outputs": [
        {
          "output_type": "stream",
          "name": "stdout",
          "text": [
            "number_of_defaults\n",
            "0    67158\n",
            "1    21487\n",
            "2    11355\n",
            "Name: count, dtype: int64\n"
          ]
        }
      ]
    },
    {
      "cell_type": "code",
      "source": [
        "df['number_of_defaults'].describe()"
      ],
      "metadata": {
        "colab": {
          "base_uri": "https://localhost:8080/"
        },
        "id": "FvwZI-htQ7S0",
        "outputId": "73a3001f-0386-4593-c56a-94ca7f51c97b"
      },
      "execution_count": 43,
      "outputs": [
        {
          "output_type": "execute_result",
          "data": {
            "text/plain": [
              "count    100000.000000\n",
              "mean          0.441970\n",
              "std           0.688286\n",
              "min           0.000000\n",
              "25%           0.000000\n",
              "50%           0.000000\n",
              "75%           1.000000\n",
              "max           2.000000\n",
              "Name: number_of_defaults, dtype: float64"
            ]
          },
          "metadata": {},
          "execution_count": 43
        }
      ]
    },
    {
      "cell_type": "markdown",
      "source": [
        "\n",
        "\n",
        "---\n",
        "\n"
      ],
      "metadata": {
        "id": "Fjgg3s5ORE3o"
      }
    },
    {
      "cell_type": "markdown",
      "source": [
        ">4. Locations."
      ],
      "metadata": {
        "id": "Y0n6K-r9RHPu"
      }
    },
    {
      "cell_type": "code",
      "source": [
        "top_n = 20\n",
        "top_locations = df[\"location\"].value_counts(normalize=True).nlargest(top_n)\n",
        "other_locations_freq = 1 - top_locations.sum()\n",
        "top_locations['Other'] = other_locations_freq\n",
        "\n",
        "top_locations.plot(kind='bar', xlabel='Locations', ylabel='Frequency', title=f'Top {top_n} Locations Class Balance')\n",
        "plt.show()"
      ],
      "metadata": {
        "colab": {
          "base_uri": "https://localhost:8080/",
          "height": 550
        },
        "id": "RI3WJrb5RAls",
        "outputId": "004f772d-3ea3-4df8-84fc-17aefaecdabc"
      },
      "execution_count": 44,
      "outputs": [
        {
          "output_type": "display_data",
          "data": {
            "text/plain": [
              "<Figure size 640x480 with 1 Axes>"
            ],
            "image/png": "[encoded data removed]"
          },
          "metadata": {}
        }
      ]
    },
    {
      "cell_type": "markdown",
      "source": [
        ">the loans are being taken mostly in Harare and decrease as the above, so there is need to explore other locations as well."
      ],
      "metadata": {
        "id": "Q3TP9yEdRUPG"
      }
    },
    {
      "cell_type": "code",
      "source": [
        "print(df['location'].value_counts().nlargest(top_n))"
      ],
      "metadata": {
        "colab": {
          "base_uri": "https://localhost:8080/"
        },
        "id": "2JB0jHYkRNPN",
        "outputId": "9e284d88-0559-45bf-e0f2-3526ccc098b3"
      },
      "execution_count": 45,
      "outputs": [
        {
          "output_type": "stream",
          "name": "stdout",
          "text": [
            "location\n",
            "Harare         8338\n",
            "Bulawayo       8078\n",
            "Mutare         8062\n",
            "Gweru          7803\n",
            "Masvingo       7476\n",
            "Marondera      7343\n",
            "Rusape         6378\n",
            "Chivhu         6257\n",
            "Plumtree       5431\n",
            "Beitbridge     5181\n",
            "Chipinge       4358\n",
            "Chimanimani    4296\n",
            "Kwekwe         3401\n",
            "Chiredzi       3123\n",
            "Kadoma         3049\n",
            "Nyanga         2099\n",
            "Karoi          1850\n",
            "Shurugwi       1322\n",
            "Zvishavane     1276\n",
            "Gokwe           901\n",
            "Name: count, dtype: int64\n"
          ]
        }
      ]
    },
    {
      "cell_type": "code",
      "source": [
        "df['location'].describe()"
      ],
      "metadata": {
        "colab": {
          "base_uri": "https://localhost:8080/"
        },
        "id": "gfbu4Sg9RaAE",
        "outputId": "a0c31030-3019-4658-d7b2-4dbac173bb11"
      },
      "execution_count": 46,
      "outputs": [
        {
          "output_type": "execute_result",
          "data": {
            "text/plain": [
              "count      99405\n",
              "unique       157\n",
              "top       Harare\n",
              "freq        8338\n",
              "Name: location, dtype: object"
            ]
          },
          "metadata": {},
          "execution_count": 46
        }
      ]
    },
    {
      "cell_type": "code",
      "source": [
        "unique_locations =df['location'].unique()"
      ],
      "metadata": {
        "id": "4SglTSAQRfGM"
      },
      "execution_count": 47,
      "outputs": []
    },
    {
      "cell_type": "code",
      "source": [
        "unique_locations.shape"
      ],
      "metadata": {
        "colab": {
          "base_uri": "https://localhost:8080/"
        },
        "id": "IO1wG8SWRjAM",
        "outputId": "450862be-1c5a-4d22-ac9c-c420ad2b8dcd"
      },
      "execution_count": 48,
      "outputs": [
        {
          "output_type": "execute_result",
          "data": {
            "text/plain": [
              "(158,)"
            ]
          },
          "metadata": {},
          "execution_count": 48
        }
      ]
    },
    {
      "cell_type": "code",
      "source": [
        "unique = pd.DataFrame(unique_locations, columns= ['locations'])"
      ],
      "metadata": {
        "id": "Qga8j-2ERm22"
      },
      "execution_count": 49,
      "outputs": []
    },
    {
      "cell_type": "code",
      "source": [
        "unique.head(5)"
      ],
      "metadata": {
        "colab": {
          "base_uri": "https://localhost:8080/",
          "height": 206
        },
        "id": "NE6VKOwQSDu0",
        "outputId": "d745d7b0-320f-48ca-93bc-7d530a27f561"
      },
      "execution_count": 50,
      "outputs": [
        {
          "output_type": "execute_result",
          "data": {
            "text/plain": [
              "    locations\n",
              "0  Beitbridge\n",
              "1      Harare\n",
              "2       Gweru\n",
              "3      Rusape\n",
              "4    Chipinge"
            ],
            "text/html": [
              "\n",
              "  <div id=\"df-3ec430a7-7f6a-48f3-ba27-5f41345adbc2\" class=\"colab-df-container\">\n",
              "    <div>\n",
              "<style scoped>\n",
              "    .dataframe tbody tr th:only-of-type {\n",
              "        vertical-align: middle;\n",
              "    }\n",
              "\n",
              "    .dataframe tbody tr th {\n",
              "        vertical-align: top;\n",
              "    }\n",
              "\n",
              "    .dataframe thead th {\n",
              "        text-align: right;\n",
              "    }\n",
              "</style>\n",
              "<table border=\"1\" class=\"dataframe\">\n",
              "  <thead>\n",
              "    <tr style=\"text-align: right;\">\n",
              "      <th></th>\n",
              "      <th>locations</th>\n",
              "    </tr>\n",
              "  </thead>\n",
              "  <tbody>\n",
              "    <tr>\n",
              "      <th>0</th>\n",
              "      <td>Beitbridge</td>\n",
              "    </tr>\n",
              "    <tr>\n",
              "      <th>1</th>\n",
              "      <td>Harare</td>\n",
              "    </tr>\n",
              "    <tr>\n",
              "      <th>2</th>\n",
              "      <td>Gweru</td>\n",
              "    </tr>\n",
              "    <tr>\n",
              "      <th>3</th>\n",
              "      <td>Rusape</td>\n",
              "    </tr>\n",
              "    <tr>\n",
              "      <th>4</th>\n",
              "      <td>Chipinge</td>\n",
              "    </tr>\n",
              "  </tbody>\n",
              "</table>\n",
              "</div>\n",
              "    <div class=\"colab-df-buttons\">\n",
              "\n",
              "  <div class=\"colab-df-container\">\n",
              "    <button class=\"colab-df-convert\" onclick=\"convertToInteractive('df-3ec430a7-7f6a-48f3-ba27-5f41345adbc2')\"\n",
              "            title=\"Convert this dataframe to an interactive table.\"\n",
              "            style=\"display:none;\">\n",
              "\n",
              "  <svg xmlns=\"http://www.w3.org/2000/svg\" height=\"24px\" viewBox=\"0 -960 960 960\">\n",
              "    <path d=\"M120-120v-720h720v720H120Zm60-500h600v-160H180v160Zm220 220h160v-160H400v160Zm0 220h160v-160H400v160ZM180-400h160v-160H180v160Zm440 0h160v-160H620v160ZM180-180h160v-160H180v160Zm440 0h160v-160H620v160Z\"/>\n",
              "  </svg>\n",
              "    </button>\n",
              "\n",
              "  <style>\n",
              "    .colab-df-container {\n",
              "      display:flex;\n",
              "      gap: 12px;\n",
              "    }\n",
              "\n",
              "    .colab-df-convert {\n",
              "      background-color: #E8F0FE;\n",
              "      border: none;\n",
              "      border-radius: 50%;\n",
              "      cursor: pointer;\n",
              "      display: none;\n",
              "      fill: #1967D2;\n",
              "      height: 32px;\n",
              "      padding: 0 0 0 0;\n",
              "      width: 32px;\n",
              "    }\n",
              "\n",
              "    .colab-df-convert:hover {\n",
              "      background-color: #E2EBFA;\n",
              "      box-shadow: 0px 1px 2px rgba(60, 64, 67, 0.3), 0px 1px 3px 1px rgba(60, 64, 67, 0.15);\n",
              "      fill: #174EA6;\n",
              "    }\n",
              "\n",
              "    .colab-df-buttons div {\n",
              "      margin-bottom: 4px;\n",
              "    }\n",
              "\n",
              "    [theme=dark] .colab-df-convert {\n",
              "      background-color: #3B4455;\n",
              "      fill: #D2E3FC;\n",
              "    }\n",
              "\n",
              "    [theme=dark] .colab-df-convert:hover {\n",
              "      background-color: #434B5C;\n",
              "      box-shadow: 0px 1px 3px 1px rgba(0, 0, 0, 0.15);\n",
              "      filter: drop-shadow(0px 1px 2px rgba(0, 0, 0, 0.3));\n",
              "      fill: #FFFFFF;\n",
              "    }\n",
              "  </style>\n",
              "\n",
              "    <script>\n",
              "      const buttonEl =\n",
              "        document.querySelector('#df-3ec430a7-7f6a-48f3-ba27-5f41345adbc2 button.colab-df-convert');\n",
              "      buttonEl.style.display =\n",
              "        google.colab.kernel.accessAllowed ? 'block' : 'none';\n",
              "\n",
              "      async function convertToInteractive(key) {\n",
              "        const element = document.querySelector('#df-3ec430a7-7f6a-48f3-ba27-5f41345adbc2');\n",
              "        const dataTable =\n",
              "          await google.colab.kernel.invokeFunction('convertToInteractive',\n",
              "                                                    [key], {});\n",
              "        if (!dataTable) return;\n",
              "\n",
              "        const docLinkHtml = 'Like what you see? Visit the ' +\n",
              "          '<a target=\"_blank\" href=https://colab.research.google.com/notebooks/data_table.ipynb>data table notebook</a>'\n",
              "          + ' to learn more about interactive tables.';\n",
              "        element.innerHTML = '';\n",
              "        dataTable['output_type'] = 'display_data';\n",
              "        await google.colab.output.renderOutput(dataTable, element);\n",
              "        const docLink = document.createElement('div');\n",
              "        docLink.innerHTML = docLinkHtml;\n",
              "        element.appendChild(docLink);\n",
              "      }\n",
              "    </script>\n",
              "  </div>\n",
              "\n",
              "\n",
              "<div id=\"df-523c0c22-7337-480a-8a7f-abd9ba83117e\">\n",
              "  <button class=\"colab-df-quickchart\" onclick=\"quickchart('df-523c0c22-7337-480a-8a7f-abd9ba83117e')\"\n",
              "            title=\"Suggest charts\"\n",
              "            style=\"display:none;\">\n",
              "\n",
              "<svg xmlns=\"http://www.w3.org/2000/svg\" height=\"24px\"viewBox=\"0 0 24 24\"\n",
              "     width=\"24px\">\n",
              "    <g>\n",
              "        <path d=\"M19 3H5c-1.1 0-2 .9-2 2v14c0 1.1.9 2 2 2h14c1.1 0 2-.9 2-2V5c0-1.1-.9-2-2-2zM9 17H7v-7h2v7zm4 0h-2V7h2v10zm4 0h-2v-4h2v4z\"/>\n",
              "    </g>\n",
              "</svg>\n",
              "  </button>\n",
              "\n",
              "<style>\n",
              "  .colab-df-quickchart {\n",
              "      --bg-color: #E8F0FE;\n",
              "      --fill-color: #1967D2;\n",
              "      --hover-bg-color: #E2EBFA;\n",
              "      --hover-fill-color: #174EA6;\n",
              "      --disabled-fill-color: #AAA;\n",
              "      --disabled-bg-color: #DDD;\n",
              "  }\n",
              "\n",
              "  [theme=dark] .colab-df-quickchart {\n",
              "      --bg-color: #3B4455;\n",
              "      --fill-color: #D2E3FC;\n",
              "      --hover-bg-color: #434B5C;\n",
              "      --hover-fill-color: #FFFFFF;\n",
              "      --disabled-bg-color: #3B4455;\n",
              "      --disabled-fill-color: #666;\n",
              "  }\n",
              "\n",
              "  .colab-df-quickchart {\n",
              "    background-color: var(--bg-color);\n",
              "    border: none;\n",
              "    border-radius: 50%;\n",
              "    cursor: pointer;\n",
              "    display: none;\n",
              "    fill: var(--fill-color);\n",
              "    height: 32px;\n",
              "    padding: 0;\n",
              "    width: 32px;\n",
              "  }\n",
              "\n",
              "  .colab-df-quickchart:hover {\n",
              "    background-color: var(--hover-bg-color);\n",
              "    box-shadow: 0 1px 2px rgba(60, 64, 67, 0.3), 0 1px 3px 1px rgba(60, 64, 67, 0.15);\n",
              "    fill: var(--button-hover-fill-color);\n",
              "  }\n",
              "\n",
              "  .colab-df-quickchart-complete:disabled,\n",
              "  .colab-df-quickchart-complete:disabled:hover {\n",
              "    background-color: var(--disabled-bg-color);\n",
              "    fill: var(--disabled-fill-color);\n",
              "    box-shadow: none;\n",
              "  }\n",
              "\n",
              "  .colab-df-spinner {\n",
              "    border: 2px solid var(--fill-color);\n",
              "    border-color: transparent;\n",
              "    border-bottom-color: var(--fill-color);\n",
              "    animation:\n",
              "      spin 1s steps(1) infinite;\n",
              "  }\n",
              "\n",
              "  @keyframes spin {\n",
              "    0% {\n",
              "      border-color: transparent;\n",
              "      border-bottom-color: var(--fill-color);\n",
              "      border-left-color: var(--fill-color);\n",
              "    }\n",
              "    20% {\n",
              "      border-color: transparent;\n",
              "      border-left-color: var(--fill-color);\n",
              "      border-top-color: var(--fill-color);\n",
              "    }\n",
              "    30% {\n",
              "      border-color: transparent;\n",
              "      border-left-color: var(--fill-color);\n",
              "      border-top-color: var(--fill-color);\n",
              "      border-right-color: var(--fill-color);\n",
              "    }\n",
              "    40% {\n",
              "      border-color: transparent;\n",
              "      border-right-color: var(--fill-color);\n",
              "      border-top-color: var(--fill-color);\n",
              "    }\n",
              "    60% {\n",
              "      border-color: transparent;\n",
              "      border-right-color: var(--fill-color);\n",
              "    }\n",
              "    80% {\n",
              "      border-color: transparent;\n",
              "      border-right-color: var(--fill-color);\n",
              "      border-bottom-color: var(--fill-color);\n",
              "    }\n",
              "    90% {\n",
              "      border-color: transparent;\n",
              "      border-bottom-color: var(--fill-color);\n",
              "    }\n",
              "  }\n",
              "</style>\n",
              "\n",
              "  <script>\n",
              "    async function quickchart(key) {\n",
              "      const quickchartButtonEl =\n",
              "        document.querySelector('#' + key + ' button');\n",
              "      quickchartButtonEl.disabled = true;  // To prevent multiple clicks.\n",
              "      quickchartButtonEl.classList.add('colab-df-spinner');\n",
              "      try {\n",
              "        const charts = await google.colab.kernel.invokeFunction(\n",
              "            'suggestCharts', [key], {});\n",
              "      } catch (error) {\n",
              "        console.error('Error during call to suggestCharts:', error);\n",
              "      }\n",
              "      quickchartButtonEl.classList.remove('colab-df-spinner');\n",
              "      quickchartButtonEl.classList.add('colab-df-quickchart-complete');\n",
              "    }\n",
              "    (() => {\n",
              "      let quickchartButtonEl =\n",
              "        document.querySelector('#df-523c0c22-7337-480a-8a7f-abd9ba83117e button');\n",
              "      quickchartButtonEl.style.display =\n",
              "        google.colab.kernel.accessAllowed ? 'block' : 'none';\n",
              "    })();\n",
              "  </script>\n",
              "</div>\n",
              "\n",
              "    </div>\n",
              "  </div>\n"
            ],
            "application/vnd.google.colaboratory.intrinsic+json": {
              "type": "dataframe",
              "variable_name": "unique",
              "summary": "{\n  \"name\": \"unique\",\n  \"rows\": 158,\n  \"fields\": [\n    {\n      \"column\": \"locations\",\n      \"properties\": {\n        \"dtype\": \"string\",\n        \"num_unique_values\": 157,\n        \"samples\": [\n          \" Redcliff \",\n          \" Beitbridge \",\n          \"   Nyanga   \"\n        ],\n        \"semantic_type\": \"\",\n        \"description\": \"\"\n      }\n    }\n  ]\n}"
            }
          },
          "metadata": {},
          "execution_count": 50
        }
      ]
    },
    {
      "cell_type": "markdown",
      "source": [
        "\n",
        "\n",
        "---\n",
        "\n"
      ],
      "metadata": {
        "id": "APc8NF7ySOjL"
      }
    },
    {
      "cell_type": "markdown",
      "source": [
        ">5. Jobs."
      ],
      "metadata": {
        "id": "9qgmC6rkSVnA"
      }
    },
    {
      "cell_type": "code",
      "source": [
        " # Plot class balance\n",
        "df[\"job\"].value_counts(normalize=True).plot(\n",
        "    kind=\"bar\",\n",
        "    xlabel=\"Jobs\",\n",
        "    ylabel=\"Frequency\",\n",
        "    title=\"Job class Balance\"\n",
        ");"
      ],
      "metadata": {
        "colab": {
          "base_uri": "https://localhost:8080/",
          "height": 595
        },
        "id": "_BJGOPD0SPce",
        "outputId": "8a8ea524-d338-4efb-cef2-db546979becc"
      },
      "execution_count": 51,
      "outputs": [
        {
          "output_type": "display_data",
          "data": {
            "text/plain": [
              "<Figure size 640x480 with 1 Axes>"
            ],
            "image/png": "[encoded data removed]"
          },
          "metadata": {}
        }
      ]
    },
    {
      "cell_type": "code",
      "source": [
        "print(df['job'].value_counts())"
      ],
      "metadata": {
        "colab": {
          "base_uri": "https://localhost:8080/"
        },
        "id": "Z1txkMStSZ3U",
        "outputId": "ee833177-4b62-451b-82ca-adb47db6e909"
      },
      "execution_count": 52,
      "outputs": [
        {
          "output_type": "stream",
          "name": "stdout",
          "text": [
            "job\n",
            "Engineer              16524\n",
            "Nurse                 15284\n",
            "Data Analyst          13204\n",
            "Doctor                12186\n",
            "Software Developer    11932\n",
            "Teacher                8950\n",
            "Accountant             7802\n",
            "SoftwareDeveloper      3564\n",
            "Data Scientist         3521\n",
            "Lawyer                 2862\n",
            "Data Scintist            35\n",
            "Name: count, dtype: int64\n"
          ]
        }
      ]
    },
    {
      "cell_type": "code",
      "source": [
        "df['job'].describe()"
      ],
      "metadata": {
        "colab": {
          "base_uri": "https://localhost:8080/"
        },
        "id": "CcGqGOVISfUb",
        "outputId": "49989a35-ee84-4405-d748-b6fde3eac29b"
      },
      "execution_count": 53,
      "outputs": [
        {
          "output_type": "execute_result",
          "data": {
            "text/plain": [
              "count        95864\n",
              "unique          11\n",
              "top       Engineer\n",
              "freq         16524\n",
              "Name: job, dtype: object"
            ]
          },
          "metadata": {},
          "execution_count": 53
        }
      ]
    },
    {
      "cell_type": "markdown",
      "source": [
        "\n",
        "\n",
        "---\n",
        "\n"
      ],
      "metadata": {
        "id": "_0PA1gavSogA"
      }
    },
    {
      "cell_type": "markdown",
      "source": [
        ">6. Loan Amount."
      ],
      "metadata": {
        "id": "qQLeHl5ZSqEY"
      }
    },
    {
      "cell_type": "code",
      "source": [
        "print(df['loan_amount'].value_counts())"
      ],
      "metadata": {
        "colab": {
          "base_uri": "https://localhost:8080/"
        },
        "id": "8xXLNUodSj2b",
        "outputId": "b58a1623-bf91-47cf-b22c-1b7d403173f6"
      },
      "execution_count": 54,
      "outputs": [
        {
          "output_type": "stream",
          "name": "stdout",
          "text": [
            "loan_amount\n",
            "5000.0      3639\n",
            "33000.0     2877\n",
            "32000.0     2839\n",
            "35000.0     2811\n",
            "29000.0     2804\n",
            "            ... \n",
            "168000.0       1\n",
            "240000.0       1\n",
            "178000.0       1\n",
            "250000.0       1\n",
            "249000.0       1\n",
            "Name: count, Length: 149, dtype: int64\n"
          ]
        }
      ]
    },
    {
      "cell_type": "code",
      "source": [
        "df['loan_amount'].describe()"
      ],
      "metadata": {
        "colab": {
          "base_uri": "https://localhost:8080/"
        },
        "id": "P_lgdJ1DSu38",
        "outputId": "8160dae6-5e1c-4212-abbc-73d5dc83aaf6"
      },
      "execution_count": 55,
      "outputs": [
        {
          "output_type": "execute_result",
          "data": {
            "text/plain": [
              "count    100000.000000\n",
              "mean      31120.000000\n",
              "std       15895.093631\n",
              "min        1000.000000\n",
              "25%       21000.000000\n",
              "50%       31000.000000\n",
              "75%       40000.000000\n",
              "max      273000.000000\n",
              "Name: loan_amount, dtype: float64"
            ]
          },
          "metadata": {},
          "execution_count": 55
        }
      ]
    },
    {
      "cell_type": "code",
      "source": [
        "fig, ax =plt.subplots(figsize= (8,6))\n",
        "df['loan_amount'].plot(kind= \"box\", vert= False, title='Loan Distribution', ax=ax)\n",
        "plt.show()"
      ],
      "metadata": {
        "colab": {
          "base_uri": "https://localhost:8080/",
          "height": 545
        },
        "id": "9eXZs5P1SzoT",
        "outputId": "663666dd-3b4a-475d-de19-17995c1c3fe7"
      },
      "execution_count": 56,
      "outputs": [
        {
          "output_type": "display_data",
          "data": {
            "text/plain": [
              "<Figure size 800x600 with 1 Axes>"
            ],
            "image/png": "[encoded data removed]"
          },
          "metadata": {}
        }
      ]
    },
    {
      "cell_type": "markdown",
      "source": [
        "\n",
        "\n",
        "---\n",
        "\n",
        "\n"
      ],
      "metadata": {
        "id": "DKKh6mGCTCKy"
      }
    },
    {
      "cell_type": "markdown",
      "source": [
        ">7. Interest rate."
      ],
      "metadata": {
        "id": "2QpydWqgTAID"
      }
    },
    {
      "cell_type": "code",
      "source": [
        "print(df['interest_rate'].value_counts())"
      ],
      "metadata": {
        "colab": {
          "base_uri": "https://localhost:8080/"
        },
        "id": "hmqaAJnAS3s7",
        "outputId": "e3d7b3aa-20b9-4a18-ca5a-4604e68548e0"
      },
      "execution_count": 57,
      "outputs": [
        {
          "output_type": "stream",
          "name": "stdout",
          "text": [
            "interest_rate\n",
            "0.21    25514\n",
            "0.22    21412\n",
            "0.20    17647\n",
            "0.23    10854\n",
            "0.19     8743\n",
            "0.24     4726\n",
            "0.18     4259\n",
            "0.17     2087\n",
            "0.25     1964\n",
            "0.16     1056\n",
            "0.26      717\n",
            "0.15      454\n",
            "0.27      225\n",
            "0.14      182\n",
            "0.28       64\n",
            "0.13       53\n",
            "0.12       28\n",
            "0.29        9\n",
            "0.11        3\n",
            "0.10        2\n",
            "0.30        1\n",
            "Name: count, dtype: int64\n"
          ]
        }
      ]
    },
    {
      "cell_type": "code",
      "source": [
        "df['interest_rate'].describe()"
      ],
      "metadata": {
        "colab": {
          "base_uri": "https://localhost:8080/"
        },
        "id": "--4V7LslTRjo",
        "outputId": "4eaaa060-6bf3-43dc-cd74-3c6176d0aec0"
      },
      "execution_count": 58,
      "outputs": [
        {
          "output_type": "execute_result",
          "data": {
            "text/plain": [
              "count    100000.000000\n",
              "mean          0.210435\n",
              "std           0.018725\n",
              "min           0.100000\n",
              "25%           0.200000\n",
              "50%           0.210000\n",
              "75%           0.220000\n",
              "max           0.300000\n",
              "Name: interest_rate, dtype: float64"
            ]
          },
          "metadata": {},
          "execution_count": 58
        }
      ]
    },
    {
      "cell_type": "code",
      "source": [
        "fig, ax =plt.subplots(figsize= (8,6))\n",
        "df['interest_rate'].plot(kind= \"box\", vert= False, title='Rate Distribution', ax=ax)\n",
        "plt.show()"
      ],
      "metadata": {
        "colab": {
          "base_uri": "https://localhost:8080/",
          "height": 545
        },
        "id": "aF2nAdolTRff",
        "outputId": "90af4a78-5418-4761-d293-cab7cd063ebc"
      },
      "execution_count": 59,
      "outputs": [
        {
          "output_type": "display_data",
          "data": {
            "text/plain": [
              "<Figure size 800x600 with 1 Axes>"
            ],
            "image/png": "[encoded data removed]"
          },
          "metadata": {}
        }
      ]
    },
    {
      "cell_type": "markdown",
      "source": [
        "\n",
        "\n",
        "---\n",
        "\n"
      ],
      "metadata": {
        "id": "kmBuD3dDTety"
      }
    },
    {
      "cell_type": "markdown",
      "source": [
        ">8. Age."
      ],
      "metadata": {
        "id": "39ZuPCUkTc4I"
      }
    },
    {
      "cell_type": "code",
      "source": [],
      "metadata": {
        "id": "CBM3H5iYTRcJ"
      },
      "execution_count": null,
      "outputs": []
    },
    {
      "cell_type": "code",
      "source": [],
      "metadata": {
        "id": "0aXhsqkNTRYt"
      },
      "execution_count": null,
      "outputs": []
    },
    {
      "cell_type": "code",
      "source": [],
      "metadata": {
        "id": "HW_UIvizTRVF"
      },
      "execution_count": null,
      "outputs": []
    },
    {
      "cell_type": "code",
      "source": [],
      "metadata": {
        "id": "vbpwExK1TRRr"
      },
      "execution_count": null,
      "outputs": []
    },
    {
      "cell_type": "code",
      "source": [],
      "metadata": {
        "id": "aR8_s8PVTRNk"
      },
      "execution_count": null,
      "outputs": []
    },
    {
      "cell_type": "code",
      "source": [],
      "metadata": {
        "id": "u64WX-9UTRJK"
      },
      "execution_count": null,
      "outputs": []
    }
  ]
}